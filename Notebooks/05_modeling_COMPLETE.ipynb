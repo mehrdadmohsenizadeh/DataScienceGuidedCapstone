{
  "cells": [
    {
      "cell_type": "markdown",
      "metadata": {
        "id": "rcbZuEPGw8Xj"
      },
      "source": [
        "# 5 Modeling<a id='5_Modeling'></a>"
      ]
    },
    {
      "cell_type": "markdown",
      "metadata": {
        "id": "R0lVVVrEw8Xl"
      },
      "source": [
        "## 5.1 Contents<a id='5.1_Contents'></a>\n",
        "* [5 Modeling](#5_Modeling)\n",
        "  * [5.1 Contents](#5.1_Contents)\n",
        "  * [5.2 Introduction](#5.2_Introduction)\n",
        "  * [5.3 Imports](#5.3_Imports)\n",
        "  * [5.4 Load Model](#5.4_Load_Model)\n",
        "  * [5.5 Load Data](#5.5_Load_Data)\n",
        "  * [5.6 Refit Model On All Available Data (excluding Big Mountain)](#5.6_Refit_Model_On_All_Available_Data_(excluding_Big_Mountain))\n",
        "  * [5.7 Calculate Expected Big Mountain Ticket Price From The Model](#5.7_Calculate_Expected_Big_Mountain_Ticket_Price_From_The_Model)\n",
        "  * [5.8 Big Mountain Resort In Market Context](#5.8_Big_Mountain_Resort_In_Market_Context)\n",
        "    * [5.8.1 Ticket price](#5.8.1_Ticket_price)\n",
        "    * [5.8.2 Vertical drop](#5.8.2_Vertical_drop)\n",
        "    * [5.8.3 Snow making area](#5.8.3_Snow_making_area)\n",
        "    * [5.8.4 Total number of chairs](#5.8.4_Total_number_of_chairs)\n",
        "    * [5.8.5 Fast quads](#5.8.5_Fast_quads)\n",
        "    * [5.8.6 Runs](#5.8.6_Runs)\n",
        "    * [5.8.7 Longest run](#5.8.7_Longest_run)\n",
        "    * [5.8.8 Trams](#5.8.8_Trams)\n",
        "    * [5.8.9 Skiable terrain area](#5.8.9_Skiable_terrain_area)\n",
        "  * [5.9 Modeling scenarios](#5.9_Modeling_scenarios)\n",
        "    * [5.9.1 Scenario 1](#5.9.1_Scenario_1)\n",
        "    * [5.9.2 Scenario 2](#5.9.2_Scenario_2)\n",
        "    * [5.9.3 Scenario 3](#5.9.3_Scenario_3)\n",
        "    * [5.9.4 Scenario 4](#5.9.4_Scenario_4)\n",
        "  * [5.10 Summary](#5.10_Summary)\n",
        "  * [5.11 Further work](#5.11_Further_work)\n"
      ]
    },
    {
      "cell_type": "markdown",
      "metadata": {
        "id": "17oxj4y2w8Xl"
      },
      "source": [
        "## 5.2 Introduction<a id='5.2_Introduction'></a>"
      ]
    },
    {
      "cell_type": "markdown",
      "metadata": {
        "id": "JRwsSHnbw8Xm"
      },
      "source": [
        "In this notebook, we now take our model for ski resort ticket price and leverage it to gain some insights into what price Big Mountain's facilities might actually support as well as explore the sensitivity of changes to various resort parameters. Note that this relies on the implicit assumption that all other resorts are largely setting prices based on how much people value certain facilities. Essentially this assumes prices are set by a free market.\n",
        "\n",
        "We can now use our model to gain insight into what Big Mountain's ideal ticket price could/should be, and how that might change under various scenarios."
      ]
    },
    {
      "cell_type": "markdown",
      "metadata": {
        "id": "k4WY_ssOw8Xm"
      },
      "source": [
        "## 5.3 Imports<a id='5.3_Imports'></a>"
      ]
    },
    {
      "cell_type": "code",
      "execution_count": 1,
      "metadata": {
        "id": "UEk8zh68w8Xm"
      },
      "outputs": [],
      "source": [
        "import os\n",
        "import pickle\n",
        "import numpy as np\n",
        "import pandas as pd\n",
        "import seaborn as sns\n",
        "from os.path import join\n",
        "import matplotlib.pyplot as plt\n",
        "from sklearn import __version__ as sklearn_version\n",
        "from sklearn.model_selection import cross_validate"
      ]
    },
    {
      "cell_type": "markdown",
      "metadata": {
        "id": "ZmNe6BYVw8Xn"
      },
      "source": [
        "## 5.4 Load Model<a id='5.4_Load_Model'></a>"
      ]
    },
    {
      "cell_type": "code",
      "source": [
        "from google.colab import drive\n",
        "drive.mount('/content/drive')"
      ],
      "metadata": {
        "colab": {
          "base_uri": "https://localhost:8080/"
        },
        "id": "7rqwIpdLXHA9",
        "outputId": "02aa7c81-a62d-41d2-f85b-c0550df9dc8e"
      },
      "execution_count": 2,
      "outputs": [
        {
          "output_type": "stream",
          "name": "stdout",
          "text": [
            "Mounted at /content/drive\n"
          ]
        }
      ]
    },
    {
      "cell_type": "code",
      "source": [
        "path_default_google_drive = '/content/drive/MyDrive/Colab Notebooks'"
      ],
      "metadata": {
        "id": "7Wrzsms9Xqjy"
      },
      "execution_count": 3,
      "outputs": []
    },
    {
      "cell_type": "code",
      "execution_count": 4,
      "metadata": {
        "id": "x_gxtjXbw8Xn",
        "colab": {
          "base_uri": "https://localhost:8080/"
        },
        "outputId": "9631cf21-44c4-4ff3-c72c-3576bf40106f"
      },
      "outputs": [
        {
          "output_type": "stream",
          "name": "stdout",
          "text": [
            "Model was loaded successfully!\n"
          ]
        }
      ],
      "source": [
        "# This isn't exactly production-grade, but a quick check for development\n",
        "# These checks can save some head-scratching in development when moving from\n",
        "# one python environment to another, for example\n",
        "expected_model_version = '1.0'\n",
        "\n",
        "model_path = join(\n",
        "      path_default_google_drive\n",
        "    , 'models/ski_resort_pricing_model.pkl'\n",
        ")\n",
        "\n",
        "if os.path.exists(model_path):\n",
        "    with open(model_path, 'rb') as f:\n",
        "        model = pickle.load(f)\n",
        "        print(\"Model was loaded successfully!\")\n",
        "    if model.version != expected_model_version:\n",
        "        print(\"Expected model version doesn't match version loaded\")\n",
        "    if model.sklearn_version != sklearn_version:\n",
        "        print(\"Warning: model created under different sklearn version\")\n",
        "else:\n",
        "    print(\"Expected model not found\")"
      ]
    },
    {
      "cell_type": "markdown",
      "metadata": {
        "id": "Dt1wRUaQw8Xo"
      },
      "source": [
        "## 5.5 Load Data<a id='5.5_Load_Data'></a>"
      ]
    },
    {
      "cell_type": "code",
      "execution_count": 5,
      "metadata": {
        "id": "Xrs_zR_fw8Xo"
      },
      "outputs": [],
      "source": [
        "ski_data = pd.read_csv(\n",
        "    join(\n",
        "          path_default_google_drive\n",
        "        , 'data/ski_data_step3_features.csv'\n",
        "    )\n",
        ")"
      ]
    },
    {
      "cell_type": "code",
      "execution_count": 6,
      "metadata": {
        "id": "PNUod1vZw8Xo"
      },
      "outputs": [],
      "source": [
        "big_mountain = ski_data[ski_data.Name == 'Big Mountain Resort']"
      ]
    },
    {
      "cell_type": "code",
      "execution_count": 7,
      "metadata": {
        "scrolled": true,
        "id": "zeVhLDYxw8Xo",
        "outputId": "c01bdc10-cde5-4932-f2dd-7cc1c7e66658",
        "colab": {
          "base_uri": "https://localhost:8080/",
          "height": 1000
        }
      },
      "outputs": [
        {
          "output_type": "execute_result",
          "data": {
            "text/plain": [
              "                                                    124\n",
              "Name                                Big Mountain Resort\n",
              "Region                                          Montana\n",
              "state                                           Montana\n",
              "summit_elev                                        6817\n",
              "vertical_drop                                      2353\n",
              "base_elev                                          4464\n",
              "trams                                                 0\n",
              "fastSixes                                             0\n",
              "fastQuads                                             3\n",
              "quad                                                  2\n",
              "triple                                                6\n",
              "double                                                0\n",
              "surface                                               3\n",
              "total_chairs                                         14\n",
              "Runs                                              105.0\n",
              "TerrainParks                                        4.0\n",
              "LongestRun_mi                                       3.3\n",
              "SkiableTerrain_ac                                3000.0\n",
              "Snow Making_ac                                    600.0\n",
              "daysOpenLastYear                                  123.0\n",
              "yearsOpen                                          72.0\n",
              "averageSnowfall                                   333.0\n",
              "AdultWeekend                                       81.0\n",
              "projectedDaysOpen                                 123.0\n",
              "NightSkiing_ac                                    600.0\n",
              "resorts_per_state                                    12\n",
              "resorts_per_100kcapita                         1.122778\n",
              "resorts_per_100ksq_mile                        8.161045\n",
              "resort_skiable_area_ac_state_ratio             0.140121\n",
              "resort_days_open_state_ratio                   0.129338\n",
              "resort_terrain_park_state_ratio                0.148148\n",
              "resort_night_skiing_state_ratio                 0.84507\n",
              "total_chairs_runs_ratio                        0.133333\n",
              "total_chairs_skiable_ratio                     0.004667\n",
              "fastQuads_runs_ratio                           0.028571\n",
              "fastQuads_skiable_ratio                           0.001"
            ],
            "text/html": [
              "\n",
              "\n",
              "  <div id=\"df-67bdf46a-88d1-411e-aee2-4e5a28976ba3\">\n",
              "    <div class=\"colab-df-container\">\n",
              "      <div>\n",
              "<style scoped>\n",
              "    .dataframe tbody tr th:only-of-type {\n",
              "        vertical-align: middle;\n",
              "    }\n",
              "\n",
              "    .dataframe tbody tr th {\n",
              "        vertical-align: top;\n",
              "    }\n",
              "\n",
              "    .dataframe thead th {\n",
              "        text-align: right;\n",
              "    }\n",
              "</style>\n",
              "<table border=\"1\" class=\"dataframe\">\n",
              "  <thead>\n",
              "    <tr style=\"text-align: right;\">\n",
              "      <th></th>\n",
              "      <th>124</th>\n",
              "    </tr>\n",
              "  </thead>\n",
              "  <tbody>\n",
              "    <tr>\n",
              "      <th>Name</th>\n",
              "      <td>Big Mountain Resort</td>\n",
              "    </tr>\n",
              "    <tr>\n",
              "      <th>Region</th>\n",
              "      <td>Montana</td>\n",
              "    </tr>\n",
              "    <tr>\n",
              "      <th>state</th>\n",
              "      <td>Montana</td>\n",
              "    </tr>\n",
              "    <tr>\n",
              "      <th>summit_elev</th>\n",
              "      <td>6817</td>\n",
              "    </tr>\n",
              "    <tr>\n",
              "      <th>vertical_drop</th>\n",
              "      <td>2353</td>\n",
              "    </tr>\n",
              "    <tr>\n",
              "      <th>base_elev</th>\n",
              "      <td>4464</td>\n",
              "    </tr>\n",
              "    <tr>\n",
              "      <th>trams</th>\n",
              "      <td>0</td>\n",
              "    </tr>\n",
              "    <tr>\n",
              "      <th>fastSixes</th>\n",
              "      <td>0</td>\n",
              "    </tr>\n",
              "    <tr>\n",
              "      <th>fastQuads</th>\n",
              "      <td>3</td>\n",
              "    </tr>\n",
              "    <tr>\n",
              "      <th>quad</th>\n",
              "      <td>2</td>\n",
              "    </tr>\n",
              "    <tr>\n",
              "      <th>triple</th>\n",
              "      <td>6</td>\n",
              "    </tr>\n",
              "    <tr>\n",
              "      <th>double</th>\n",
              "      <td>0</td>\n",
              "    </tr>\n",
              "    <tr>\n",
              "      <th>surface</th>\n",
              "      <td>3</td>\n",
              "    </tr>\n",
              "    <tr>\n",
              "      <th>total_chairs</th>\n",
              "      <td>14</td>\n",
              "    </tr>\n",
              "    <tr>\n",
              "      <th>Runs</th>\n",
              "      <td>105.0</td>\n",
              "    </tr>\n",
              "    <tr>\n",
              "      <th>TerrainParks</th>\n",
              "      <td>4.0</td>\n",
              "    </tr>\n",
              "    <tr>\n",
              "      <th>LongestRun_mi</th>\n",
              "      <td>3.3</td>\n",
              "    </tr>\n",
              "    <tr>\n",
              "      <th>SkiableTerrain_ac</th>\n",
              "      <td>3000.0</td>\n",
              "    </tr>\n",
              "    <tr>\n",
              "      <th>Snow Making_ac</th>\n",
              "      <td>600.0</td>\n",
              "    </tr>\n",
              "    <tr>\n",
              "      <th>daysOpenLastYear</th>\n",
              "      <td>123.0</td>\n",
              "    </tr>\n",
              "    <tr>\n",
              "      <th>yearsOpen</th>\n",
              "      <td>72.0</td>\n",
              "    </tr>\n",
              "    <tr>\n",
              "      <th>averageSnowfall</th>\n",
              "      <td>333.0</td>\n",
              "    </tr>\n",
              "    <tr>\n",
              "      <th>AdultWeekend</th>\n",
              "      <td>81.0</td>\n",
              "    </tr>\n",
              "    <tr>\n",
              "      <th>projectedDaysOpen</th>\n",
              "      <td>123.0</td>\n",
              "    </tr>\n",
              "    <tr>\n",
              "      <th>NightSkiing_ac</th>\n",
              "      <td>600.0</td>\n",
              "    </tr>\n",
              "    <tr>\n",
              "      <th>resorts_per_state</th>\n",
              "      <td>12</td>\n",
              "    </tr>\n",
              "    <tr>\n",
              "      <th>resorts_per_100kcapita</th>\n",
              "      <td>1.122778</td>\n",
              "    </tr>\n",
              "    <tr>\n",
              "      <th>resorts_per_100ksq_mile</th>\n",
              "      <td>8.161045</td>\n",
              "    </tr>\n",
              "    <tr>\n",
              "      <th>resort_skiable_area_ac_state_ratio</th>\n",
              "      <td>0.140121</td>\n",
              "    </tr>\n",
              "    <tr>\n",
              "      <th>resort_days_open_state_ratio</th>\n",
              "      <td>0.129338</td>\n",
              "    </tr>\n",
              "    <tr>\n",
              "      <th>resort_terrain_park_state_ratio</th>\n",
              "      <td>0.148148</td>\n",
              "    </tr>\n",
              "    <tr>\n",
              "      <th>resort_night_skiing_state_ratio</th>\n",
              "      <td>0.84507</td>\n",
              "    </tr>\n",
              "    <tr>\n",
              "      <th>total_chairs_runs_ratio</th>\n",
              "      <td>0.133333</td>\n",
              "    </tr>\n",
              "    <tr>\n",
              "      <th>total_chairs_skiable_ratio</th>\n",
              "      <td>0.004667</td>\n",
              "    </tr>\n",
              "    <tr>\n",
              "      <th>fastQuads_runs_ratio</th>\n",
              "      <td>0.028571</td>\n",
              "    </tr>\n",
              "    <tr>\n",
              "      <th>fastQuads_skiable_ratio</th>\n",
              "      <td>0.001</td>\n",
              "    </tr>\n",
              "  </tbody>\n",
              "</table>\n",
              "</div>\n",
              "      <button class=\"colab-df-convert\" onclick=\"convertToInteractive('df-67bdf46a-88d1-411e-aee2-4e5a28976ba3')\"\n",
              "              title=\"Convert this dataframe to an interactive table.\"\n",
              "              style=\"display:none;\">\n",
              "\n",
              "  <svg xmlns=\"http://www.w3.org/2000/svg\" height=\"24px\"viewBox=\"0 0 24 24\"\n",
              "       width=\"24px\">\n",
              "    <path d=\"M0 0h24v24H0V0z\" fill=\"none\"/>\n",
              "    <path d=\"M18.56 5.44l.94 2.06.94-2.06 2.06-.94-2.06-.94-.94-2.06-.94 2.06-2.06.94zm-11 1L8.5 8.5l.94-2.06 2.06-.94-2.06-.94L8.5 2.5l-.94 2.06-2.06.94zm10 10l.94 2.06.94-2.06 2.06-.94-2.06-.94-.94-2.06-.94 2.06-2.06.94z\"/><path d=\"M17.41 7.96l-1.37-1.37c-.4-.4-.92-.59-1.43-.59-.52 0-1.04.2-1.43.59L10.3 9.45l-7.72 7.72c-.78.78-.78 2.05 0 2.83L4 21.41c.39.39.9.59 1.41.59.51 0 1.02-.2 1.41-.59l7.78-7.78 2.81-2.81c.8-.78.8-2.07 0-2.86zM5.41 20L4 18.59l7.72-7.72 1.47 1.35L5.41 20z\"/>\n",
              "  </svg>\n",
              "      </button>\n",
              "\n",
              "\n",
              "\n",
              "    <div id=\"df-f0948d2b-2882-47ba-a7d3-0dc0cdf4e80a\">\n",
              "      <button class=\"colab-df-quickchart\" onclick=\"quickchart('df-f0948d2b-2882-47ba-a7d3-0dc0cdf4e80a')\"\n",
              "              title=\"Suggest charts.\"\n",
              "              style=\"display:none;\">\n",
              "\n",
              "<svg xmlns=\"http://www.w3.org/2000/svg\" height=\"24px\"viewBox=\"0 0 24 24\"\n",
              "     width=\"24px\">\n",
              "    <g>\n",
              "        <path d=\"M19 3H5c-1.1 0-2 .9-2 2v14c0 1.1.9 2 2 2h14c1.1 0 2-.9 2-2V5c0-1.1-.9-2-2-2zM9 17H7v-7h2v7zm4 0h-2V7h2v10zm4 0h-2v-4h2v4z\"/>\n",
              "    </g>\n",
              "</svg>\n",
              "      </button>\n",
              "    </div>\n",
              "\n",
              "<style>\n",
              "  .colab-df-quickchart {\n",
              "    background-color: #E8F0FE;\n",
              "    border: none;\n",
              "    border-radius: 50%;\n",
              "    cursor: pointer;\n",
              "    display: none;\n",
              "    fill: #1967D2;\n",
              "    height: 32px;\n",
              "    padding: 0 0 0 0;\n",
              "    width: 32px;\n",
              "  }\n",
              "\n",
              "  .colab-df-quickchart:hover {\n",
              "    background-color: #E2EBFA;\n",
              "    box-shadow: 0px 1px 2px rgba(60, 64, 67, 0.3), 0px 1px 3px 1px rgba(60, 64, 67, 0.15);\n",
              "    fill: #174EA6;\n",
              "  }\n",
              "\n",
              "  [theme=dark] .colab-df-quickchart {\n",
              "    background-color: #3B4455;\n",
              "    fill: #D2E3FC;\n",
              "  }\n",
              "\n",
              "  [theme=dark] .colab-df-quickchart:hover {\n",
              "    background-color: #434B5C;\n",
              "    box-shadow: 0px 1px 3px 1px rgba(0, 0, 0, 0.15);\n",
              "    filter: drop-shadow(0px 1px 2px rgba(0, 0, 0, 0.3));\n",
              "    fill: #FFFFFF;\n",
              "  }\n",
              "</style>\n",
              "\n",
              "    <script>\n",
              "      async function quickchart(key) {\n",
              "        const containerElement = document.querySelector('#' + key);\n",
              "        const charts = await google.colab.kernel.invokeFunction(\n",
              "            'suggestCharts', [key], {});\n",
              "      }\n",
              "    </script>\n",
              "\n",
              "      <script>\n",
              "\n",
              "function displayQuickchartButton(domScope) {\n",
              "  let quickchartButtonEl =\n",
              "    domScope.querySelector('#df-f0948d2b-2882-47ba-a7d3-0dc0cdf4e80a button.colab-df-quickchart');\n",
              "  quickchartButtonEl.style.display =\n",
              "    google.colab.kernel.accessAllowed ? 'block' : 'none';\n",
              "}\n",
              "\n",
              "        displayQuickchartButton(document);\n",
              "      </script>\n",
              "      <style>\n",
              "    .colab-df-container {\n",
              "      display:flex;\n",
              "      flex-wrap:wrap;\n",
              "      gap: 12px;\n",
              "    }\n",
              "\n",
              "    .colab-df-convert {\n",
              "      background-color: #E8F0FE;\n",
              "      border: none;\n",
              "      border-radius: 50%;\n",
              "      cursor: pointer;\n",
              "      display: none;\n",
              "      fill: #1967D2;\n",
              "      height: 32px;\n",
              "      padding: 0 0 0 0;\n",
              "      width: 32px;\n",
              "    }\n",
              "\n",
              "    .colab-df-convert:hover {\n",
              "      background-color: #E2EBFA;\n",
              "      box-shadow: 0px 1px 2px rgba(60, 64, 67, 0.3), 0px 1px 3px 1px rgba(60, 64, 67, 0.15);\n",
              "      fill: #174EA6;\n",
              "    }\n",
              "\n",
              "    [theme=dark] .colab-df-convert {\n",
              "      background-color: #3B4455;\n",
              "      fill: #D2E3FC;\n",
              "    }\n",
              "\n",
              "    [theme=dark] .colab-df-convert:hover {\n",
              "      background-color: #434B5C;\n",
              "      box-shadow: 0px 1px 3px 1px rgba(0, 0, 0, 0.15);\n",
              "      filter: drop-shadow(0px 1px 2px rgba(0, 0, 0, 0.3));\n",
              "      fill: #FFFFFF;\n",
              "    }\n",
              "  </style>\n",
              "\n",
              "      <script>\n",
              "        const buttonEl =\n",
              "          document.querySelector('#df-67bdf46a-88d1-411e-aee2-4e5a28976ba3 button.colab-df-convert');\n",
              "        buttonEl.style.display =\n",
              "          google.colab.kernel.accessAllowed ? 'block' : 'none';\n",
              "\n",
              "        async function convertToInteractive(key) {\n",
              "          const element = document.querySelector('#df-67bdf46a-88d1-411e-aee2-4e5a28976ba3');\n",
              "          const dataTable =\n",
              "            await google.colab.kernel.invokeFunction('convertToInteractive',\n",
              "                                                     [key], {});\n",
              "          if (!dataTable) return;\n",
              "\n",
              "          const docLinkHtml = 'Like what you see? Visit the ' +\n",
              "            '<a target=\"_blank\" href=https://colab.research.google.com/notebooks/data_table.ipynb>data table notebook</a>'\n",
              "            + ' to learn more about interactive tables.';\n",
              "          element.innerHTML = '';\n",
              "          dataTable['output_type'] = 'display_data';\n",
              "          await google.colab.output.renderOutput(dataTable, element);\n",
              "          const docLink = document.createElement('div');\n",
              "          docLink.innerHTML = docLinkHtml;\n",
              "          element.appendChild(docLink);\n",
              "        }\n",
              "      </script>\n",
              "    </div>\n",
              "  </div>\n"
            ]
          },
          "metadata": {},
          "execution_count": 7
        }
      ],
      "source": [
        "big_mountain.T"
      ]
    },
    {
      "cell_type": "markdown",
      "metadata": {
        "id": "E47v9L4ew8Xp"
      },
      "source": [
        "## 5.6 Refit Model On All Available Data (excluding Big Mountain)<a id='5.6_Refit_Model_On_All_Available_Data_(excluding_Big_Mountain)'></a>"
      ]
    },
    {
      "cell_type": "markdown",
      "metadata": {
        "id": "iu-hblJVw8Xp"
      },
      "source": [
        "This next step requires some careful thought. We want to refit the model using all available data. But should we include Big Mountain data? On the one hand, we are _not_ trying to estimate model performance on a previously unseen data sample, so theoretically including Big Mountain data should be fine. One might first think that including Big Mountain in the model training would, if anything, improve model performance in predicting Big Mountain's ticket price. But here's where our business context comes in. The motivation for this entire project is based on the sense that Big Mountain needs to adjust its pricing. One way to phrase this problem: we want to train a model to predict Big Mountain's ticket price based on data from _all the other_ resorts! We don't want Big Mountain's current price to bias this. We want to calculate a price based only on its competitors."
      ]
    },
    {
      "cell_type": "code",
      "execution_count": 8,
      "metadata": {
        "id": "V19Rlb39w8Xp"
      },
      "outputs": [],
      "source": [
        "X = ski_data.loc[ski_data.Name != \"Big Mountain Resort\", model.X_columns]\n",
        "y = ski_data.loc[ski_data.Name != \"Big Mountain Resort\", 'AdultWeekend']"
      ]
    },
    {
      "cell_type": "code",
      "execution_count": 9,
      "metadata": {
        "id": "oyLpV05-w8Xq",
        "outputId": "f0e84ab8-245d-48b4-8c2f-808c1b757338",
        "colab": {
          "base_uri": "https://localhost:8080/"
        }
      },
      "outputs": [
        {
          "output_type": "execute_result",
          "data": {
            "text/plain": [
              "(276, 276)"
            ]
          },
          "metadata": {},
          "execution_count": 9
        }
      ],
      "source": [
        "len(X), len(y)"
      ]
    },
    {
      "cell_type": "code",
      "execution_count": 10,
      "metadata": {
        "id": "pH-OGVeYw8Xq",
        "outputId": "f601ba85-a373-44e3-a4e4-ee8630316747",
        "colab": {
          "base_uri": "https://localhost:8080/",
          "height": 161
        }
      },
      "outputs": [
        {
          "output_type": "execute_result",
          "data": {
            "text/plain": [
              "Pipeline(steps=[('simpleimputer', SimpleImputer(strategy='median')),\n",
              "                ('standardscaler', None),\n",
              "                ('randomforestregressor',\n",
              "                 RandomForestRegressor(n_estimators=69, random_state=47))])"
            ],
            "text/html": [
              "<style>#sk-container-id-1 {color: black;background-color: white;}#sk-container-id-1 pre{padding: 0;}#sk-container-id-1 div.sk-toggleable {background-color: white;}#sk-container-id-1 label.sk-toggleable__label {cursor: pointer;display: block;width: 100%;margin-bottom: 0;padding: 0.3em;box-sizing: border-box;text-align: center;}#sk-container-id-1 label.sk-toggleable__label-arrow:before {content: \"▸\";float: left;margin-right: 0.25em;color: #696969;}#sk-container-id-1 label.sk-toggleable__label-arrow:hover:before {color: black;}#sk-container-id-1 div.sk-estimator:hover label.sk-toggleable__label-arrow:before {color: black;}#sk-container-id-1 div.sk-toggleable__content {max-height: 0;max-width: 0;overflow: hidden;text-align: left;background-color: #f0f8ff;}#sk-container-id-1 div.sk-toggleable__content pre {margin: 0.2em;color: black;border-radius: 0.25em;background-color: #f0f8ff;}#sk-container-id-1 input.sk-toggleable__control:checked~div.sk-toggleable__content {max-height: 200px;max-width: 100%;overflow: auto;}#sk-container-id-1 input.sk-toggleable__control:checked~label.sk-toggleable__label-arrow:before {content: \"▾\";}#sk-container-id-1 div.sk-estimator input.sk-toggleable__control:checked~label.sk-toggleable__label {background-color: #d4ebff;}#sk-container-id-1 div.sk-label input.sk-toggleable__control:checked~label.sk-toggleable__label {background-color: #d4ebff;}#sk-container-id-1 input.sk-hidden--visually {border: 0;clip: rect(1px 1px 1px 1px);clip: rect(1px, 1px, 1px, 1px);height: 1px;margin: -1px;overflow: hidden;padding: 0;position: absolute;width: 1px;}#sk-container-id-1 div.sk-estimator {font-family: monospace;background-color: #f0f8ff;border: 1px dotted black;border-radius: 0.25em;box-sizing: border-box;margin-bottom: 0.5em;}#sk-container-id-1 div.sk-estimator:hover {background-color: #d4ebff;}#sk-container-id-1 div.sk-parallel-item::after {content: \"\";width: 100%;border-bottom: 1px solid gray;flex-grow: 1;}#sk-container-id-1 div.sk-label:hover label.sk-toggleable__label {background-color: #d4ebff;}#sk-container-id-1 div.sk-serial::before {content: \"\";position: absolute;border-left: 1px solid gray;box-sizing: border-box;top: 0;bottom: 0;left: 50%;z-index: 0;}#sk-container-id-1 div.sk-serial {display: flex;flex-direction: column;align-items: center;background-color: white;padding-right: 0.2em;padding-left: 0.2em;position: relative;}#sk-container-id-1 div.sk-item {position: relative;z-index: 1;}#sk-container-id-1 div.sk-parallel {display: flex;align-items: stretch;justify-content: center;background-color: white;position: relative;}#sk-container-id-1 div.sk-item::before, #sk-container-id-1 div.sk-parallel-item::before {content: \"\";position: absolute;border-left: 1px solid gray;box-sizing: border-box;top: 0;bottom: 0;left: 50%;z-index: -1;}#sk-container-id-1 div.sk-parallel-item {display: flex;flex-direction: column;z-index: 1;position: relative;background-color: white;}#sk-container-id-1 div.sk-parallel-item:first-child::after {align-self: flex-end;width: 50%;}#sk-container-id-1 div.sk-parallel-item:last-child::after {align-self: flex-start;width: 50%;}#sk-container-id-1 div.sk-parallel-item:only-child::after {width: 0;}#sk-container-id-1 div.sk-dashed-wrapped {border: 1px dashed gray;margin: 0 0.4em 0.5em 0.4em;box-sizing: border-box;padding-bottom: 0.4em;background-color: white;}#sk-container-id-1 div.sk-label label {font-family: monospace;font-weight: bold;display: inline-block;line-height: 1.2em;}#sk-container-id-1 div.sk-label-container {text-align: center;}#sk-container-id-1 div.sk-container {/* jupyter's `normalize.less` sets `[hidden] { display: none; }` but bootstrap.min.css set `[hidden] { display: none !important; }` so we also need the `!important` here to be able to override the default hidden behavior on the sphinx rendered scikit-learn.org. See: https://github.com/scikit-learn/scikit-learn/issues/21755 */display: inline-block !important;position: relative;}#sk-container-id-1 div.sk-text-repr-fallback {display: none;}</style><div id=\"sk-container-id-1\" class=\"sk-top-container\"><div class=\"sk-text-repr-fallback\"><pre>Pipeline(steps=[(&#x27;simpleimputer&#x27;, SimpleImputer(strategy=&#x27;median&#x27;)),\n",
              "                (&#x27;standardscaler&#x27;, None),\n",
              "                (&#x27;randomforestregressor&#x27;,\n",
              "                 RandomForestRegressor(n_estimators=69, random_state=47))])</pre><b>In a Jupyter environment, please rerun this cell to show the HTML representation or trust the notebook. <br />On GitHub, the HTML representation is unable to render, please try loading this page with nbviewer.org.</b></div><div class=\"sk-container\" hidden><div class=\"sk-item sk-dashed-wrapped\"><div class=\"sk-label-container\"><div class=\"sk-label sk-toggleable\"><input class=\"sk-toggleable__control sk-hidden--visually\" id=\"sk-estimator-id-1\" type=\"checkbox\" ><label for=\"sk-estimator-id-1\" class=\"sk-toggleable__label sk-toggleable__label-arrow\">Pipeline</label><div class=\"sk-toggleable__content\"><pre>Pipeline(steps=[(&#x27;simpleimputer&#x27;, SimpleImputer(strategy=&#x27;median&#x27;)),\n",
              "                (&#x27;standardscaler&#x27;, None),\n",
              "                (&#x27;randomforestregressor&#x27;,\n",
              "                 RandomForestRegressor(n_estimators=69, random_state=47))])</pre></div></div></div><div class=\"sk-serial\"><div class=\"sk-item\"><div class=\"sk-estimator sk-toggleable\"><input class=\"sk-toggleable__control sk-hidden--visually\" id=\"sk-estimator-id-2\" type=\"checkbox\" ><label for=\"sk-estimator-id-2\" class=\"sk-toggleable__label sk-toggleable__label-arrow\">SimpleImputer</label><div class=\"sk-toggleable__content\"><pre>SimpleImputer(strategy=&#x27;median&#x27;)</pre></div></div></div><div class=\"sk-item\"><div class=\"sk-estimator sk-toggleable\"><input class=\"sk-toggleable__control sk-hidden--visually\" id=\"sk-estimator-id-3\" type=\"checkbox\" ><label for=\"sk-estimator-id-3\" class=\"sk-toggleable__label sk-toggleable__label-arrow\">None</label><div class=\"sk-toggleable__content\"><pre>None</pre></div></div></div><div class=\"sk-item\"><div class=\"sk-estimator sk-toggleable\"><input class=\"sk-toggleable__control sk-hidden--visually\" id=\"sk-estimator-id-4\" type=\"checkbox\" ><label for=\"sk-estimator-id-4\" class=\"sk-toggleable__label sk-toggleable__label-arrow\">RandomForestRegressor</label><div class=\"sk-toggleable__content\"><pre>RandomForestRegressor(n_estimators=69, random_state=47)</pre></div></div></div></div></div></div></div>"
            ]
          },
          "metadata": {},
          "execution_count": 10
        }
      ],
      "source": [
        "model.fit(X, y)"
      ]
    },
    {
      "cell_type": "code",
      "execution_count": 11,
      "metadata": {
        "id": "VlBQftMuw8Xq"
      },
      "outputs": [],
      "source": [
        "cv_results = cross_validate(\n",
        "      model\n",
        "    , X\n",
        "    , y\n",
        "    , scoring = 'neg_mean_absolute_error'\n",
        "    , cv      = 5\n",
        "    , n_jobs  = -1\n",
        ")"
      ]
    },
    {
      "cell_type": "code",
      "execution_count": 12,
      "metadata": {
        "id": "KRJBoSU7w8Xq",
        "outputId": "80557498-4030-48b3-ede1-91430bbd4980",
        "colab": {
          "base_uri": "https://localhost:8080/"
        }
      },
      "outputs": [
        {
          "output_type": "execute_result",
          "data": {
            "text/plain": [
              "array([-12.09690217,  -9.30247694, -11.41595784,  -8.10096706,\n",
              "       -11.04942819])"
            ]
          },
          "metadata": {},
          "execution_count": 12
        }
      ],
      "source": [
        "cv_results['test_score']"
      ]
    },
    {
      "cell_type": "code",
      "execution_count": 13,
      "metadata": {
        "id": "7-2AEqpzw8Xq",
        "outputId": "03082349-f93a-4fa1-c9f1-76f15b90972f",
        "colab": {
          "base_uri": "https://localhost:8080/"
        }
      },
      "outputs": [
        {
          "output_type": "execute_result",
          "data": {
            "text/plain": [
              "(10.393146442687748, 1.4712769116280346)"
            ]
          },
          "metadata": {},
          "execution_count": 13
        }
      ],
      "source": [
        "mae_mean, mae_std = np.mean(-1 * cv_results['test_score']), np.std(-1 * cv_results['test_score'])\n",
        "mae_mean, mae_std"
      ]
    },
    {
      "cell_type": "markdown",
      "metadata": {
        "id": "_8DPd2KHw8Xr"
      },
      "source": [
        "These numbers will inevitably be different to those in the previous step that used a different training data set. They should, however, be consistent. It's important to appreciate that estimates of model performance are subject to the noise and uncertainty of data!"
      ]
    },
    {
      "cell_type": "markdown",
      "metadata": {
        "id": "LLp8nMH1w8Xr"
      },
      "source": [
        "## 5.7 Calculate Expected Big Mountain Ticket Price From The Model<a id='5.7_Calculate_Expected_Big_Mountain_Ticket_Price_From_The_Model'></a>"
      ]
    },
    {
      "cell_type": "code",
      "execution_count": 14,
      "metadata": {
        "id": "14po33KAw8Xr"
      },
      "outputs": [],
      "source": [
        "X_bm = ski_data.loc[ski_data.Name == \"Big Mountain Resort\", model.X_columns]\n",
        "y_bm = ski_data.loc[ski_data.Name == \"Big Mountain Resort\", 'AdultWeekend']"
      ]
    },
    {
      "cell_type": "code",
      "execution_count": 15,
      "metadata": {
        "id": "rArppCdOw8Xr"
      },
      "outputs": [],
      "source": [
        "bm_pred =  model\\\n",
        "          .predict(X_bm)\\\n",
        "          .item()"
      ]
    },
    {
      "cell_type": "code",
      "execution_count": 16,
      "metadata": {
        "id": "yKf12d6zw8Xr"
      },
      "outputs": [],
      "source": [
        "y_bm =  y_bm\\\n",
        "       .values\\\n",
        "       .item()"
      ]
    },
    {
      "cell_type": "code",
      "execution_count": 17,
      "metadata": {
        "id": "1vMiafIzw8Xr",
        "outputId": "5e3847f6-b75d-40e9-dbca-2c9a2804e6e9",
        "colab": {
          "base_uri": "https://localhost:8080/"
        }
      },
      "outputs": [
        {
          "output_type": "stream",
          "name": "stdout",
          "text": [
            "Big Mountain Resort modelled price is $95.87, actual price is $81.00.\n",
            "Even with the expected mean absolute error of $10.39, this suggests there is room for an increase.\n"
          ]
        }
      ],
      "source": [
        "print(f'Big Mountain Resort modelled price is ${bm_pred:.2f}, actual price is ${y_bm:.2f}.')\n",
        "print(f'Even with the expected mean absolute error of ${mae_mean:.2f}, this suggests there is room for an increase.')"
      ]
    },
    {
      "cell_type": "markdown",
      "metadata": {
        "id": "TNZo6qvFw8Xs"
      },
      "source": [
        "This result should be looked at optimistically and doubtfully! The validity of our model lies in the assumption that other resorts accurately set their prices according to what the market (the ticket-buying public) supports. The fact that our resort seems to be charging that much less that what's predicted suggests our resort might be undercharging.\n",
        "But if ours is mispricing itself, are others? It's reasonable to expect that some resorts will be \"overpriced\" and some \"underpriced.\" Or if resorts are pretty good at pricing strategies, it could be that our model is simply lacking some key data? Certainly we know nothing about operating costs, for example, and they would surely help."
      ]
    },
    {
      "cell_type": "markdown",
      "metadata": {
        "id": "VcN6E17uw8Xs"
      },
      "source": [
        "## 5.8 Big Mountain Resort In Market Context<a id='5.8_Big_Mountain_Resort_In_Market_Context'></a>"
      ]
    },
    {
      "cell_type": "markdown",
      "metadata": {
        "id": "Ykd3OzZZw8Xs"
      },
      "source": [
        "Features that came up as important in the modeling (not just our final, random forest model) included:\n",
        "* vertical_drop\n",
        "* Snow Making_ac\n",
        "* total_chairs\n",
        "* fastQuads\n",
        "* Runs\n",
        "* LongestRun_mi\n",
        "* trams\n",
        "* SkiableTerrain_ac"
      ]
    },
    {
      "cell_type": "markdown",
      "metadata": {
        "id": "MWJycLuEw8Xs"
      },
      "source": [
        "A handy glossary of skiing terms can be found on the [ski.com](https://www.ski.com/ski-glossary) site. Some potentially relevant contextual information is that vertical drop, although nominally the height difference from the summit to the base, is generally taken from the highest [_lift-served_](http://verticalfeet.com/) point."
      ]
    },
    {
      "cell_type": "markdown",
      "metadata": {
        "id": "M3QbqTbCw8Xs"
      },
      "source": [
        "It's often useful to define custom functions for visualizing data in meaningful ways. The function below takes a feature name as an input and plots a histogram of the values of that feature. It then marks where Big Mountain sits in the distribution by marking Big Mountain's value with a vertical line using `matplotlib`'s [axvline](https://matplotlib.org/3.1.1/api/_as_gen/matplotlib.pyplot.axvline.html) function. It also performs a little cleaning up of missing values and adds descriptive labels and a title."
      ]
    },
    {
      "cell_type": "code",
      "execution_count": 18,
      "metadata": {
        "id": "3OTvGq55w8Xs"
      },
      "outputs": [],
      "source": [
        "#Code task 1#\n",
        "#Add code to the `plot_compare` function that displays a vertical, dashed line\n",
        "#on the histogram to indicate Big Mountain's position in the distribution\n",
        "#Hint: plt.axvline() plots a vertical line, its position for 'feature1'\n",
        "#would be `big_mountain['feature1'].values, we'd like a red line, which can be\n",
        "#specified with c='r', a dashed linestyle is produced by ls='--',\n",
        "#and it's nice to give it a slightly reduced alpha value, such as 0.8.\n",
        "#Don't forget to give it a useful label (e.g. 'Big Mountain') so it's listed\n",
        "#in the legend.\n",
        "def plot_compare(feat_name, description, state=None, figsize=(5, 3)):\n",
        "    \"\"\"Graphically compare distributions of features.\n",
        "\n",
        "    Plot histogram of values for all resorts and reference line to mark\n",
        "    Big Mountain's position.\n",
        "\n",
        "    Arguments:\n",
        "    feat_name - the feature column name in the data\n",
        "    description - text description of the feature\n",
        "    state - select a specific state (None for all states)\n",
        "    figsize - (optional) figure size\n",
        "    \"\"\"\n",
        "\n",
        "    plt.subplots(\n",
        "        figsize=figsize\n",
        "    )\n",
        "\n",
        "    # quirk that hist sometimes objects to NaNs, sometimes doesn't\n",
        "    # filtering only for finite values tidies this up\n",
        "    if state is None:\n",
        "        ski_x = ski_data[feat_name]\n",
        "    else:\n",
        "        ski_x = ski_data.loc[ski_data.state == state, feat_name]\n",
        "\n",
        "    ski_x = ski_x[np.isfinite(ski_x)]\n",
        "\n",
        "    plt.hist(\n",
        "          ski_x\n",
        "        , bins = 30\n",
        "    )\n",
        "\n",
        "    plt.axvline(\n",
        "          x     = big_mountain[feat_name].values\n",
        "        , c     = 'r'\n",
        "        , ls    = '--'\n",
        "        , alpha = 0.8\n",
        "        , label = 'Big Mountain'\n",
        "    )\n",
        "\n",
        "    plt.xlabel(description)\n",
        "    plt.ylabel('frequency')\n",
        "    plt.title(description + '\\n' + ' distribution for resorts in market share')\n",
        "    plt.legend()"
      ]
    },
    {
      "cell_type": "markdown",
      "metadata": {
        "id": "ljFDsJ1zw8Xs"
      },
      "source": [
        "### 5.8.1 Ticket price<a id='5.8.1_Ticket_price'></a>"
      ]
    },
    {
      "cell_type": "markdown",
      "metadata": {
        "id": "h3oTiE0iw8Xs"
      },
      "source": [
        "Look at where Big Mountain sits overall amongst all resorts for price and for just other resorts in Montana."
      ]
    },
    {
      "cell_type": "code",
      "execution_count": 19,
      "metadata": {
        "id": "UC2CFl25w8Xt",
        "outputId": "04f7602b-de1c-4bf4-ed5a-601158a2a205",
        "colab": {
          "base_uri": "https://localhost:8080/",
          "height": 354
        }
      },
      "outputs": [
        {
          "output_type": "display_data",
          "data": {
            "text/plain": [
              "<Figure size 500x300 with 1 Axes>"
            ],
            "image/png": "[encoded data removed]"
          },
          "metadata": {}
        }
      ],
      "source": [
        "plot_compare(\n",
        "      'AdultWeekend'\n",
        "    , 'Adult weekend ticket price ($)'\n",
        ")"
      ]
    },
    {
      "cell_type": "code",
      "execution_count": 20,
      "metadata": {
        "id": "nXBwxyghw8Xt",
        "outputId": "3b56b77f-cae6-4e82-a287-7f5d7e5c46f1",
        "colab": {
          "base_uri": "https://localhost:8080/",
          "height": 354
        }
      },
      "outputs": [
        {
          "output_type": "display_data",
          "data": {
            "text/plain": [
              "<Figure size 500x300 with 1 Axes>"
            ],
            "image/png": "[encoded data removed]"
          },
          "metadata": {}
        }
      ],
      "source": [
        "plot_compare(\n",
        "      'AdultWeekend'\n",
        "    , 'Adult weekend ticket price ($) - Montana only'\n",
        "    , state='Montana'\n",
        ")"
      ]
    },
    {
      "cell_type": "markdown",
      "metadata": {
        "id": "mCGbGUYIw8Xt"
      },
      "source": [
        "### 5.8.2 Vertical drop<a id='5.8.2_Vertical_drop'></a>"
      ]
    },
    {
      "cell_type": "code",
      "execution_count": 21,
      "metadata": {
        "id": "qFu8zOZrw8Xt",
        "outputId": "5df07545-2a22-4c16-92aa-ceacdae96037",
        "colab": {
          "base_uri": "https://localhost:8080/",
          "height": 354
        }
      },
      "outputs": [
        {
          "output_type": "display_data",
          "data": {
            "text/plain": [
              "<Figure size 500x300 with 1 Axes>"
            ],
            "image/png": "[encoded data removed]"
          },
          "metadata": {}
        }
      ],
      "source": [
        "plot_compare(\n",
        "      'vertical_drop'\n",
        "    , 'Vertical drop (feet)'\n",
        ")"
      ]
    },
    {
      "cell_type": "markdown",
      "metadata": {
        "id": "9TpXtuT9w8Xt"
      },
      "source": [
        "Big Mountain is doing well for vertical drop, but there are still quite a few resorts with a greater drop."
      ]
    },
    {
      "cell_type": "markdown",
      "metadata": {
        "id": "Ku9cHDYhw8X2"
      },
      "source": [
        "### 5.8.3 Snow making area<a id='5.8.3_Snow_making_area'></a>"
      ]
    },
    {
      "cell_type": "code",
      "execution_count": 22,
      "metadata": {
        "id": "mWHnsthlw8X2",
        "outputId": "757eebf6-697e-44ea-86a2-026be4da8915",
        "colab": {
          "base_uri": "https://localhost:8080/",
          "height": 354
        }
      },
      "outputs": [
        {
          "output_type": "display_data",
          "data": {
            "text/plain": [
              "<Figure size 500x300 with 1 Axes>"
            ],
            "image/png": "[encoded data removed]"
          },
          "metadata": {}
        }
      ],
      "source": [
        "plot_compare(\n",
        "      'Snow Making_ac'\n",
        "    , 'Area covered by snow makers (acres)'\n",
        ")"
      ]
    },
    {
      "cell_type": "markdown",
      "metadata": {
        "id": "aBsAKE5Fw8X3"
      },
      "source": [
        "Big Mountain is very high up the league table of snow making area."
      ]
    },
    {
      "cell_type": "markdown",
      "metadata": {
        "id": "laq9QwQsw8X3"
      },
      "source": [
        "### 5.8.4 Total number of chairs<a id='5.8.4_Total_number_of_chairs'></a>"
      ]
    },
    {
      "cell_type": "code",
      "execution_count": 23,
      "metadata": {
        "id": "MPnKpL23w8X3",
        "outputId": "35b4f4a6-976a-459c-e516-f55cdbf390a0",
        "colab": {
          "base_uri": "https://localhost:8080/",
          "height": 354
        }
      },
      "outputs": [
        {
          "output_type": "display_data",
          "data": {
            "text/plain": [
              "<Figure size 500x300 with 1 Axes>"
            ],
            "image/png": "[encoded data removed]"
          },
          "metadata": {}
        }
      ],
      "source": [
        "plot_compare(\n",
        "      'total_chairs'\n",
        "    , 'Total number of chairs'\n",
        ")"
      ]
    },
    {
      "cell_type": "markdown",
      "metadata": {
        "id": "h8rqgmomw8X3"
      },
      "source": [
        "Big Mountain has amongst the highest number of total chairs, resorts with more appear to be outliers."
      ]
    },
    {
      "cell_type": "markdown",
      "metadata": {
        "id": "zUMardJew8X3"
      },
      "source": [
        "### 5.8.5 Fast quads<a id='5.8.5_Fast_quads'></a>"
      ]
    },
    {
      "cell_type": "code",
      "execution_count": 24,
      "metadata": {
        "id": "XVuiHKM6w8X3",
        "outputId": "52304555-fa3f-4b29-944b-257f388dfeb4",
        "colab": {
          "base_uri": "https://localhost:8080/",
          "height": 354
        }
      },
      "outputs": [
        {
          "output_type": "display_data",
          "data": {
            "text/plain": [
              "<Figure size 500x300 with 1 Axes>"
            ],
            "image/png": "[encoded data removed]"
          },
          "metadata": {}
        }
      ],
      "source": [
        "plot_compare(\n",
        "      'fastQuads'\n",
        "    , 'Number of fast quads'\n",
        ")"
      ]
    },
    {
      "cell_type": "markdown",
      "metadata": {
        "id": "JIhM82ffw8X4"
      },
      "source": [
        "Most resorts have no fast quads. Big Mountain has 3, which puts it high up that league table. There are some values  much higher, but they are rare."
      ]
    },
    {
      "cell_type": "markdown",
      "metadata": {
        "id": "WiFkkbRyw8X4"
      },
      "source": [
        "### 5.8.6 Runs<a id='5.8.6_Runs'></a>"
      ]
    },
    {
      "cell_type": "code",
      "execution_count": 25,
      "metadata": {
        "id": "DBpfA8Ahw8X4",
        "outputId": "15019adc-50b6-4eaa-9431-3b936f43ac4b",
        "colab": {
          "base_uri": "https://localhost:8080/",
          "height": 354
        }
      },
      "outputs": [
        {
          "output_type": "display_data",
          "data": {
            "text/plain": [
              "<Figure size 500x300 with 1 Axes>"
            ],
            "image/png": "[encoded data removed]"
          },
          "metadata": {}
        }
      ],
      "source": [
        "plot_compare(\n",
        "      'Runs'\n",
        "    , 'Total number of runs'\n",
        ")"
      ]
    },
    {
      "cell_type": "markdown",
      "metadata": {
        "id": "jTbYA25Zw8X4"
      },
      "source": [
        "Big Mountain compares well for the number of runs. There are some resorts with more, but not many."
      ]
    },
    {
      "cell_type": "markdown",
      "metadata": {
        "id": "vMyqqbY_w8X4"
      },
      "source": [
        "### 5.8.7 Longest run<a id='5.8.7_Longest_run'></a>"
      ]
    },
    {
      "cell_type": "code",
      "execution_count": 26,
      "metadata": {
        "id": "vFVKjdXtw8X4",
        "outputId": "ec98699e-9357-405c-8528-d8a973dac8f1",
        "colab": {
          "base_uri": "https://localhost:8080/",
          "height": 354
        }
      },
      "outputs": [
        {
          "output_type": "display_data",
          "data": {
            "text/plain": [
              "<Figure size 500x300 with 1 Axes>"
            ],
            "image/png": "[encoded data removed]"
          },
          "metadata": {}
        }
      ],
      "source": [
        "plot_compare(\n",
        "      'LongestRun_mi'\n",
        "    , 'Longest run length (miles)'\n",
        ")"
      ]
    },
    {
      "cell_type": "markdown",
      "metadata": {
        "id": "50bO9PS7w8X4"
      },
      "source": [
        "Big Mountain has one of the longest runs. Although it is just over half the length of the longest, the longer ones are rare."
      ]
    },
    {
      "cell_type": "markdown",
      "metadata": {
        "id": "U32eZjGiw8X5"
      },
      "source": [
        "### 5.8.8 Trams<a id='5.8.8_Trams'></a>"
      ]
    },
    {
      "cell_type": "code",
      "execution_count": 27,
      "metadata": {
        "id": "OchGcb1gw8X5",
        "outputId": "2b2fa93d-6b7d-40f7-9cea-20549670e6f3",
        "colab": {
          "base_uri": "https://localhost:8080/",
          "height": 354
        }
      },
      "outputs": [
        {
          "output_type": "display_data",
          "data": {
            "text/plain": [
              "<Figure size 500x300 with 1 Axes>"
            ],
            "image/png": "[encoded data removed]"
          },
          "metadata": {}
        }
      ],
      "source": [
        "plot_compare(\n",
        "      'trams'\n",
        "    , 'Number of trams'\n",
        ")"
      ]
    },
    {
      "cell_type": "markdown",
      "metadata": {
        "id": "EKkbKpcNw8X5"
      },
      "source": [
        "The vast majority of resorts, such as Big Mountain, have no trams."
      ]
    },
    {
      "cell_type": "markdown",
      "metadata": {
        "id": "ZJJjA2ZGw8X5"
      },
      "source": [
        "### 5.8.9 Skiable terrain area<a id='5.8.9_Skiable_terrain_area'></a>"
      ]
    },
    {
      "cell_type": "code",
      "execution_count": 28,
      "metadata": {
        "id": "-5ml5XaIw8X5",
        "outputId": "5ddcb825-bf08-4f9e-a842-ead5cb018a4f",
        "colab": {
          "base_uri": "https://localhost:8080/",
          "height": 354
        }
      },
      "outputs": [
        {
          "output_type": "display_data",
          "data": {
            "text/plain": [
              "<Figure size 500x300 with 1 Axes>"
            ],
            "image/png": "[encoded data removed]"
          },
          "metadata": {}
        }
      ],
      "source": [
        "plot_compare(\n",
        "      'SkiableTerrain_ac'\n",
        "    , 'Skiable terrain area (acres)'\n",
        ")"
      ]
    },
    {
      "cell_type": "markdown",
      "metadata": {
        "id": "L3DyQ5WWw8X5"
      },
      "source": [
        "Big Mountain is amongst the resorts with the largest amount of skiable terrain."
      ]
    },
    {
      "cell_type": "markdown",
      "metadata": {
        "id": "inbV9dRLw8X5"
      },
      "source": [
        "## 5.9 Modeling scenarios<a id='5.9_Modeling_scenarios'></a>"
      ]
    },
    {
      "cell_type": "markdown",
      "metadata": {
        "id": "5iNU5cljw8X6"
      },
      "source": [
        "Big Mountain Resort has been reviewing potential scenarios for either cutting costs or increasing revenue (from ticket prices). Ticket price is not determined by any set of parameters; the resort is free to set whatever price it likes. However, the resort operates within a market where people pay more for certain facilities, and less for others. Being able to sense how facilities support a given ticket price is valuable business intelligence. This is where the utility of our model comes in.\n",
        "\n",
        "The business has shortlisted some options:\n",
        "1. Permanently closing down up to 10 of the least used runs. This doesn't impact any other resort statistics.\n",
        "2. Increase the vertical drop by adding a run to a point 150 feet lower down but requiring the installation of an additional chair lift to bring skiers back up, without additional snow making coverage\n",
        "3. Same as number 2, but adding 2 acres of snow making cover\n",
        "4. Increase the longest run by 0.2 mile to boast 3.5 miles length, requiring an additional snow making coverage of 4 acres\n",
        "\n",
        "The expected number of visitors over the season is 350,000 and, on average, visitors ski for five days. Assume the provided data includes the additional lift that Big Mountain recently installed."
      ]
    },
    {
      "cell_type": "code",
      "execution_count": 29,
      "metadata": {
        "id": "njbbJZLZw8X6"
      },
      "outputs": [],
      "source": [
        "expected_visitors = 350_000"
      ]
    },
    {
      "cell_type": "code",
      "execution_count": 30,
      "metadata": {
        "id": "fLxu6K5bw8X6",
        "outputId": "6f29cff6-2a22-479b-a8e2-5eb3f3e9e22d",
        "colab": {
          "base_uri": "https://localhost:8080/",
          "height": 81
        }
      },
      "outputs": [
        {
          "output_type": "execute_result",
          "data": {
            "text/plain": [
              "     vertical_drop  Snow Making_ac  total_chairs  fastQuads   Runs  \\\n",
              "124           2353           600.0            14          3  105.0   \n",
              "\n",
              "     LongestRun_mi  trams  SkiableTerrain_ac  \n",
              "124            3.3      0             3000.0  "
            ],
            "text/html": [
              "\n",
              "\n",
              "  <div id=\"df-603eebd5-7b70-4c55-aa51-2fbeb411fd90\">\n",
              "    <div class=\"colab-df-container\">\n",
              "      <div>\n",
              "<style scoped>\n",
              "    .dataframe tbody tr th:only-of-type {\n",
              "        vertical-align: middle;\n",
              "    }\n",
              "\n",
              "    .dataframe tbody tr th {\n",
              "        vertical-align: top;\n",
              "    }\n",
              "\n",
              "    .dataframe thead th {\n",
              "        text-align: right;\n",
              "    }\n",
              "</style>\n",
              "<table border=\"1\" class=\"dataframe\">\n",
              "  <thead>\n",
              "    <tr style=\"text-align: right;\">\n",
              "      <th></th>\n",
              "      <th>vertical_drop</th>\n",
              "      <th>Snow Making_ac</th>\n",
              "      <th>total_chairs</th>\n",
              "      <th>fastQuads</th>\n",
              "      <th>Runs</th>\n",
              "      <th>LongestRun_mi</th>\n",
              "      <th>trams</th>\n",
              "      <th>SkiableTerrain_ac</th>\n",
              "    </tr>\n",
              "  </thead>\n",
              "  <tbody>\n",
              "    <tr>\n",
              "      <th>124</th>\n",
              "      <td>2353</td>\n",
              "      <td>600.0</td>\n",
              "      <td>14</td>\n",
              "      <td>3</td>\n",
              "      <td>105.0</td>\n",
              "      <td>3.3</td>\n",
              "      <td>0</td>\n",
              "      <td>3000.0</td>\n",
              "    </tr>\n",
              "  </tbody>\n",
              "</table>\n",
              "</div>\n",
              "      <button class=\"colab-df-convert\" onclick=\"convertToInteractive('df-603eebd5-7b70-4c55-aa51-2fbeb411fd90')\"\n",
              "              title=\"Convert this dataframe to an interactive table.\"\n",
              "              style=\"display:none;\">\n",
              "\n",
              "  <svg xmlns=\"http://www.w3.org/2000/svg\" height=\"24px\"viewBox=\"0 0 24 24\"\n",
              "       width=\"24px\">\n",
              "    <path d=\"M0 0h24v24H0V0z\" fill=\"none\"/>\n",
              "    <path d=\"M18.56 5.44l.94 2.06.94-2.06 2.06-.94-2.06-.94-.94-2.06-.94 2.06-2.06.94zm-11 1L8.5 8.5l.94-2.06 2.06-.94-2.06-.94L8.5 2.5l-.94 2.06-2.06.94zm10 10l.94 2.06.94-2.06 2.06-.94-2.06-.94-.94-2.06-.94 2.06-2.06.94z\"/><path d=\"M17.41 7.96l-1.37-1.37c-.4-.4-.92-.59-1.43-.59-.52 0-1.04.2-1.43.59L10.3 9.45l-7.72 7.72c-.78.78-.78 2.05 0 2.83L4 21.41c.39.39.9.59 1.41.59.51 0 1.02-.2 1.41-.59l7.78-7.78 2.81-2.81c.8-.78.8-2.07 0-2.86zM5.41 20L4 18.59l7.72-7.72 1.47 1.35L5.41 20z\"/>\n",
              "  </svg>\n",
              "      </button>\n",
              "\n",
              "\n",
              "\n",
              "    <div id=\"df-e09c1233-4874-43c6-bec2-f3a2bc514dfd\">\n",
              "      <button class=\"colab-df-quickchart\" onclick=\"quickchart('df-e09c1233-4874-43c6-bec2-f3a2bc514dfd')\"\n",
              "              title=\"Suggest charts.\"\n",
              "              style=\"display:none;\">\n",
              "\n",
              "<svg xmlns=\"http://www.w3.org/2000/svg\" height=\"24px\"viewBox=\"0 0 24 24\"\n",
              "     width=\"24px\">\n",
              "    <g>\n",
              "        <path d=\"M19 3H5c-1.1 0-2 .9-2 2v14c0 1.1.9 2 2 2h14c1.1 0 2-.9 2-2V5c0-1.1-.9-2-2-2zM9 17H7v-7h2v7zm4 0h-2V7h2v10zm4 0h-2v-4h2v4z\"/>\n",
              "    </g>\n",
              "</svg>\n",
              "      </button>\n",
              "    </div>\n",
              "\n",
              "<style>\n",
              "  .colab-df-quickchart {\n",
              "    background-color: #E8F0FE;\n",
              "    border: none;\n",
              "    border-radius: 50%;\n",
              "    cursor: pointer;\n",
              "    display: none;\n",
              "    fill: #1967D2;\n",
              "    height: 32px;\n",
              "    padding: 0 0 0 0;\n",
              "    width: 32px;\n",
              "  }\n",
              "\n",
              "  .colab-df-quickchart:hover {\n",
              "    background-color: #E2EBFA;\n",
              "    box-shadow: 0px 1px 2px rgba(60, 64, 67, 0.3), 0px 1px 3px 1px rgba(60, 64, 67, 0.15);\n",
              "    fill: #174EA6;\n",
              "  }\n",
              "\n",
              "  [theme=dark] .colab-df-quickchart {\n",
              "    background-color: #3B4455;\n",
              "    fill: #D2E3FC;\n",
              "  }\n",
              "\n",
              "  [theme=dark] .colab-df-quickchart:hover {\n",
              "    background-color: #434B5C;\n",
              "    box-shadow: 0px 1px 3px 1px rgba(0, 0, 0, 0.15);\n",
              "    filter: drop-shadow(0px 1px 2px rgba(0, 0, 0, 0.3));\n",
              "    fill: #FFFFFF;\n",
              "  }\n",
              "</style>\n",
              "\n",
              "    <script>\n",
              "      async function quickchart(key) {\n",
              "        const containerElement = document.querySelector('#' + key);\n",
              "        const charts = await google.colab.kernel.invokeFunction(\n",
              "            'suggestCharts', [key], {});\n",
              "      }\n",
              "    </script>\n",
              "\n",
              "      <script>\n",
              "\n",
              "function displayQuickchartButton(domScope) {\n",
              "  let quickchartButtonEl =\n",
              "    domScope.querySelector('#df-e09c1233-4874-43c6-bec2-f3a2bc514dfd button.colab-df-quickchart');\n",
              "  quickchartButtonEl.style.display =\n",
              "    google.colab.kernel.accessAllowed ? 'block' : 'none';\n",
              "}\n",
              "\n",
              "        displayQuickchartButton(document);\n",
              "      </script>\n",
              "      <style>\n",
              "    .colab-df-container {\n",
              "      display:flex;\n",
              "      flex-wrap:wrap;\n",
              "      gap: 12px;\n",
              "    }\n",
              "\n",
              "    .colab-df-convert {\n",
              "      background-color: #E8F0FE;\n",
              "      border: none;\n",
              "      border-radius: 50%;\n",
              "      cursor: pointer;\n",
              "      display: none;\n",
              "      fill: #1967D2;\n",
              "      height: 32px;\n",
              "      padding: 0 0 0 0;\n",
              "      width: 32px;\n",
              "    }\n",
              "\n",
              "    .colab-df-convert:hover {\n",
              "      background-color: #E2EBFA;\n",
              "      box-shadow: 0px 1px 2px rgba(60, 64, 67, 0.3), 0px 1px 3px 1px rgba(60, 64, 67, 0.15);\n",
              "      fill: #174EA6;\n",
              "    }\n",
              "\n",
              "    [theme=dark] .colab-df-convert {\n",
              "      background-color: #3B4455;\n",
              "      fill: #D2E3FC;\n",
              "    }\n",
              "\n",
              "    [theme=dark] .colab-df-convert:hover {\n",
              "      background-color: #434B5C;\n",
              "      box-shadow: 0px 1px 3px 1px rgba(0, 0, 0, 0.15);\n",
              "      filter: drop-shadow(0px 1px 2px rgba(0, 0, 0, 0.3));\n",
              "      fill: #FFFFFF;\n",
              "    }\n",
              "  </style>\n",
              "\n",
              "      <script>\n",
              "        const buttonEl =\n",
              "          document.querySelector('#df-603eebd5-7b70-4c55-aa51-2fbeb411fd90 button.colab-df-convert');\n",
              "        buttonEl.style.display =\n",
              "          google.colab.kernel.accessAllowed ? 'block' : 'none';\n",
              "\n",
              "        async function convertToInteractive(key) {\n",
              "          const element = document.querySelector('#df-603eebd5-7b70-4c55-aa51-2fbeb411fd90');\n",
              "          const dataTable =\n",
              "            await google.colab.kernel.invokeFunction('convertToInteractive',\n",
              "                                                     [key], {});\n",
              "          if (!dataTable) return;\n",
              "\n",
              "          const docLinkHtml = 'Like what you see? Visit the ' +\n",
              "            '<a target=\"_blank\" href=https://colab.research.google.com/notebooks/data_table.ipynb>data table notebook</a>'\n",
              "            + ' to learn more about interactive tables.';\n",
              "          element.innerHTML = '';\n",
              "          dataTable['output_type'] = 'display_data';\n",
              "          await google.colab.output.renderOutput(dataTable, element);\n",
              "          const docLink = document.createElement('div');\n",
              "          docLink.innerHTML = docLinkHtml;\n",
              "          element.appendChild(docLink);\n",
              "        }\n",
              "      </script>\n",
              "    </div>\n",
              "  </div>\n"
            ]
          },
          "metadata": {},
          "execution_count": 30
        }
      ],
      "source": [
        "all_feats = [\n",
        "      'vertical_drop'\n",
        "    , 'Snow Making_ac'\n",
        "    , 'total_chairs'\n",
        "    , 'fastQuads'\n",
        "    , 'Runs'\n",
        "    , 'LongestRun_mi'\n",
        "    , 'trams'\n",
        "    , 'SkiableTerrain_ac'\n",
        "]\n",
        "\n",
        "big_mountain[all_feats]"
      ]
    },
    {
      "cell_type": "code",
      "execution_count": 31,
      "metadata": {
        "id": "qNnZHKQFw8X6"
      },
      "outputs": [],
      "source": [
        "#Code task 2#\n",
        "#In this function, copy the Big Mountain data into a new data frame\n",
        "#(Note we use .copy()!)\n",
        "#And then for each feature, and each of its deltas (changes from the original),\n",
        "#create the modified scenario dataframe (bm2) and make a ticket price prediction\n",
        "#for it. The difference between the scenario's prediction and the current\n",
        "#prediction is then calculated and returned.\n",
        "#Complete the code to increment each feature by the associated delta\n",
        "def predict_increase(features, deltas):\n",
        "    \"\"\"Increase in modelled ticket price by applying delta to feature.\n",
        "\n",
        "    Arguments:\n",
        "    features - list, names of the features in the ski_data dataframe to change\n",
        "    deltas - list, the amounts by which to increase the values of the features\n",
        "\n",
        "    Outputs:\n",
        "    Amount of increase in the predicted ticket price\n",
        "    \"\"\"\n",
        "\n",
        "    bm2 = X_bm.copy()\n",
        "    for f, d in zip(features, deltas):\n",
        "        bm2[f] += d\n",
        "    return model.predict(bm2).item() - model.predict(X_bm).item()"
      ]
    },
    {
      "cell_type": "markdown",
      "metadata": {
        "id": "bpE9YCXWw8X6"
      },
      "source": [
        "### 5.9.1 Scenario 1<a id='5.9.1_Scenario_1'></a>"
      ]
    },
    {
      "cell_type": "markdown",
      "metadata": {
        "id": "G69jo1Okw8X6"
      },
      "source": [
        "Close up to 10 of the least used runs. The number of runs is the only parameter varying."
      ]
    },
    {
      "cell_type": "code",
      "execution_count": 32,
      "metadata": {
        "id": "9i57KbOLw8X6",
        "outputId": "10c3bc03-dbe2-4129-b455-0def3a7a7a79",
        "colab": {
          "base_uri": "https://localhost:8080/"
        }
      },
      "outputs": [
        {
          "output_type": "execute_result",
          "data": {
            "text/plain": [
              "[-1, -2, -3, -4, -5, -6, -7, -8, -9, -10]"
            ]
          },
          "metadata": {},
          "execution_count": 32
        }
      ],
      "source": [
        "[i for i in range(-1, -11, -1)]"
      ]
    },
    {
      "cell_type": "code",
      "execution_count": 33,
      "metadata": {
        "id": "g9spOnOgw8X7"
      },
      "outputs": [],
      "source": [
        "runs_delta = [i for i in range(-1, -11, -1)]\n",
        "price_deltas = [predict_increase(['Runs'], [delta]) for delta in runs_delta]"
      ]
    },
    {
      "cell_type": "code",
      "execution_count": 34,
      "metadata": {
        "id": "GO0lc8waw8X7",
        "outputId": "08165248-36c2-4585-93c7-88561b63ce44",
        "colab": {
          "base_uri": "https://localhost:8080/"
        }
      },
      "outputs": [
        {
          "output_type": "execute_result",
          "data": {
            "text/plain": [
              "[0.0,\n",
              " -0.4057971014492807,\n",
              " -0.6666666666666714,\n",
              " -0.6666666666666714,\n",
              " -0.6666666666666714,\n",
              " -1.2608695652173907,\n",
              " -1.2608695652173907,\n",
              " -1.2608695652173907,\n",
              " -1.7101449275362341,\n",
              " -1.8115942028985472]"
            ]
          },
          "metadata": {},
          "execution_count": 34
        }
      ],
      "source": [
        "price_deltas"
      ]
    },
    {
      "cell_type": "code",
      "execution_count": 35,
      "metadata": {
        "id": "I_w55vg8w8X7",
        "colab": {
          "base_uri": "https://localhost:8080/",
          "height": 487
        },
        "outputId": "2d419c4b-f2f2-4b7d-bb07-3c78b52f8fad"
      },
      "outputs": [
        {
          "output_type": "display_data",
          "data": {
            "text/plain": [
              "<Figure size 700x500 with 2 Axes>"
            ],
            "image/png": "[encoded data removed]"
          },
          "metadata": {}
        }
      ],
      "source": [
        "#Code task 3#\n",
        "#Create two plots, side by side, for the predicted ticket price change (delta) for each\n",
        "#condition (number of runs closed) in the scenario and the associated predicted revenue\n",
        "#change on the assumption that each of the expected visitors buys 5 tickets\n",
        "#There are two things to do here:\n",
        "# -----------------------------------------------------------------------------\n",
        "#1 - use a list comprehension to create a list of the number of runs closed from `runs_delta`\n",
        "runs_closed = [-1 * i for i in runs_delta]\n",
        "\n",
        "fig, ax = plt.subplots(\n",
        "      1\n",
        "    , 2\n",
        "    , figsize=(7, 5)\n",
        ")\n",
        "\n",
        "fig.subplots_adjust(\n",
        "    wspace=0.5\n",
        ")\n",
        "\n",
        "ax[0].plot(\n",
        "      runs_closed\n",
        "    , price_deltas\n",
        "    , 'o-'\n",
        ")\n",
        "\n",
        "ax[0].set(\n",
        "      xlabel = 'Runs closed'\n",
        "    , ylabel = 'Change ($)'\n",
        "    , title  = 'Ticket price'\n",
        ")\n",
        "# -----------------------------------------------------------------------------\n",
        "#2 - use a list comprehension to create a list of predicted revenue changes from `price_deltas`\n",
        "revenue_deltas = [5 * expected_visitors * j for j in price_deltas]\n",
        "\n",
        "ax[1].plot(\n",
        "      runs_closed\n",
        "    , revenue_deltas\n",
        "    , 'o-'\n",
        ")\n",
        "\n",
        "ax[1].set(\n",
        "      xlabel = 'Runs closed'\n",
        "    , ylabel = 'Change ($)'\n",
        "    , title  = 'Revenue'\n",
        ");"
      ]
    },
    {
      "cell_type": "markdown",
      "metadata": {
        "id": "DTpOaKEhw8X7"
      },
      "source": [
        "The model says closing one run makes no difference. Closing 2 and 3 successively reduces support for ticket price and so revenue. If Big Mountain closes down 3 runs, it seems they may as well close down 4 or 5 as there's no further loss in ticket price. Increasing the closures down to 6 or more leads to a large drop."
      ]
    },
    {
      "cell_type": "markdown",
      "metadata": {
        "id": "Ojs2eKRYw8X7"
      },
      "source": [
        "### 5.9.2 Scenario 2<a id='5.9.2_Scenario_2'></a>"
      ]
    },
    {
      "cell_type": "markdown",
      "metadata": {
        "id": "H8LJAvLvw8X7"
      },
      "source": [
        "In this scenario, Big Mountain is adding a run, increasing the vertical drop by 150 feet, and installing an additional chair lift."
      ]
    },
    {
      "cell_type": "code",
      "execution_count": 36,
      "metadata": {
        "id": "yCHoULXaw8X8"
      },
      "outputs": [],
      "source": [
        "#Code task 4#\n",
        "#Call `predict_increase` with a list of the features 'Runs', 'vertical_drop', and 'total_chairs'\n",
        "#and associated deltas of 1, 150, and 1\n",
        "ticket2_increase = predict_increase(\n",
        "      ['Runs', 'vertical_drop', 'total_chairs']\n",
        "    , [1, 150, 1]\n",
        ")\n",
        "\n",
        "revenue2_increase = 5 * expected_visitors * ticket2_increase"
      ]
    },
    {
      "cell_type": "code",
      "execution_count": 37,
      "metadata": {
        "id": "AHiBzrrLw8X8",
        "outputId": "161235d2-5815-461e-d377-5328fe6abf63",
        "colab": {
          "base_uri": "https://localhost:8080/"
        }
      },
      "outputs": [
        {
          "output_type": "stream",
          "name": "stdout",
          "text": [
            "This scenario increases support for ticket price by $1.99\n",
            "Over the season, this could be expected to amount to $3474638\n"
          ]
        }
      ],
      "source": [
        "print(f'This scenario increases support for ticket price by ${ticket2_increase:.2f}')\n",
        "print(f'Over the season, this could be expected to amount to ${revenue2_increase:.0f}')"
      ]
    },
    {
      "cell_type": "markdown",
      "metadata": {
        "id": "xzbmLzDow8X8"
      },
      "source": [
        "### 5.9.3 Scenario 3<a id='5.9.3_Scenario_3'></a>"
      ]
    },
    {
      "cell_type": "markdown",
      "metadata": {
        "id": "1yqKwmw2w8X8"
      },
      "source": [
        "In this scenario, you are repeating the previous one but adding 2 acres of snow making."
      ]
    },
    {
      "cell_type": "code",
      "execution_count": 38,
      "metadata": {
        "id": "kfZfG-Dmw8X8"
      },
      "outputs": [],
      "source": [
        "#Code task 5#\n",
        "#Repeat scenario 2 conditions, but add an increase of 2 to `Snow Making_ac`\n",
        "ticket3_increase = predict_increase(\n",
        "      ['Runs', 'vertical_drop', 'total_chairs', 'Snow Making_ac']\n",
        "    , [1, 150, 1, 2]\n",
        ")\n",
        "\n",
        "revenue3_increase = 5 * expected_visitors * ticket3_increase"
      ]
    },
    {
      "cell_type": "code",
      "execution_count": 39,
      "metadata": {
        "id": "cQ4aqQ8vw8X8",
        "outputId": "bb05b4a5-c7f9-438a-c8b0-0df06a216966",
        "colab": {
          "base_uri": "https://localhost:8080/"
        }
      },
      "outputs": [
        {
          "output_type": "stream",
          "name": "stdout",
          "text": [
            "This scenario increases support for ticket price by $1.99\n",
            "Over the season, this could be expected to amount to $3474638\n"
          ]
        }
      ],
      "source": [
        "print(f'This scenario increases support for ticket price by ${ticket3_increase:.2f}')\n",
        "print(f'Over the season, this could be expected to amount to ${revenue3_increase:.0f}')"
      ]
    },
    {
      "cell_type": "markdown",
      "metadata": {
        "id": "vpd_w7Grw8X9"
      },
      "source": [
        "Such a small increase in the snow making area makes no difference!"
      ]
    },
    {
      "cell_type": "markdown",
      "metadata": {
        "id": "sgw4fBCIw8X9"
      },
      "source": [
        "### 5.9.4 Scenario 4<a id='5.9.4_Scenario_4'></a>"
      ]
    },
    {
      "cell_type": "markdown",
      "metadata": {
        "id": "Y2oH_1tcw8X9"
      },
      "source": [
        "This scenario calls for increasing the longest run by .2 miles and guaranteeing its snow coverage by adding 4 acres of snow making capability."
      ]
    },
    {
      "cell_type": "code",
      "execution_count": null,
      "metadata": {
        "id": "iN5O95zrw8X9",
        "colab": {
          "base_uri": "https://localhost:8080/"
        },
        "outputId": "cfd332e4-9d81-40b9-9ffb-ab1b9046fe6a"
      },
      "outputs": [
        {
          "output_type": "execute_result",
          "data": {
            "text/plain": [
              "0.0"
            ]
          },
          "metadata": {},
          "execution_count": 79
        }
      ],
      "source": [
        "#Code task 6#\n",
        "#Predict the increase from adding 0.2 miles to `LongestRun_mi` and 4 to `Snow Making_ac`\n",
        "predict_increase(\n",
        "      ['LongestRun_mi', 'Snow Making_ac']\n",
        "    , [0.2, 4]\n",
        ")"
      ]
    },
    {
      "cell_type": "markdown",
      "metadata": {
        "id": "WKV4FSuJw8X9"
      },
      "source": [
        "No difference whatsoever. Although the longest run feature was used in the linear model, the random forest model (the one we chose because of its better performance) only has longest run way down in the feature importance list."
      ]
    },
    {
      "cell_type": "markdown",
      "metadata": {
        "id": "HFS0qigpw8X9"
      },
      "source": [
        "## 5.10 Summary<a id='5.10_Summary'></a>"
      ]
    },
    {
      "cell_type": "markdown",
      "metadata": {
        "id": "jyG6YikJw8X9"
      },
      "source": [
        "**Q1:** Write a summary of the results of modeling these scenarios. Start by starting the current position;"
      ]
    },
    {
      "cell_type": "markdown",
      "source": [
        "1. How much does Big Mountain currently charge?\n",
        "\n",
        "2. What does your modelling suggest for a ticket price that could be supported in the marketplace by Big Mountain's facilities?\n",
        "\n",
        "3. How would you approach suggesting such a change to the business leadership?\n",
        "\n",
        "4. Discuss the additional operating cost of the new chair lift per ticket (on the basis of each visitor on average buying 5 day tickets) in the context of raising prices to cover this.\n",
        "\n",
        "5. For future improvements, state which, if any, of the modeled scenarios you'd recommend for further consideration. Suggest how the business might test, and progress, with any run closures."
      ],
      "metadata": {
        "id": "mdZ5i65VADHw"
      }
    },
    {
      "cell_type": "markdown",
      "metadata": {
        "id": "o-SemFbJw8X9"
      },
      "source": [
        "**A1:** Currently, the weekend adult rate at Big Mountain resort stands at $\\$81$ while the modelled price is $\\$95.87$ with the expected mean absolute error of $\\$10.39$. This suggests there is room for an increase.\n",
        "\n",
        "Different scenarios were modeled to analyze how Big Mountain Resort can adjust its ticket pricing:\n",
        "<br></br>\n",
        "\n",
        "$\\small\\texttt{Scenario 1: Closing resort's runs.}$\n",
        "\n",
        "<body>\n",
        "    <table border=\"1\">\n",
        "        <tr>\n",
        "            <th># of run<br>closures</th>\n",
        "            <th>Impact</th>\n",
        "        </tr>\n",
        "        <tr>\n",
        "            <td>1</td>\n",
        "            <td>Has no impact on Ticket price or Revenue but reduces the resort's operating cost.<br>(This option is in line of what the resort has asked for initially).</br></td>\n",
        "        </tr>\n",
        "        <tr>\n",
        "            <td>2-3</td>\n",
        "            <td>Reduces Ticket price but at the cost of less Revenue.</td>\n",
        "        </tr>\n",
        "        <tr>\n",
        "            <td>4-5</td>\n",
        "            <td>No further drop in Ticket price and Revenue as closing 3 runs but reduces the resort's operating cost.</td>\n",
        "        </tr>\n",
        "        <tr>\n",
        "            <td>+6</td>\n",
        "            <td>A significant drop in Ticket price, but unfortunately, substantial loss in Revenue.</td>\n",
        "        </tr>\n",
        "    </table>\n",
        "</body>\n",
        "<br>\n",
        "\n",
        "$\\small\\texttt{Scenario 2: Adding a new run, increasing the vertical drop, and installing an additional chair lift without additional snow making coverage.}$\n",
        "\n",
        "Suggests that increasing the Ticket price by $\\$1.99$ will gaurantee an additional revenue of $\\approx \\$3.5\\mathrm{M}$.\n",
        "<br></br>\n",
        "\n",
        "$\\small\\texttt{Scenario 3: Repeating scenario 2 but with adding a snow-making area}.$\n",
        "\n",
        "The outcome will remain consistent with scenario 2. Nevertheless, expanding the snow-making area will undesirably incur costs for the business.\n",
        "<br></br>\n",
        "\n",
        "$\\small\\texttt{Scenario 4: Increasing the longest run by adding more snowing coverage.}$\n",
        "\n",
        "No difference in the Revenue."
      ]
    },
    {
      "cell_type": "markdown",
      "metadata": {
        "id": "41EZg1Zfw8X-"
      },
      "source": [
        "## 5.11 Further work<a id='5.11_Further_work'></a>"
      ]
    },
    {
      "cell_type": "markdown",
      "metadata": {
        "id": "V8ZUWut7w8X-"
      },
      "source": [
        "**Q: 2** What next? Highlight any deficiencies in the data that hampered or limited this work. The only price data in our dataset were ticket prices. You were provided with information about the additional operating cost of the new chair lift, but what other cost information would be useful? Big Mountain was already fairly high on some of the league charts of facilities offered, but why was its modeled price so much higher than its current price? Would this mismatch come as a surprise to the business executives? How would you find out? Assuming the business leaders felt this model was useful, how would the business make use of it? Would you expect them to come to you every time they wanted to test a new combination of parameters in a scenario? We hope you would have better things to do, so how might this model be made available for business analysts to use and explore?"
      ]
    },
    {
      "cell_type": "markdown",
      "metadata": {
        "id": "Gu2JdTK2w8X-"
      },
      "source": [
        "**A: 2**\n",
        "1. Collecting more data:\n",
        "\n",
        "  a. Ticket Price in weekdays: By analyzing weekday ticket prices alongside visitor numbers, you can identify patterns in demand during off-peak times. If weekday ticket sales are consistently low, it suggests that potential visitors might be deterred by the cost. Adjusting ticket prices to be more attractive on weekdays (i.e., dynamic pricing) can incentivize more people to visit, increasing overall revenue. Also, lowering prices on weekdays could lead to higher ticket sales, compensating for potential revenue loss through increased volume.\n",
        "\n",
        "  b. Operating cost: we're missing the operating cost for Runs, snow makers - The information is useful per below:\n",
        "    \n",
        "      * Runs: This will help to known which runs have higher operating cost and how much closing those runs will reduce the Ticket price.\n",
        "    \n",
        "      * Snow Makers: Understanding the precise operating cost associated with each individual snow maker is important. This knowledge will help us determine whether there is financial leeway or \"room\" to install additional snow makers. The objective of adding more snow makers is to counterbalance or offset any potential increase in operational costs with the additional revenue that can be generated by increasing the vertical drop, which likely leads to an enhanced skiing experience and subsequently attracts more visitors. In other words, by knowing the cost of each snow maker and its potential revenue contribution, we can evaluate whether the investment in more snow makers is financially viable and can be balanced by the increased revenue from offering a better skiing experience..\n",
        "\n",
        "2. Another interesting question is why Big Mountain resort has so many runs compared to its rivals. What if they prioritize offering runs that cater to a wide range of skill levels and preferences? This can be achieved with fewer runs if each run provides different terrain and challenges. Also, they can analyze the visitor demographics and skill levels. Identify the most popular runs and those that are underutilized. Consider reallocating resources from underused runs to improve and maintain the quality of the most frequented ones. To this end, they can engage visitors in surveys and feedback mechanisms to understand which runs are most important to them. This insight can guide decisions on which runs to retain and which can be reconfigured."
      ]
    },
    {
      "cell_type": "code",
      "source": [],
      "metadata": {
        "id": "xK4N6ewy6aA0"
      },
      "execution_count": null,
      "outputs": []
    }
  ],
  "metadata": {
    "kernelspec": {
      "display_name": "Python 3",
      "language": "python",
      "name": "python3"
    },
    "language_info": {
      "codemirror_mode": {
        "name": "ipython",
        "version": 3
      },
      "file_extension": ".py",
      "mimetype": "text/x-python",
      "name": "python",
      "nbconvert_exporter": "python",
      "pygments_lexer": "ipython3",
      "version": "3.7.9"
    },
    "toc": {
      "base_numbering": 1,
      "nav_menu": {},
      "number_sections": true,
      "sideBar": true,
      "skip_h1_title": false,
      "title_cell": "Table of Contents",
      "title_sidebar": "Contents",
      "toc_cell": false,
      "toc_position": {},
      "toc_section_display": true,
      "toc_window_display": true
    },
    "varInspector": {
      "cols": {
        "lenName": 16,
        "lenType": 16,
        "lenVar": 40
      },
      "kernels_config": {
        "python": {
          "delete_cmd_postfix": "",
          "delete_cmd_prefix": "del ",
          "library": "var_list.py",
          "varRefreshCmd": "print(var_dic_list())"
        },
        "r": {
          "delete_cmd_postfix": ") ",
          "delete_cmd_prefix": "rm(",
          "library": "var_list.r",
          "varRefreshCmd": "cat(var_dic_list()) "
        }
      },
      "types_to_exclude": [
        "module",
        "function",
        "builtin_function_or_method",
        "instance",
        "_Feature"
      ],
      "window_display": false
    },
    "colab": {
      "provenance": [],
      "toc_visible": true
    }
  },
  "nbformat": 4,
  "nbformat_minor": 0
}