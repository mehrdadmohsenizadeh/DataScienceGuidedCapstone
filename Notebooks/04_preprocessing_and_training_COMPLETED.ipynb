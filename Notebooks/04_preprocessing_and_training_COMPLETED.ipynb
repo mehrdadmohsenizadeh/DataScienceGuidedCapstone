{
  "cells": [
    {
      "cell_type": "markdown",
      "metadata": {
        "id": "nSOTWWVH9ar6"
      },
      "source": [
        "# 4 Pre-Processing and Training Data<a id='4_Pre-Processing_and_Training_Data'></a>"
      ]
    },
    {
      "cell_type": "markdown",
      "metadata": {
        "id": "ilKwBZk29ar8"
      },
      "source": [
        "## 4.1 Contents<a id='4.1_Contents'></a>\n",
        "* [4 Pre-Processing and Training Data](#4_Pre-Processing_and_Training_Data)\n",
        "  * [4.1 Contents](#4.1_Contents)\n",
        "  * [4.2 Introduction](#4.2_Introduction)\n",
        "  * [4.3 Imports](#4.3_Imports)\n",
        "  * [4.4 Load Data](#4.4_Load_Data)\n",
        "  * [4.5 Extract Big Mountain Data](#4.5_Extract_Big_Mountain_Data)\n",
        "  * [4.6 Train/Test Split](#4.6_Train/Test_Split)\n",
        "  * [4.7 Initial Not-Even-A-Model](#4.7_Initial_Not-Even-A-Model)\n",
        "    * [4.7.1 Metrics](#4.7.1_Metrics)\n",
        "      * [4.7.1.1 R-squared, or coefficient of determination](#4.7.1.1_R-squared,_or_coefficient_of_determination)\n",
        "      * [4.7.1.2 Mean Absolute Error](#4.7.1.2_Mean_Absolute_Error)\n",
        "      * [4.7.1.3 Mean Squared Error](#4.7.1.3_Mean_Squared_Error)\n",
        "    * [4.7.2 sklearn metrics](#4.7.2_sklearn_metrics)\n",
        "        * [4.7.2.0.1 R-squared](#4.7.2.0.1_R-squared)\n",
        "        * [4.7.2.0.2 Mean absolute error](#4.7.2.0.2_Mean_absolute_error)\n",
        "        * [4.7.2.0.3 Mean squared error](#4.7.2.0.3_Mean_squared_error)\n",
        "    * [4.7.3 Note On Calculating Metrics](#4.7.3_Note_On_Calculating_Metrics)\n",
        "  * [4.8 Initial Models](#4.8_Initial_Models)\n",
        "    * [4.8.1 Imputing missing feature (predictor) values](#4.8.1_Imputing_missing_feature_(predictor)_values)\n",
        "      * [4.8.1.1 Impute missing values with median](#4.8.1.1_Impute_missing_values_with_median)\n",
        "        * [4.8.1.1.1 Learn the values to impute from the train set](#4.8.1.1.1_Learn_the_values_to_impute_from_the_train_set)\n",
        "        * [4.8.1.1.2 Apply the imputation to both train and test splits](#4.8.1.1.2_Apply_the_imputation_to_both_train_and_test_splits)\n",
        "        * [4.8.1.1.3 Scale the data](#4.8.1.1.3_Scale_the_data)\n",
        "        * [4.8.1.1.4 Train the model on the train split](#4.8.1.1.4_Train_the_model_on_the_train_split)\n",
        "        * [4.8.1.1.5 Make predictions using the model on both train and test splits](#4.8.1.1.5_Make_predictions_using_the_model_on_both_train_and_test_splits)\n",
        "        * [4.8.1.1.6 Assess model performance](#4.8.1.1.6_Assess_model_performance)\n",
        "      * [4.8.1.2 Impute missing values with the mean](#4.8.1.2_Impute_missing_values_with_the_mean)\n",
        "        * [4.8.1.2.1 Learn the values to impute from the train set](#4.8.1.2.1_Learn_the_values_to_impute_from_the_train_set)\n",
        "        * [4.8.1.2.2 Apply the imputation to both train and test splits](#4.8.1.2.2_Apply_the_imputation_to_both_train_and_test_splits)\n",
        "        * [4.8.1.2.3 Scale the data](#4.8.1.2.3_Scale_the_data)\n",
        "        * [4.8.1.2.4 Train the model on the train split](#4.8.1.2.4_Train_the_model_on_the_train_split)\n",
        "        * [4.8.1.2.5 Make predictions using the model on both train and test splits](#4.8.1.2.5_Make_predictions_using_the_model_on_both_train_and_test_splits)\n",
        "        * [4.8.1.2.6 Assess model performance](#4.8.1.2.6_Assess_model_performance)\n",
        "    * [4.8.2 Pipelines](#4.8.2_Pipelines)\n",
        "      * [4.8.2.1 Define the pipeline](#4.8.2.1_Define_the_pipeline)\n",
        "      * [4.8.2.2 Fit the pipeline](#4.8.2.2_Fit_the_pipeline)\n",
        "      * [4.8.2.3 Make predictions on the train and test sets](#4.8.2.3_Make_predictions_on_the_train_and_test_sets)\n",
        "      * [4.8.2.4 Assess performance](#4.8.2.4_Assess_performance)\n",
        "  * [4.9 Refining The Linear Model](#4.9_Refining_The_Linear_Model)\n",
        "    * [4.9.1 Define the pipeline](#4.9.1_Define_the_pipeline)\n",
        "    * [4.9.2 Fit the pipeline](#4.9.2_Fit_the_pipeline)\n",
        "    * [4.9.3 Assess performance on the train and test set](#4.9.3_Assess_performance_on_the_train_and_test_set)\n",
        "    * [4.9.4 Define a new pipeline to select a different number of features](#4.9.4_Define_a_new_pipeline_to_select_a_different_number_of_features)\n",
        "    * [4.9.5 Fit the pipeline](#4.9.5_Fit_the_pipeline)\n",
        "    * [4.9.6 Assess performance on train and test data](#4.9.6_Assess_performance_on_train_and_test_data)\n",
        "    * [4.9.7 Assessing performance using cross-validation](#4.9.7_Assessing_performance_using_cross-validation)\n",
        "    * [4.9.8 Hyperparameter search using GridSearchCV](#4.9.8_Hyperparameter_search_using_GridSearchCV)\n",
        "  * [4.10 Random Forest Model](#4.10_Random_Forest_Model)\n",
        "    * [4.10.1 Define the pipeline](#4.10.1_Define_the_pipeline)\n",
        "    * [4.10.2 Fit and assess performance using cross-validation](#4.10.2_Fit_and_assess_performance_using_cross-validation)\n",
        "    * [4.10.3 Hyperparameter search using GridSearchCV](#4.10.3_Hyperparameter_search_using_GridSearchCV)\n",
        "  * [4.11 Final Model Selection](#4.11_Final_Model_Selection)\n",
        "    * [4.11.1 Linear regression model performance](#4.11.1_Linear_regression_model_performance)\n",
        "    * [4.11.2 Random forest regression model performance](#4.11.2_Random_forest_regression_model_performance)\n",
        "    * [4.11.3 Conclusion](#4.11.3_Conclusion)\n",
        "  * [4.12 Data quantity assessment](#4.12_Data_quantity_assessment)\n",
        "  * [4.13 Save best model object from pipeline](#4.13_Save_best_model_object_from_pipeline)\n",
        "  * [4.14 Summary](#4.14_Summary)\n"
      ]
    },
    {
      "cell_type": "markdown",
      "metadata": {
        "id": "rxLB4CIk9ar9"
      },
      "source": [
        "## 4.2 Introduction<a id='4.2_Introduction'></a>"
      ]
    },
    {
      "cell_type": "markdown",
      "metadata": {
        "id": "sRk1Qsn69ar9"
      },
      "source": [
        "In preceding notebooks, performed preliminary assessments of data quality and refined the question to be answered. You found a small number of data values that gave clear choices about whether to replace values or drop a whole row. You determined that predicting the adult weekend ticket price was your primary aim. You threw away records with missing price data, but not before making the most of the other available data to look for any patterns between the states. You didn't see any and decided to treat all states equally; the state label didn't seem to be particularly useful.\n",
        "\n",
        "In this notebook you'll start to build machine learning models. Before even starting with learning a machine learning model, however, start by considering how useful the mean value is as a predictor. This is more than just a pedagogical device. You never want to go to stakeholders with a machine learning model only to have the CEO point out that it performs worse than just guessing the average! Your first model is a baseline performance comparitor for any subsequent model. You then build up the process of efficiently and robustly creating and assessing models against it. The development we lay out may be little slower than in the real world, but this step of the capstone is definitely more than just instructional. It is good practice to build up an understanding that the machine learning pipelines you build work as expected. You can validate steps with your own functions for checking expected equivalence between, say, pandas and sklearn implementations."
      ]
    },
    {
      "cell_type": "markdown",
      "metadata": {
        "id": "YtGlI9af9ar9"
      },
      "source": [
        "## 4.3 Imports<a id='4.3_Imports'></a>"
      ]
    },
    {
      "cell_type": "code",
      "execution_count": null,
      "metadata": {
        "id": "cBdjQ32L9ar-"
      },
      "outputs": [],
      "source": [
        "import os\n",
        "import pickle\n",
        "import datetime\n",
        "import numpy as np\n",
        "import pandas as pd\n",
        "import seaborn as sns\n",
        "import matplotlib.pyplot as plt\n",
        "\n",
        "from sklearn.decomposition import PCA\n",
        "from sklearn.dummy import DummyRegressor\n",
        "from sklearn.impute import SimpleImputer\n",
        "from sklearn.pipeline import make_pipeline\n",
        "from sklearn.linear_model import LinearRegression\n",
        "from sklearn.ensemble import RandomForestRegressor\n",
        "from sklearn import __version__ as sklearn_version\n",
        "\n",
        "from sklearn.preprocessing import (\n",
        "      scale\n",
        "    , MinMaxScaler\n",
        "    , StandardScaler\n",
        ")\n",
        "\n",
        "from sklearn.model_selection import (\n",
        "      GridSearchCV\n",
        "    , cross_validate\n",
        "    , learning_curve\n",
        "    , train_test_split\n",
        ")\n",
        "\n",
        "from sklearn.metrics import (\n",
        "      r2_score\n",
        "    , mean_squared_error\n",
        "    , mean_absolute_error\n",
        ")\n",
        "\n",
        "from sklearn.feature_selection import (\n",
        "      SelectKBest\n",
        "    , f_regression\n",
        ")"
      ]
    },
    {
      "cell_type": "code",
      "source": [
        "# NOTE: If you're running this notebook in Google Colab, ensure that the\n",
        "#       directory containing the 'library' (including the 'sb_utils.py' file\n",
        "#       we need to import its 'save_file' class) is located in the same path\n",
        "#       as this .ipynb notebook within your Google Drive. Once in the same path\n",
        "#       import the 'sys' library and add their parent directory (for me it was\n",
        "#       /content/drive/MyDrive/Colab Notebooks) to your System Path and then\n",
        "#       call the 'save_file' function. Do not forget to add the '/' at the end\n",
        "#       of the path.\n",
        "from google.colab import drive\n",
        "drive.mount('/content/drive')\n",
        "\n",
        "import sys\n",
        "\n",
        "package_path = '/content/drive/MyDrive/Colab Notebooks'\n",
        "sys.path.append(package_path)\n",
        "\n",
        "from library.sb_utils import save_file"
      ],
      "metadata": {
        "colab": {
          "base_uri": "https://localhost:8080/"
        },
        "id": "4zRY1-Ra-afT",
        "outputId": "75a0474f-dba6-469a-9add-e08d903731ce"
      },
      "execution_count": null,
      "outputs": [
        {
          "output_type": "stream",
          "name": "stdout",
          "text": [
            "Drive already mounted at /content/drive; to attempt to forcibly remount, call drive.mount(\"/content/drive\", force_remount=True).\n"
          ]
        }
      ]
    },
    {
      "cell_type": "markdown",
      "metadata": {
        "id": "m9i0TLZD9ar-"
      },
      "source": [
        "## 4.4 Load Data<a id='4.4_Load_Data'></a>"
      ]
    },
    {
      "cell_type": "code",
      "execution_count": null,
      "metadata": {
        "scrolled": true,
        "colab": {
          "base_uri": "https://localhost:8080/",
          "height": 1000
        },
        "id": "_jGTTCOl9ar-",
        "outputId": "503a5452-5437-4bdc-a397-1fed720d660b"
      },
      "outputs": [
        {
          "output_type": "execute_result",
          "data": {
            "text/plain": [
              "                                                 0                    1  \\\n",
              "Name                                Alyeska Resort  Eaglecrest Ski Area   \n",
              "Region                                      Alaska               Alaska   \n",
              "state                                       Alaska               Alaska   \n",
              "summit_elev                                   3939                 2600   \n",
              "vertical_drop                                 2500                 1540   \n",
              "base_elev                                      250                 1200   \n",
              "trams                                            1                    0   \n",
              "fastSixes                                        0                    0   \n",
              "fastQuads                                        2                    0   \n",
              "quad                                             2                    0   \n",
              "triple                                           0                    0   \n",
              "double                                           0                    4   \n",
              "surface                                          2                    0   \n",
              "total_chairs                                     7                    4   \n",
              "Runs                                          76.0                 36.0   \n",
              "TerrainParks                                   2.0                  1.0   \n",
              "LongestRun_mi                                  1.0                  2.0   \n",
              "SkiableTerrain_ac                           1610.0                640.0   \n",
              "Snow Making_ac                               113.0                 60.0   \n",
              "daysOpenLastYear                             150.0                 45.0   \n",
              "yearsOpen                                     60.0                 44.0   \n",
              "averageSnowfall                              669.0                350.0   \n",
              "AdultWeekend                                  85.0                 53.0   \n",
              "projectedDaysOpen                            150.0                 90.0   \n",
              "NightSkiing_ac                               550.0                  NaN   \n",
              "resorts_per_state                                3                    3   \n",
              "resorts_per_100kcapita                    0.410091             0.410091   \n",
              "resorts_per_100ksq_mile                   0.450867             0.450867   \n",
              "resort_skiable_area_ac_state_ratio         0.70614             0.280702   \n",
              "resort_days_open_state_ratio              0.434783             0.130435   \n",
              "resort_terrain_park_state_ratio                0.5                 0.25   \n",
              "resort_night_skiing_state_ratio           0.948276                  NaN   \n",
              "total_chairs_runs_ratio                   0.092105             0.111111   \n",
              "total_chairs_skiable_ratio                0.004348              0.00625   \n",
              "fastQuads_runs_ratio                      0.026316                  0.0   \n",
              "fastQuads_skiable_ratio                   0.001242                  0.0   \n",
              "\n",
              "                                                   2                 3  \\\n",
              "Name                                Hilltop Ski Area  Arizona Snowbowl   \n",
              "Region                                        Alaska           Arizona   \n",
              "state                                         Alaska           Arizona   \n",
              "summit_elev                                     2090             11500   \n",
              "vertical_drop                                    294              2300   \n",
              "base_elev                                       1796              9200   \n",
              "trams                                              0                 0   \n",
              "fastSixes                                          0                 1   \n",
              "fastQuads                                          0                 0   \n",
              "quad                                               0                 2   \n",
              "triple                                             1                 2   \n",
              "double                                             0                 1   \n",
              "surface                                            2                 2   \n",
              "total_chairs                                       3                 8   \n",
              "Runs                                            13.0              55.0   \n",
              "TerrainParks                                     1.0               4.0   \n",
              "LongestRun_mi                                    1.0               2.0   \n",
              "SkiableTerrain_ac                               30.0             777.0   \n",
              "Snow Making_ac                                  30.0             104.0   \n",
              "daysOpenLastYear                               150.0             122.0   \n",
              "yearsOpen                                       36.0              81.0   \n",
              "averageSnowfall                                 69.0             260.0   \n",
              "AdultWeekend                                    34.0              89.0   \n",
              "projectedDaysOpen                              152.0             122.0   \n",
              "NightSkiing_ac                                  30.0               NaN   \n",
              "resorts_per_state                                  3                 2   \n",
              "resorts_per_100kcapita                      0.410091          0.027477   \n",
              "resorts_per_100ksq_mile                     0.450867           1.75454   \n",
              "resort_skiable_area_ac_state_ratio          0.013158          0.492708   \n",
              "resort_days_open_state_ratio                0.434783          0.514768   \n",
              "resort_terrain_park_state_ratio                 0.25          0.666667   \n",
              "resort_night_skiing_state_ratio             0.051724               NaN   \n",
              "total_chairs_runs_ratio                     0.230769          0.145455   \n",
              "total_chairs_skiable_ratio                       0.1          0.010296   \n",
              "fastQuads_runs_ratio                             0.0               0.0   \n",
              "fastQuads_skiable_ratio                          0.0               0.0   \n",
              "\n",
              "                                                      4  \n",
              "Name                                Sunrise Park Resort  \n",
              "Region                                          Arizona  \n",
              "state                                           Arizona  \n",
              "summit_elev                                       11100  \n",
              "vertical_drop                                      1800  \n",
              "base_elev                                          9200  \n",
              "trams                                                 0  \n",
              "fastSixes                                             0  \n",
              "fastQuads                                             1  \n",
              "quad                                                  2  \n",
              "triple                                                3  \n",
              "double                                                1  \n",
              "surface                                               0  \n",
              "total_chairs                                          7  \n",
              "Runs                                               65.0  \n",
              "TerrainParks                                        2.0  \n",
              "LongestRun_mi                                       1.2  \n",
              "SkiableTerrain_ac                                 800.0  \n",
              "Snow Making_ac                                     80.0  \n",
              "daysOpenLastYear                                  115.0  \n",
              "yearsOpen                                          49.0  \n",
              "averageSnowfall                                   250.0  \n",
              "AdultWeekend                                       78.0  \n",
              "projectedDaysOpen                                 104.0  \n",
              "NightSkiing_ac                                     80.0  \n",
              "resorts_per_state                                     2  \n",
              "resorts_per_100kcapita                         0.027477  \n",
              "resorts_per_100ksq_mile                         1.75454  \n",
              "resort_skiable_area_ac_state_ratio             0.507292  \n",
              "resort_days_open_state_ratio                   0.485232  \n",
              "resort_terrain_park_state_ratio                0.333333  \n",
              "resort_night_skiing_state_ratio                     1.0  \n",
              "total_chairs_runs_ratio                        0.107692  \n",
              "total_chairs_skiable_ratio                      0.00875  \n",
              "fastQuads_runs_ratio                           0.015385  \n",
              "fastQuads_skiable_ratio                         0.00125  "
            ],
            "text/html": [
              "\n",
              "\n",
              "  <div id=\"df-c4f8e997-01e4-482d-83f8-54c5ec93fd51\">\n",
              "    <div class=\"colab-df-container\">\n",
              "      <div>\n",
              "<style scoped>\n",
              "    .dataframe tbody tr th:only-of-type {\n",
              "        vertical-align: middle;\n",
              "    }\n",
              "\n",
              "    .dataframe tbody tr th {\n",
              "        vertical-align: top;\n",
              "    }\n",
              "\n",
              "    .dataframe thead th {\n",
              "        text-align: right;\n",
              "    }\n",
              "</style>\n",
              "<table border=\"1\" class=\"dataframe\">\n",
              "  <thead>\n",
              "    <tr style=\"text-align: right;\">\n",
              "      <th></th>\n",
              "      <th>0</th>\n",
              "      <th>1</th>\n",
              "      <th>2</th>\n",
              "      <th>3</th>\n",
              "      <th>4</th>\n",
              "    </tr>\n",
              "  </thead>\n",
              "  <tbody>\n",
              "    <tr>\n",
              "      <th>Name</th>\n",
              "      <td>Alyeska Resort</td>\n",
              "      <td>Eaglecrest Ski Area</td>\n",
              "      <td>Hilltop Ski Area</td>\n",
              "      <td>Arizona Snowbowl</td>\n",
              "      <td>Sunrise Park Resort</td>\n",
              "    </tr>\n",
              "    <tr>\n",
              "      <th>Region</th>\n",
              "      <td>Alaska</td>\n",
              "      <td>Alaska</td>\n",
              "      <td>Alaska</td>\n",
              "      <td>Arizona</td>\n",
              "      <td>Arizona</td>\n",
              "    </tr>\n",
              "    <tr>\n",
              "      <th>state</th>\n",
              "      <td>Alaska</td>\n",
              "      <td>Alaska</td>\n",
              "      <td>Alaska</td>\n",
              "      <td>Arizona</td>\n",
              "      <td>Arizona</td>\n",
              "    </tr>\n",
              "    <tr>\n",
              "      <th>summit_elev</th>\n",
              "      <td>3939</td>\n",
              "      <td>2600</td>\n",
              "      <td>2090</td>\n",
              "      <td>11500</td>\n",
              "      <td>11100</td>\n",
              "    </tr>\n",
              "    <tr>\n",
              "      <th>vertical_drop</th>\n",
              "      <td>2500</td>\n",
              "      <td>1540</td>\n",
              "      <td>294</td>\n",
              "      <td>2300</td>\n",
              "      <td>1800</td>\n",
              "    </tr>\n",
              "    <tr>\n",
              "      <th>base_elev</th>\n",
              "      <td>250</td>\n",
              "      <td>1200</td>\n",
              "      <td>1796</td>\n",
              "      <td>9200</td>\n",
              "      <td>9200</td>\n",
              "    </tr>\n",
              "    <tr>\n",
              "      <th>trams</th>\n",
              "      <td>1</td>\n",
              "      <td>0</td>\n",
              "      <td>0</td>\n",
              "      <td>0</td>\n",
              "      <td>0</td>\n",
              "    </tr>\n",
              "    <tr>\n",
              "      <th>fastSixes</th>\n",
              "      <td>0</td>\n",
              "      <td>0</td>\n",
              "      <td>0</td>\n",
              "      <td>1</td>\n",
              "      <td>0</td>\n",
              "    </tr>\n",
              "    <tr>\n",
              "      <th>fastQuads</th>\n",
              "      <td>2</td>\n",
              "      <td>0</td>\n",
              "      <td>0</td>\n",
              "      <td>0</td>\n",
              "      <td>1</td>\n",
              "    </tr>\n",
              "    <tr>\n",
              "      <th>quad</th>\n",
              "      <td>2</td>\n",
              "      <td>0</td>\n",
              "      <td>0</td>\n",
              "      <td>2</td>\n",
              "      <td>2</td>\n",
              "    </tr>\n",
              "    <tr>\n",
              "      <th>triple</th>\n",
              "      <td>0</td>\n",
              "      <td>0</td>\n",
              "      <td>1</td>\n",
              "      <td>2</td>\n",
              "      <td>3</td>\n",
              "    </tr>\n",
              "    <tr>\n",
              "      <th>double</th>\n",
              "      <td>0</td>\n",
              "      <td>4</td>\n",
              "      <td>0</td>\n",
              "      <td>1</td>\n",
              "      <td>1</td>\n",
              "    </tr>\n",
              "    <tr>\n",
              "      <th>surface</th>\n",
              "      <td>2</td>\n",
              "      <td>0</td>\n",
              "      <td>2</td>\n",
              "      <td>2</td>\n",
              "      <td>0</td>\n",
              "    </tr>\n",
              "    <tr>\n",
              "      <th>total_chairs</th>\n",
              "      <td>7</td>\n",
              "      <td>4</td>\n",
              "      <td>3</td>\n",
              "      <td>8</td>\n",
              "      <td>7</td>\n",
              "    </tr>\n",
              "    <tr>\n",
              "      <th>Runs</th>\n",
              "      <td>76.0</td>\n",
              "      <td>36.0</td>\n",
              "      <td>13.0</td>\n",
              "      <td>55.0</td>\n",
              "      <td>65.0</td>\n",
              "    </tr>\n",
              "    <tr>\n",
              "      <th>TerrainParks</th>\n",
              "      <td>2.0</td>\n",
              "      <td>1.0</td>\n",
              "      <td>1.0</td>\n",
              "      <td>4.0</td>\n",
              "      <td>2.0</td>\n",
              "    </tr>\n",
              "    <tr>\n",
              "      <th>LongestRun_mi</th>\n",
              "      <td>1.0</td>\n",
              "      <td>2.0</td>\n",
              "      <td>1.0</td>\n",
              "      <td>2.0</td>\n",
              "      <td>1.2</td>\n",
              "    </tr>\n",
              "    <tr>\n",
              "      <th>SkiableTerrain_ac</th>\n",
              "      <td>1610.0</td>\n",
              "      <td>640.0</td>\n",
              "      <td>30.0</td>\n",
              "      <td>777.0</td>\n",
              "      <td>800.0</td>\n",
              "    </tr>\n",
              "    <tr>\n",
              "      <th>Snow Making_ac</th>\n",
              "      <td>113.0</td>\n",
              "      <td>60.0</td>\n",
              "      <td>30.0</td>\n",
              "      <td>104.0</td>\n",
              "      <td>80.0</td>\n",
              "    </tr>\n",
              "    <tr>\n",
              "      <th>daysOpenLastYear</th>\n",
              "      <td>150.0</td>\n",
              "      <td>45.0</td>\n",
              "      <td>150.0</td>\n",
              "      <td>122.0</td>\n",
              "      <td>115.0</td>\n",
              "    </tr>\n",
              "    <tr>\n",
              "      <th>yearsOpen</th>\n",
              "      <td>60.0</td>\n",
              "      <td>44.0</td>\n",
              "      <td>36.0</td>\n",
              "      <td>81.0</td>\n",
              "      <td>49.0</td>\n",
              "    </tr>\n",
              "    <tr>\n",
              "      <th>averageSnowfall</th>\n",
              "      <td>669.0</td>\n",
              "      <td>350.0</td>\n",
              "      <td>69.0</td>\n",
              "      <td>260.0</td>\n",
              "      <td>250.0</td>\n",
              "    </tr>\n",
              "    <tr>\n",
              "      <th>AdultWeekend</th>\n",
              "      <td>85.0</td>\n",
              "      <td>53.0</td>\n",
              "      <td>34.0</td>\n",
              "      <td>89.0</td>\n",
              "      <td>78.0</td>\n",
              "    </tr>\n",
              "    <tr>\n",
              "      <th>projectedDaysOpen</th>\n",
              "      <td>150.0</td>\n",
              "      <td>90.0</td>\n",
              "      <td>152.0</td>\n",
              "      <td>122.0</td>\n",
              "      <td>104.0</td>\n",
              "    </tr>\n",
              "    <tr>\n",
              "      <th>NightSkiing_ac</th>\n",
              "      <td>550.0</td>\n",
              "      <td>NaN</td>\n",
              "      <td>30.0</td>\n",
              "      <td>NaN</td>\n",
              "      <td>80.0</td>\n",
              "    </tr>\n",
              "    <tr>\n",
              "      <th>resorts_per_state</th>\n",
              "      <td>3</td>\n",
              "      <td>3</td>\n",
              "      <td>3</td>\n",
              "      <td>2</td>\n",
              "      <td>2</td>\n",
              "    </tr>\n",
              "    <tr>\n",
              "      <th>resorts_per_100kcapita</th>\n",
              "      <td>0.410091</td>\n",
              "      <td>0.410091</td>\n",
              "      <td>0.410091</td>\n",
              "      <td>0.027477</td>\n",
              "      <td>0.027477</td>\n",
              "    </tr>\n",
              "    <tr>\n",
              "      <th>resorts_per_100ksq_mile</th>\n",
              "      <td>0.450867</td>\n",
              "      <td>0.450867</td>\n",
              "      <td>0.450867</td>\n",
              "      <td>1.75454</td>\n",
              "      <td>1.75454</td>\n",
              "    </tr>\n",
              "    <tr>\n",
              "      <th>resort_skiable_area_ac_state_ratio</th>\n",
              "      <td>0.70614</td>\n",
              "      <td>0.280702</td>\n",
              "      <td>0.013158</td>\n",
              "      <td>0.492708</td>\n",
              "      <td>0.507292</td>\n",
              "    </tr>\n",
              "    <tr>\n",
              "      <th>resort_days_open_state_ratio</th>\n",
              "      <td>0.434783</td>\n",
              "      <td>0.130435</td>\n",
              "      <td>0.434783</td>\n",
              "      <td>0.514768</td>\n",
              "      <td>0.485232</td>\n",
              "    </tr>\n",
              "    <tr>\n",
              "      <th>resort_terrain_park_state_ratio</th>\n",
              "      <td>0.5</td>\n",
              "      <td>0.25</td>\n",
              "      <td>0.25</td>\n",
              "      <td>0.666667</td>\n",
              "      <td>0.333333</td>\n",
              "    </tr>\n",
              "    <tr>\n",
              "      <th>resort_night_skiing_state_ratio</th>\n",
              "      <td>0.948276</td>\n",
              "      <td>NaN</td>\n",
              "      <td>0.051724</td>\n",
              "      <td>NaN</td>\n",
              "      <td>1.0</td>\n",
              "    </tr>\n",
              "    <tr>\n",
              "      <th>total_chairs_runs_ratio</th>\n",
              "      <td>0.092105</td>\n",
              "      <td>0.111111</td>\n",
              "      <td>0.230769</td>\n",
              "      <td>0.145455</td>\n",
              "      <td>0.107692</td>\n",
              "    </tr>\n",
              "    <tr>\n",
              "      <th>total_chairs_skiable_ratio</th>\n",
              "      <td>0.004348</td>\n",
              "      <td>0.00625</td>\n",
              "      <td>0.1</td>\n",
              "      <td>0.010296</td>\n",
              "      <td>0.00875</td>\n",
              "    </tr>\n",
              "    <tr>\n",
              "      <th>fastQuads_runs_ratio</th>\n",
              "      <td>0.026316</td>\n",
              "      <td>0.0</td>\n",
              "      <td>0.0</td>\n",
              "      <td>0.0</td>\n",
              "      <td>0.015385</td>\n",
              "    </tr>\n",
              "    <tr>\n",
              "      <th>fastQuads_skiable_ratio</th>\n",
              "      <td>0.001242</td>\n",
              "      <td>0.0</td>\n",
              "      <td>0.0</td>\n",
              "      <td>0.0</td>\n",
              "      <td>0.00125</td>\n",
              "    </tr>\n",
              "  </tbody>\n",
              "</table>\n",
              "</div>\n",
              "      <button class=\"colab-df-convert\" onclick=\"convertToInteractive('df-c4f8e997-01e4-482d-83f8-54c5ec93fd51')\"\n",
              "              title=\"Convert this dataframe to an interactive table.\"\n",
              "              style=\"display:none;\">\n",
              "\n",
              "  <svg xmlns=\"http://www.w3.org/2000/svg\" height=\"24px\"viewBox=\"0 0 24 24\"\n",
              "       width=\"24px\">\n",
              "    <path d=\"M0 0h24v24H0V0z\" fill=\"none\"/>\n",
              "    <path d=\"M18.56 5.44l.94 2.06.94-2.06 2.06-.94-2.06-.94-.94-2.06-.94 2.06-2.06.94zm-11 1L8.5 8.5l.94-2.06 2.06-.94-2.06-.94L8.5 2.5l-.94 2.06-2.06.94zm10 10l.94 2.06.94-2.06 2.06-.94-2.06-.94-.94-2.06-.94 2.06-2.06.94z\"/><path d=\"M17.41 7.96l-1.37-1.37c-.4-.4-.92-.59-1.43-.59-.52 0-1.04.2-1.43.59L10.3 9.45l-7.72 7.72c-.78.78-.78 2.05 0 2.83L4 21.41c.39.39.9.59 1.41.59.51 0 1.02-.2 1.41-.59l7.78-7.78 2.81-2.81c.8-.78.8-2.07 0-2.86zM5.41 20L4 18.59l7.72-7.72 1.47 1.35L5.41 20z\"/>\n",
              "  </svg>\n",
              "      </button>\n",
              "\n",
              "\n",
              "\n",
              "    <div id=\"df-41d4e538-5918-4ee2-91ce-2bd182fc79d6\">\n",
              "      <button class=\"colab-df-quickchart\" onclick=\"quickchart('df-41d4e538-5918-4ee2-91ce-2bd182fc79d6')\"\n",
              "              title=\"Suggest charts.\"\n",
              "              style=\"display:none;\">\n",
              "\n",
              "<svg xmlns=\"http://www.w3.org/2000/svg\" height=\"24px\"viewBox=\"0 0 24 24\"\n",
              "     width=\"24px\">\n",
              "    <g>\n",
              "        <path d=\"M19 3H5c-1.1 0-2 .9-2 2v14c0 1.1.9 2 2 2h14c1.1 0 2-.9 2-2V5c0-1.1-.9-2-2-2zM9 17H7v-7h2v7zm4 0h-2V7h2v10zm4 0h-2v-4h2v4z\"/>\n",
              "    </g>\n",
              "</svg>\n",
              "      </button>\n",
              "    </div>\n",
              "\n",
              "<style>\n",
              "  .colab-df-quickchart {\n",
              "    background-color: #E8F0FE;\n",
              "    border: none;\n",
              "    border-radius: 50%;\n",
              "    cursor: pointer;\n",
              "    display: none;\n",
              "    fill: #1967D2;\n",
              "    height: 32px;\n",
              "    padding: 0 0 0 0;\n",
              "    width: 32px;\n",
              "  }\n",
              "\n",
              "  .colab-df-quickchart:hover {\n",
              "    background-color: #E2EBFA;\n",
              "    box-shadow: 0px 1px 2px rgba(60, 64, 67, 0.3), 0px 1px 3px 1px rgba(60, 64, 67, 0.15);\n",
              "    fill: #174EA6;\n",
              "  }\n",
              "\n",
              "  [theme=dark] .colab-df-quickchart {\n",
              "    background-color: #3B4455;\n",
              "    fill: #D2E3FC;\n",
              "  }\n",
              "\n",
              "  [theme=dark] .colab-df-quickchart:hover {\n",
              "    background-color: #434B5C;\n",
              "    box-shadow: 0px 1px 3px 1px rgba(0, 0, 0, 0.15);\n",
              "    filter: drop-shadow(0px 1px 2px rgba(0, 0, 0, 0.3));\n",
              "    fill: #FFFFFF;\n",
              "  }\n",
              "</style>\n",
              "\n",
              "    <script>\n",
              "      async function quickchart(key) {\n",
              "        const containerElement = document.querySelector('#' + key);\n",
              "        const charts = await google.colab.kernel.invokeFunction(\n",
              "            'suggestCharts', [key], {});\n",
              "      }\n",
              "    </script>\n",
              "\n",
              "      <script>\n",
              "\n",
              "function displayQuickchartButton(domScope) {\n",
              "  let quickchartButtonEl =\n",
              "    domScope.querySelector('#df-41d4e538-5918-4ee2-91ce-2bd182fc79d6 button.colab-df-quickchart');\n",
              "  quickchartButtonEl.style.display =\n",
              "    google.colab.kernel.accessAllowed ? 'block' : 'none';\n",
              "}\n",
              "\n",
              "        displayQuickchartButton(document);\n",
              "      </script>\n",
              "      <style>\n",
              "    .colab-df-container {\n",
              "      display:flex;\n",
              "      flex-wrap:wrap;\n",
              "      gap: 12px;\n",
              "    }\n",
              "\n",
              "    .colab-df-convert {\n",
              "      background-color: #E8F0FE;\n",
              "      border: none;\n",
              "      border-radius: 50%;\n",
              "      cursor: pointer;\n",
              "      display: none;\n",
              "      fill: #1967D2;\n",
              "      height: 32px;\n",
              "      padding: 0 0 0 0;\n",
              "      width: 32px;\n",
              "    }\n",
              "\n",
              "    .colab-df-convert:hover {\n",
              "      background-color: #E2EBFA;\n",
              "      box-shadow: 0px 1px 2px rgba(60, 64, 67, 0.3), 0px 1px 3px 1px rgba(60, 64, 67, 0.15);\n",
              "      fill: #174EA6;\n",
              "    }\n",
              "\n",
              "    [theme=dark] .colab-df-convert {\n",
              "      background-color: #3B4455;\n",
              "      fill: #D2E3FC;\n",
              "    }\n",
              "\n",
              "    [theme=dark] .colab-df-convert:hover {\n",
              "      background-color: #434B5C;\n",
              "      box-shadow: 0px 1px 3px 1px rgba(0, 0, 0, 0.15);\n",
              "      filter: drop-shadow(0px 1px 2px rgba(0, 0, 0, 0.3));\n",
              "      fill: #FFFFFF;\n",
              "    }\n",
              "  </style>\n",
              "\n",
              "      <script>\n",
              "        const buttonEl =\n",
              "          document.querySelector('#df-c4f8e997-01e4-482d-83f8-54c5ec93fd51 button.colab-df-convert');\n",
              "        buttonEl.style.display =\n",
              "          google.colab.kernel.accessAllowed ? 'block' : 'none';\n",
              "\n",
              "        async function convertToInteractive(key) {\n",
              "          const element = document.querySelector('#df-c4f8e997-01e4-482d-83f8-54c5ec93fd51');\n",
              "          const dataTable =\n",
              "            await google.colab.kernel.invokeFunction('convertToInteractive',\n",
              "                                                     [key], {});\n",
              "          if (!dataTable) return;\n",
              "\n",
              "          const docLinkHtml = 'Like what you see? Visit the ' +\n",
              "            '<a target=\"_blank\" href=https://colab.research.google.com/notebooks/data_table.ipynb>data table notebook</a>'\n",
              "            + ' to learn more about interactive tables.';\n",
              "          element.innerHTML = '';\n",
              "          dataTable['output_type'] = 'display_data';\n",
              "          await google.colab.output.renderOutput(dataTable, element);\n",
              "          const docLink = document.createElement('div');\n",
              "          docLink.innerHTML = docLinkHtml;\n",
              "          element.appendChild(docLink);\n",
              "        }\n",
              "      </script>\n",
              "    </div>\n",
              "  </div>\n"
            ]
          },
          "metadata": {},
          "execution_count": 4
        }
      ],
      "source": [
        "ski_data = pd.read_csv(\n",
        "    '/content/drive/MyDrive/Colab Notebooks/data/ski_data_step3_features.csv'\n",
        ")\n",
        "\n",
        "ski_data.head().T"
      ]
    },
    {
      "cell_type": "markdown",
      "metadata": {
        "id": "vH5cBQ4a9ar_"
      },
      "source": [
        "## 4.5 Extract Big Mountain Data<a id='4.5_Extract_Big_Mountain_Data'></a>"
      ]
    },
    {
      "cell_type": "markdown",
      "metadata": {
        "id": "ou7ZJiUU9ar_"
      },
      "source": [
        "Big Mountain is your resort. Separate it from the rest of the data to use later."
      ]
    },
    {
      "cell_type": "code",
      "execution_count": null,
      "metadata": {
        "id": "RVPE2wos9ar_"
      },
      "outputs": [],
      "source": [
        "big_mountain = ski_data[ski_data.Name == 'Big Mountain Resort']"
      ]
    },
    {
      "cell_type": "code",
      "execution_count": null,
      "metadata": {
        "colab": {
          "base_uri": "https://localhost:8080/",
          "height": 1000
        },
        "id": "cGWiQQsH9ar_",
        "outputId": "43ebf1b6-917a-4f23-cff9-2b421b93fc4e"
      },
      "outputs": [
        {
          "output_type": "execute_result",
          "data": {
            "text/plain": [
              "                                                    124\n",
              "Name                                Big Mountain Resort\n",
              "Region                                          Montana\n",
              "state                                           Montana\n",
              "summit_elev                                        6817\n",
              "vertical_drop                                      2353\n",
              "base_elev                                          4464\n",
              "trams                                                 0\n",
              "fastSixes                                             0\n",
              "fastQuads                                             3\n",
              "quad                                                  2\n",
              "triple                                                6\n",
              "double                                                0\n",
              "surface                                               3\n",
              "total_chairs                                         14\n",
              "Runs                                              105.0\n",
              "TerrainParks                                        4.0\n",
              "LongestRun_mi                                       3.3\n",
              "SkiableTerrain_ac                                3000.0\n",
              "Snow Making_ac                                    600.0\n",
              "daysOpenLastYear                                  123.0\n",
              "yearsOpen                                          72.0\n",
              "averageSnowfall                                   333.0\n",
              "AdultWeekend                                       81.0\n",
              "projectedDaysOpen                                 123.0\n",
              "NightSkiing_ac                                    600.0\n",
              "resorts_per_state                                    12\n",
              "resorts_per_100kcapita                         1.122778\n",
              "resorts_per_100ksq_mile                        8.161045\n",
              "resort_skiable_area_ac_state_ratio             0.140121\n",
              "resort_days_open_state_ratio                   0.129338\n",
              "resort_terrain_park_state_ratio                0.148148\n",
              "resort_night_skiing_state_ratio                 0.84507\n",
              "total_chairs_runs_ratio                        0.133333\n",
              "total_chairs_skiable_ratio                     0.004667\n",
              "fastQuads_runs_ratio                           0.028571\n",
              "fastQuads_skiable_ratio                           0.001"
            ],
            "text/html": [
              "\n",
              "\n",
              "  <div id=\"df-ca883d3f-1f53-4e64-bc3a-f37837c09873\">\n",
              "    <div class=\"colab-df-container\">\n",
              "      <div>\n",
              "<style scoped>\n",
              "    .dataframe tbody tr th:only-of-type {\n",
              "        vertical-align: middle;\n",
              "    }\n",
              "\n",
              "    .dataframe tbody tr th {\n",
              "        vertical-align: top;\n",
              "    }\n",
              "\n",
              "    .dataframe thead th {\n",
              "        text-align: right;\n",
              "    }\n",
              "</style>\n",
              "<table border=\"1\" class=\"dataframe\">\n",
              "  <thead>\n",
              "    <tr style=\"text-align: right;\">\n",
              "      <th></th>\n",
              "      <th>124</th>\n",
              "    </tr>\n",
              "  </thead>\n",
              "  <tbody>\n",
              "    <tr>\n",
              "      <th>Name</th>\n",
              "      <td>Big Mountain Resort</td>\n",
              "    </tr>\n",
              "    <tr>\n",
              "      <th>Region</th>\n",
              "      <td>Montana</td>\n",
              "    </tr>\n",
              "    <tr>\n",
              "      <th>state</th>\n",
              "      <td>Montana</td>\n",
              "    </tr>\n",
              "    <tr>\n",
              "      <th>summit_elev</th>\n",
              "      <td>6817</td>\n",
              "    </tr>\n",
              "    <tr>\n",
              "      <th>vertical_drop</th>\n",
              "      <td>2353</td>\n",
              "    </tr>\n",
              "    <tr>\n",
              "      <th>base_elev</th>\n",
              "      <td>4464</td>\n",
              "    </tr>\n",
              "    <tr>\n",
              "      <th>trams</th>\n",
              "      <td>0</td>\n",
              "    </tr>\n",
              "    <tr>\n",
              "      <th>fastSixes</th>\n",
              "      <td>0</td>\n",
              "    </tr>\n",
              "    <tr>\n",
              "      <th>fastQuads</th>\n",
              "      <td>3</td>\n",
              "    </tr>\n",
              "    <tr>\n",
              "      <th>quad</th>\n",
              "      <td>2</td>\n",
              "    </tr>\n",
              "    <tr>\n",
              "      <th>triple</th>\n",
              "      <td>6</td>\n",
              "    </tr>\n",
              "    <tr>\n",
              "      <th>double</th>\n",
              "      <td>0</td>\n",
              "    </tr>\n",
              "    <tr>\n",
              "      <th>surface</th>\n",
              "      <td>3</td>\n",
              "    </tr>\n",
              "    <tr>\n",
              "      <th>total_chairs</th>\n",
              "      <td>14</td>\n",
              "    </tr>\n",
              "    <tr>\n",
              "      <th>Runs</th>\n",
              "      <td>105.0</td>\n",
              "    </tr>\n",
              "    <tr>\n",
              "      <th>TerrainParks</th>\n",
              "      <td>4.0</td>\n",
              "    </tr>\n",
              "    <tr>\n",
              "      <th>LongestRun_mi</th>\n",
              "      <td>3.3</td>\n",
              "    </tr>\n",
              "    <tr>\n",
              "      <th>SkiableTerrain_ac</th>\n",
              "      <td>3000.0</td>\n",
              "    </tr>\n",
              "    <tr>\n",
              "      <th>Snow Making_ac</th>\n",
              "      <td>600.0</td>\n",
              "    </tr>\n",
              "    <tr>\n",
              "      <th>daysOpenLastYear</th>\n",
              "      <td>123.0</td>\n",
              "    </tr>\n",
              "    <tr>\n",
              "      <th>yearsOpen</th>\n",
              "      <td>72.0</td>\n",
              "    </tr>\n",
              "    <tr>\n",
              "      <th>averageSnowfall</th>\n",
              "      <td>333.0</td>\n",
              "    </tr>\n",
              "    <tr>\n",
              "      <th>AdultWeekend</th>\n",
              "      <td>81.0</td>\n",
              "    </tr>\n",
              "    <tr>\n",
              "      <th>projectedDaysOpen</th>\n",
              "      <td>123.0</td>\n",
              "    </tr>\n",
              "    <tr>\n",
              "      <th>NightSkiing_ac</th>\n",
              "      <td>600.0</td>\n",
              "    </tr>\n",
              "    <tr>\n",
              "      <th>resorts_per_state</th>\n",
              "      <td>12</td>\n",
              "    </tr>\n",
              "    <tr>\n",
              "      <th>resorts_per_100kcapita</th>\n",
              "      <td>1.122778</td>\n",
              "    </tr>\n",
              "    <tr>\n",
              "      <th>resorts_per_100ksq_mile</th>\n",
              "      <td>8.161045</td>\n",
              "    </tr>\n",
              "    <tr>\n",
              "      <th>resort_skiable_area_ac_state_ratio</th>\n",
              "      <td>0.140121</td>\n",
              "    </tr>\n",
              "    <tr>\n",
              "      <th>resort_days_open_state_ratio</th>\n",
              "      <td>0.129338</td>\n",
              "    </tr>\n",
              "    <tr>\n",
              "      <th>resort_terrain_park_state_ratio</th>\n",
              "      <td>0.148148</td>\n",
              "    </tr>\n",
              "    <tr>\n",
              "      <th>resort_night_skiing_state_ratio</th>\n",
              "      <td>0.84507</td>\n",
              "    </tr>\n",
              "    <tr>\n",
              "      <th>total_chairs_runs_ratio</th>\n",
              "      <td>0.133333</td>\n",
              "    </tr>\n",
              "    <tr>\n",
              "      <th>total_chairs_skiable_ratio</th>\n",
              "      <td>0.004667</td>\n",
              "    </tr>\n",
              "    <tr>\n",
              "      <th>fastQuads_runs_ratio</th>\n",
              "      <td>0.028571</td>\n",
              "    </tr>\n",
              "    <tr>\n",
              "      <th>fastQuads_skiable_ratio</th>\n",
              "      <td>0.001</td>\n",
              "    </tr>\n",
              "  </tbody>\n",
              "</table>\n",
              "</div>\n",
              "      <button class=\"colab-df-convert\" onclick=\"convertToInteractive('df-ca883d3f-1f53-4e64-bc3a-f37837c09873')\"\n",
              "              title=\"Convert this dataframe to an interactive table.\"\n",
              "              style=\"display:none;\">\n",
              "\n",
              "  <svg xmlns=\"http://www.w3.org/2000/svg\" height=\"24px\"viewBox=\"0 0 24 24\"\n",
              "       width=\"24px\">\n",
              "    <path d=\"M0 0h24v24H0V0z\" fill=\"none\"/>\n",
              "    <path d=\"M18.56 5.44l.94 2.06.94-2.06 2.06-.94-2.06-.94-.94-2.06-.94 2.06-2.06.94zm-11 1L8.5 8.5l.94-2.06 2.06-.94-2.06-.94L8.5 2.5l-.94 2.06-2.06.94zm10 10l.94 2.06.94-2.06 2.06-.94-2.06-.94-.94-2.06-.94 2.06-2.06.94z\"/><path d=\"M17.41 7.96l-1.37-1.37c-.4-.4-.92-.59-1.43-.59-.52 0-1.04.2-1.43.59L10.3 9.45l-7.72 7.72c-.78.78-.78 2.05 0 2.83L4 21.41c.39.39.9.59 1.41.59.51 0 1.02-.2 1.41-.59l7.78-7.78 2.81-2.81c.8-.78.8-2.07 0-2.86zM5.41 20L4 18.59l7.72-7.72 1.47 1.35L5.41 20z\"/>\n",
              "  </svg>\n",
              "      </button>\n",
              "\n",
              "\n",
              "\n",
              "    <div id=\"df-107d732c-e0ef-4fac-8bb6-9acbc3142da8\">\n",
              "      <button class=\"colab-df-quickchart\" onclick=\"quickchart('df-107d732c-e0ef-4fac-8bb6-9acbc3142da8')\"\n",
              "              title=\"Suggest charts.\"\n",
              "              style=\"display:none;\">\n",
              "\n",
              "<svg xmlns=\"http://www.w3.org/2000/svg\" height=\"24px\"viewBox=\"0 0 24 24\"\n",
              "     width=\"24px\">\n",
              "    <g>\n",
              "        <path d=\"M19 3H5c-1.1 0-2 .9-2 2v14c0 1.1.9 2 2 2h14c1.1 0 2-.9 2-2V5c0-1.1-.9-2-2-2zM9 17H7v-7h2v7zm4 0h-2V7h2v10zm4 0h-2v-4h2v4z\"/>\n",
              "    </g>\n",
              "</svg>\n",
              "      </button>\n",
              "    </div>\n",
              "\n",
              "<style>\n",
              "  .colab-df-quickchart {\n",
              "    background-color: #E8F0FE;\n",
              "    border: none;\n",
              "    border-radius: 50%;\n",
              "    cursor: pointer;\n",
              "    display: none;\n",
              "    fill: #1967D2;\n",
              "    height: 32px;\n",
              "    padding: 0 0 0 0;\n",
              "    width: 32px;\n",
              "  }\n",
              "\n",
              "  .colab-df-quickchart:hover {\n",
              "    background-color: #E2EBFA;\n",
              "    box-shadow: 0px 1px 2px rgba(60, 64, 67, 0.3), 0px 1px 3px 1px rgba(60, 64, 67, 0.15);\n",
              "    fill: #174EA6;\n",
              "  }\n",
              "\n",
              "  [theme=dark] .colab-df-quickchart {\n",
              "    background-color: #3B4455;\n",
              "    fill: #D2E3FC;\n",
              "  }\n",
              "\n",
              "  [theme=dark] .colab-df-quickchart:hover {\n",
              "    background-color: #434B5C;\n",
              "    box-shadow: 0px 1px 3px 1px rgba(0, 0, 0, 0.15);\n",
              "    filter: drop-shadow(0px 1px 2px rgba(0, 0, 0, 0.3));\n",
              "    fill: #FFFFFF;\n",
              "  }\n",
              "</style>\n",
              "\n",
              "    <script>\n",
              "      async function quickchart(key) {\n",
              "        const containerElement = document.querySelector('#' + key);\n",
              "        const charts = await google.colab.kernel.invokeFunction(\n",
              "            'suggestCharts', [key], {});\n",
              "      }\n",
              "    </script>\n",
              "\n",
              "      <script>\n",
              "\n",
              "function displayQuickchartButton(domScope) {\n",
              "  let quickchartButtonEl =\n",
              "    domScope.querySelector('#df-107d732c-e0ef-4fac-8bb6-9acbc3142da8 button.colab-df-quickchart');\n",
              "  quickchartButtonEl.style.display =\n",
              "    google.colab.kernel.accessAllowed ? 'block' : 'none';\n",
              "}\n",
              "\n",
              "        displayQuickchartButton(document);\n",
              "      </script>\n",
              "      <style>\n",
              "    .colab-df-container {\n",
              "      display:flex;\n",
              "      flex-wrap:wrap;\n",
              "      gap: 12px;\n",
              "    }\n",
              "\n",
              "    .colab-df-convert {\n",
              "      background-color: #E8F0FE;\n",
              "      border: none;\n",
              "      border-radius: 50%;\n",
              "      cursor: pointer;\n",
              "      display: none;\n",
              "      fill: #1967D2;\n",
              "      height: 32px;\n",
              "      padding: 0 0 0 0;\n",
              "      width: 32px;\n",
              "    }\n",
              "\n",
              "    .colab-df-convert:hover {\n",
              "      background-color: #E2EBFA;\n",
              "      box-shadow: 0px 1px 2px rgba(60, 64, 67, 0.3), 0px 1px 3px 1px rgba(60, 64, 67, 0.15);\n",
              "      fill: #174EA6;\n",
              "    }\n",
              "\n",
              "    [theme=dark] .colab-df-convert {\n",
              "      background-color: #3B4455;\n",
              "      fill: #D2E3FC;\n",
              "    }\n",
              "\n",
              "    [theme=dark] .colab-df-convert:hover {\n",
              "      background-color: #434B5C;\n",
              "      box-shadow: 0px 1px 3px 1px rgba(0, 0, 0, 0.15);\n",
              "      filter: drop-shadow(0px 1px 2px rgba(0, 0, 0, 0.3));\n",
              "      fill: #FFFFFF;\n",
              "    }\n",
              "  </style>\n",
              "\n",
              "      <script>\n",
              "        const buttonEl =\n",
              "          document.querySelector('#df-ca883d3f-1f53-4e64-bc3a-f37837c09873 button.colab-df-convert');\n",
              "        buttonEl.style.display =\n",
              "          google.colab.kernel.accessAllowed ? 'block' : 'none';\n",
              "\n",
              "        async function convertToInteractive(key) {\n",
              "          const element = document.querySelector('#df-ca883d3f-1f53-4e64-bc3a-f37837c09873');\n",
              "          const dataTable =\n",
              "            await google.colab.kernel.invokeFunction('convertToInteractive',\n",
              "                                                     [key], {});\n",
              "          if (!dataTable) return;\n",
              "\n",
              "          const docLinkHtml = 'Like what you see? Visit the ' +\n",
              "            '<a target=\"_blank\" href=https://colab.research.google.com/notebooks/data_table.ipynb>data table notebook</a>'\n",
              "            + ' to learn more about interactive tables.';\n",
              "          element.innerHTML = '';\n",
              "          dataTable['output_type'] = 'display_data';\n",
              "          await google.colab.output.renderOutput(dataTable, element);\n",
              "          const docLink = document.createElement('div');\n",
              "          docLink.innerHTML = docLinkHtml;\n",
              "          element.appendChild(docLink);\n",
              "        }\n",
              "      </script>\n",
              "    </div>\n",
              "  </div>\n"
            ]
          },
          "metadata": {},
          "execution_count": 6
        }
      ],
      "source": [
        "big_mountain.T"
      ]
    },
    {
      "cell_type": "code",
      "execution_count": null,
      "metadata": {
        "colab": {
          "base_uri": "https://localhost:8080/"
        },
        "id": "qwXenSpM9ar_",
        "outputId": "633d3036-2f8a-41a4-aafe-0cba002bc092"
      },
      "outputs": [
        {
          "output_type": "execute_result",
          "data": {
            "text/plain": [
              "(277, 36)"
            ]
          },
          "metadata": {},
          "execution_count": 7
        }
      ],
      "source": [
        "ski_data.shape"
      ]
    },
    {
      "cell_type": "code",
      "execution_count": null,
      "metadata": {
        "id": "LGALNpCO9asA"
      },
      "outputs": [],
      "source": [
        "ski_data = ski_data[ski_data.Name != 'Big Mountain Resort']"
      ]
    },
    {
      "cell_type": "code",
      "execution_count": null,
      "metadata": {
        "colab": {
          "base_uri": "https://localhost:8080/"
        },
        "id": "LZZKzJ1d9asA",
        "outputId": "0554fcb6-9d2f-4645-cea2-a6e15a888060"
      },
      "outputs": [
        {
          "output_type": "execute_result",
          "data": {
            "text/plain": [
              "(276, 36)"
            ]
          },
          "metadata": {},
          "execution_count": 9
        }
      ],
      "source": [
        "ski_data.shape"
      ]
    },
    {
      "cell_type": "markdown",
      "metadata": {
        "id": "jwRo-yao9asA"
      },
      "source": [
        "## 4.6 Train/Test Split<a id='4.6_Train/Test_Split'></a>"
      ]
    },
    {
      "cell_type": "markdown",
      "metadata": {
        "id": "Uzt98cww9asA"
      },
      "source": [
        "So far, you've treated ski resort data as a single entity. In machine learning, when you train your model on all of your data, you end up with no data set aside to evaluate model performance. You could keep making more and more complex models that fit the data better and better and not realise you were overfitting to that one set of samples. By partitioning the data into training and testing splits, without letting a model (or missing-value imputation) learn anything about the test split, you have a somewhat independent assessment of how your model might perform in the future. An often overlooked subtlety here is that people all too frequently use the test set to assess model performance _and then compare multiple models to pick the best_. This means their overall model selection process is  fitting to one specific data set, now the test split. You could keep going, trying to get better and better performance on that one data set, but that's  where cross-validation becomes especially useful. While training models, a test split is very useful as a final check on expected future performance."
      ]
    },
    {
      "cell_type": "markdown",
      "metadata": {
        "id": "9FDL-Zw49asA"
      },
      "source": [
        "What partition sizes would you have with a 70/30 train/test split?"
      ]
    },
    {
      "cell_type": "code",
      "execution_count": null,
      "metadata": {
        "colab": {
          "base_uri": "https://localhost:8080/"
        },
        "id": "hiYLif5N9asA",
        "outputId": "d2b7a0d2-02d8-48f6-9369-3e6a8707da97"
      },
      "outputs": [
        {
          "output_type": "execute_result",
          "data": {
            "text/plain": [
              "(193.2, 82.8)"
            ]
          },
          "metadata": {},
          "execution_count": 10
        }
      ],
      "source": [
        "len(ski_data) * .7, len(ski_data) * .3"
      ]
    },
    {
      "cell_type": "code",
      "execution_count": null,
      "metadata": {
        "id": "jO_SDW0f9asA"
      },
      "outputs": [],
      "source": [
        "X_train, X_test, y_train, y_test = train_test_split(\n",
        "      ski_data.drop(columns='AdultWeekend')\n",
        "    , ski_data.AdultWeekend\n",
        "    , test_size=0.3\n",
        "    , random_state=47\n",
        ")"
      ]
    },
    {
      "cell_type": "code",
      "execution_count": null,
      "metadata": {
        "colab": {
          "base_uri": "https://localhost:8080/"
        },
        "id": "Rwabl8aR9asA",
        "outputId": "2597d97f-d5f6-4807-b13e-05d62ed398ef"
      },
      "outputs": [
        {
          "output_type": "execute_result",
          "data": {
            "text/plain": [
              "((193, 35), (83, 35))"
            ]
          },
          "metadata": {},
          "execution_count": 12
        }
      ],
      "source": [
        "# Features\n",
        "X_train.shape, X_test.shape"
      ]
    },
    {
      "cell_type": "code",
      "execution_count": null,
      "metadata": {
        "colab": {
          "base_uri": "https://localhost:8080/"
        },
        "id": "YPLkOp5p9asB",
        "outputId": "d97fa9f0-fda6-4f1e-92f6-db78dd5ccf3a"
      },
      "outputs": [
        {
          "output_type": "execute_result",
          "data": {
            "text/plain": [
              "((193,), (83,))"
            ]
          },
          "metadata": {},
          "execution_count": 13
        }
      ],
      "source": [
        "# Target\n",
        "y_train.shape, y_test.shape"
      ]
    },
    {
      "cell_type": "code",
      "execution_count": null,
      "metadata": {
        "colab": {
          "base_uri": "https://localhost:8080/"
        },
        "id": "vjeTVcnr9asB",
        "outputId": "4f08a0b0-dc44-4610-96ca-0b9b7f19003d"
      },
      "outputs": [
        {
          "output_type": "execute_result",
          "data": {
            "text/plain": [
              "((193, 32), (83, 32))"
            ]
          },
          "metadata": {},
          "execution_count": 14
        }
      ],
      "source": [
        "#Code task 1#\n",
        "#Save the 'Name', 'state', and 'Region' columns from the train/test data into names_train and names_test\n",
        "#Then drop those columns from `X_train` and `X_test`. Use 'inplace=True'\n",
        "names_list  = [\n",
        "      'Name'\n",
        "    , 'state'\n",
        "    , 'Region'\n",
        "]\n",
        "\n",
        "names_train = X_train[names_list]\n",
        "names_test  = X_test[names_list]\n",
        "\n",
        "X_train.drop(\n",
        "      columns = names_list\n",
        "    , inplace = True\n",
        ")\n",
        "\n",
        "X_test.drop(\n",
        "      columns = names_list\n",
        "    , inplace = True\n",
        ")\n",
        "\n",
        "X_train.shape, X_test.shape"
      ]
    },
    {
      "cell_type": "code",
      "execution_count": null,
      "metadata": {
        "colab": {
          "base_uri": "https://localhost:8080/"
        },
        "id": "kDZJfMjc9asB",
        "outputId": "9ff99c8f-687c-4edd-aa2a-6de5b5ec2b57"
      },
      "outputs": [
        {
          "output_type": "execute_result",
          "data": {
            "text/plain": [
              "summit_elev                             int64\n",
              "vertical_drop                           int64\n",
              "base_elev                               int64\n",
              "trams                                   int64\n",
              "fastSixes                               int64\n",
              "fastQuads                               int64\n",
              "quad                                    int64\n",
              "triple                                  int64\n",
              "double                                  int64\n",
              "surface                                 int64\n",
              "total_chairs                            int64\n",
              "Runs                                  float64\n",
              "TerrainParks                          float64\n",
              "LongestRun_mi                         float64\n",
              "SkiableTerrain_ac                     float64\n",
              "Snow Making_ac                        float64\n",
              "daysOpenLastYear                      float64\n",
              "yearsOpen                             float64\n",
              "averageSnowfall                       float64\n",
              "projectedDaysOpen                     float64\n",
              "NightSkiing_ac                        float64\n",
              "resorts_per_state                       int64\n",
              "resorts_per_100kcapita                float64\n",
              "resorts_per_100ksq_mile               float64\n",
              "resort_skiable_area_ac_state_ratio    float64\n",
              "resort_days_open_state_ratio          float64\n",
              "resort_terrain_park_state_ratio       float64\n",
              "resort_night_skiing_state_ratio       float64\n",
              "total_chairs_runs_ratio               float64\n",
              "total_chairs_skiable_ratio            float64\n",
              "fastQuads_runs_ratio                  float64\n",
              "fastQuads_skiable_ratio               float64\n",
              "dtype: object"
            ]
          },
          "metadata": {},
          "execution_count": 15
        }
      ],
      "source": [
        "#Code task 2#\n",
        "#Check the `dtypes` attribute of `X_train` to verify all features are numeric\n",
        "X_train.dtypes"
      ]
    },
    {
      "cell_type": "code",
      "execution_count": null,
      "metadata": {
        "colab": {
          "base_uri": "https://localhost:8080/"
        },
        "id": "pGOG6IAt9asB",
        "outputId": "737d92f7-029f-48e5-850f-a0417170ebf6"
      },
      "outputs": [
        {
          "output_type": "execute_result",
          "data": {
            "text/plain": [
              "summit_elev                             int64\n",
              "vertical_drop                           int64\n",
              "base_elev                               int64\n",
              "trams                                   int64\n",
              "fastSixes                               int64\n",
              "fastQuads                               int64\n",
              "quad                                    int64\n",
              "triple                                  int64\n",
              "double                                  int64\n",
              "surface                                 int64\n",
              "total_chairs                            int64\n",
              "Runs                                  float64\n",
              "TerrainParks                          float64\n",
              "LongestRun_mi                         float64\n",
              "SkiableTerrain_ac                     float64\n",
              "Snow Making_ac                        float64\n",
              "daysOpenLastYear                      float64\n",
              "yearsOpen                             float64\n",
              "averageSnowfall                       float64\n",
              "projectedDaysOpen                     float64\n",
              "NightSkiing_ac                        float64\n",
              "resorts_per_state                       int64\n",
              "resorts_per_100kcapita                float64\n",
              "resorts_per_100ksq_mile               float64\n",
              "resort_skiable_area_ac_state_ratio    float64\n",
              "resort_days_open_state_ratio          float64\n",
              "resort_terrain_park_state_ratio       float64\n",
              "resort_night_skiing_state_ratio       float64\n",
              "total_chairs_runs_ratio               float64\n",
              "total_chairs_skiable_ratio            float64\n",
              "fastQuads_runs_ratio                  float64\n",
              "fastQuads_skiable_ratio               float64\n",
              "dtype: object"
            ]
          },
          "metadata": {},
          "execution_count": 16
        }
      ],
      "source": [
        "#Code task 3#\n",
        "#Repeat this check for the test split in `X_test`\n",
        "X_test.dtypes"
      ]
    },
    {
      "cell_type": "markdown",
      "metadata": {
        "id": "DZ-RkY6x9asB"
      },
      "source": [
        "You have only numeric features in your <code>X</code> now!"
      ]
    },
    {
      "cell_type": "markdown",
      "metadata": {
        "id": "9NlquDrP9asB"
      },
      "source": [
        "## 4.7 Initial Not-Even-A-Model<a id='4.7_Initial_Not-Even-A-Model'></a>"
      ]
    },
    {
      "cell_type": "markdown",
      "metadata": {
        "id": "HdL9vta99asB"
      },
      "source": [
        "A good place to start is to see how good the mean is as a predictor. In other words, what if you simply say your best guess is the average price?"
      ]
    },
    {
      "cell_type": "code",
      "execution_count": null,
      "metadata": {
        "colab": {
          "base_uri": "https://localhost:8080/"
        },
        "id": "a8H3u12s9asB",
        "outputId": "348d6139-7b28-4f70-9dee-9e2450cb19ea"
      },
      "outputs": [
        {
          "output_type": "execute_result",
          "data": {
            "text/plain": [
              "63.811088082901556"
            ]
          },
          "metadata": {},
          "execution_count": 17
        }
      ],
      "source": [
        "#Code task 4#\n",
        "#Calculate the mean of `y_train`\n",
        "train_mean = y_train.mean()\n",
        "train_mean"
      ]
    },
    {
      "cell_type": "markdown",
      "metadata": {
        "id": "hmhjkNaY9asB"
      },
      "source": [
        "`sklearn`'s `DummyRegressor` easily does this:"
      ]
    },
    {
      "cell_type": "code",
      "execution_count": null,
      "metadata": {
        "colab": {
          "base_uri": "https://localhost:8080/"
        },
        "id": "oHvShAAP9asB",
        "outputId": "b76c7f87-1e5b-4058-cda7-25c82c9c36c0"
      },
      "outputs": [
        {
          "output_type": "execute_result",
          "data": {
            "text/plain": [
              "array([[63.81108808]])"
            ]
          },
          "metadata": {},
          "execution_count": 18
        }
      ],
      "source": [
        "#Code task 5#\n",
        "#Fit the dummy regressor on the training data\n",
        "#Hint, call its `.fit()` method with `X_train` and `y_train` as arguments\n",
        "#Then print the object's `constant_` attribute and verify it's the same as the mean above\n",
        "dumb_reg = DummyRegressor(\n",
        "    strategy='mean'\n",
        ")\n",
        "\n",
        "dumb_reg.fit(\n",
        "      X_train\n",
        "    , y_train\n",
        ")\n",
        "\n",
        "dumb_reg.constant_"
      ]
    },
    {
      "cell_type": "markdown",
      "metadata": {
        "id": "-yD8jwRo9asB"
      },
      "source": [
        "How good is this? How closely does this match, or explain, the actual values? There are many ways of assessing how good one set of values agrees with another, which brings us to the subject of metrics."
      ]
    },
    {
      "cell_type": "markdown",
      "metadata": {
        "id": "9WswHzW09asC"
      },
      "source": [
        "### 4.7.1 Metrics<a id='4.7.1_Metrics'></a>"
      ]
    },
    {
      "cell_type": "markdown",
      "metadata": {
        "id": "JOxJOBng9asC"
      },
      "source": [
        "#### 4.7.1.1 R-squared, or coefficient of determination<a id='4.7.1.1_R-squared,_or_coefficient_of_determination'></a>"
      ]
    },
    {
      "cell_type": "markdown",
      "metadata": {
        "id": "Y_EJtNXX9asC"
      },
      "source": [
        "One measure is $R^2$, the [coefficient of determination](https://en.wikipedia.org/wiki/Coefficient_of_determination). This is a measure of the proportion of variance in the dependent variable (our ticket price) that is predicted by our \"model\". The linked Wikipedia articles gives a nice explanation of how negative values can arise. This is frequently a cause of confusion for newcomers who, reasonably, ask how can a squared value be negative?\n",
        "\n",
        "Recall the mean can be denoted by $\\bar{y}$, where\n",
        "\n",
        "$$\\bar{y} = \\frac{1}{n}\\sum_{i=1}^ny_i$$\n",
        "\n",
        "and where $y_i$ are the individual values of the dependent variable.\n",
        "\n",
        "The total sum of squares (error), can be expressed as\n",
        "\n",
        "$$SS_{tot} = \\sum_i(y_i-\\bar{y})^2$$\n",
        "\n",
        "The above formula should be familiar as it's simply the variance without the denominator to scale (divide) by the sample size.\n",
        "\n",
        "The residual sum of squares is similarly defined to be\n",
        "\n",
        "$$SS_{res} = \\sum_i(y_i-\\hat{y})^2$$\n",
        "\n",
        "where $\\hat{y}$ are our predicted values for the depended variable.\n",
        "\n",
        "The coefficient of determination, $R^2$, here is given by\n",
        "\n",
        "$$R^2 = 1 - \\frac{SS_{res}}{SS_{tot}}$$\n",
        "\n",
        "Putting it into words, it's one minus the ratio of the residual variance to the original variance. Thus, the baseline model here, which always predicts $\\bar{y}$, should give $R^2=0$. A model that perfectly predicts the observed values would have no residual error and so give $R^2=1$. Models that do worse than predicting the mean will have increased the sum of squares of residuals and so produce a negative $R^2$."
      ]
    },
    {
      "cell_type": "code",
      "execution_count": null,
      "metadata": {
        "id": "To4KQ2p79asC"
      },
      "outputs": [],
      "source": [
        "#Code task 6#\n",
        "#Calculate the R^2 as defined above\n",
        "def r_squared(y, ypred):\n",
        "    \"\"\"R-squared score.\n",
        "\n",
        "    Calculate the R-squared, or coefficient of determination, of the input.\n",
        "\n",
        "    Arguments:\n",
        "    y     -- the observed values\n",
        "    ypred -- the predicted values\n",
        "    \"\"\"\n",
        "    ybar       = np.sum(y) / len(y)     #yes, we could use np.mean(y)\n",
        "    sum_sq_tot = np.sum((y - ybar)**2)  #total sum of squares error\n",
        "    sum_sq_res = np.sum((y - ypred)**2) #residual sum of squares error\n",
        "    R2 = 1.0 - sum_sq_res / sum_sq_tot\n",
        "\n",
        "    return R2"
      ]
    },
    {
      "cell_type": "markdown",
      "metadata": {
        "id": "I1tWZhAS9asC"
      },
      "source": [
        "Make your predictions by creating an array of length the size of the training set with the single value of the mean."
      ]
    },
    {
      "cell_type": "code",
      "execution_count": null,
      "metadata": {
        "colab": {
          "base_uri": "https://localhost:8080/"
        },
        "id": "DfkhM_K59asC",
        "outputId": "5dc454a2-7546-42ed-9fcf-866cb553383e"
      },
      "outputs": [
        {
          "output_type": "execute_result",
          "data": {
            "text/plain": [
              "array([63.81108808, 63.81108808, 63.81108808, 63.81108808, 63.81108808])"
            ]
          },
          "metadata": {},
          "execution_count": 20
        }
      ],
      "source": [
        "y_tr_pred_ = train_mean * np.ones(len(y_train))\n",
        "y_tr_pred_[:5]"
      ]
    },
    {
      "cell_type": "markdown",
      "metadata": {
        "id": "FT7yO9rO9asC"
      },
      "source": [
        "Remember the `sklearn` dummy regressor?"
      ]
    },
    {
      "cell_type": "code",
      "execution_count": null,
      "metadata": {
        "colab": {
          "base_uri": "https://localhost:8080/"
        },
        "id": "rNyDn29O9asF",
        "outputId": "b75bd894-8756-4068-d7e3-84139c7140a6"
      },
      "outputs": [
        {
          "output_type": "execute_result",
          "data": {
            "text/plain": [
              "array([63.81108808, 63.81108808, 63.81108808, 63.81108808, 63.81108808])"
            ]
          },
          "metadata": {},
          "execution_count": 21
        }
      ],
      "source": [
        "y_tr_pred = dumb_reg.predict(X_train)\n",
        "y_tr_pred[:5]"
      ]
    },
    {
      "cell_type": "markdown",
      "metadata": {
        "id": "ISGM5tnQ9asF"
      },
      "source": [
        "You can see that `DummyRegressor` produces exactly the same results and saves you having to mess about broadcasting the mean (or whichever other statistic we used - check out the [documentation](https://scikit-learn.org/stable/modules/generated/sklearn.dummy.DummyRegressor.html) to see what's available) to an array of the appropriate length. It also gives you an object with `fit()` and `predict()` methods as well so you can use them as conveniently as any other `sklearn` estimator."
      ]
    },
    {
      "cell_type": "code",
      "execution_count": null,
      "metadata": {
        "colab": {
          "base_uri": "https://localhost:8080/"
        },
        "id": "_UXtHk5b9asG",
        "outputId": "263db8c8-ee3a-410f-c21a-89691dd95a67"
      },
      "outputs": [
        {
          "output_type": "execute_result",
          "data": {
            "text/plain": [
              "0.0"
            ]
          },
          "metadata": {},
          "execution_count": 22
        }
      ],
      "source": [
        "r_squared(y_train, y_tr_pred)"
      ]
    },
    {
      "cell_type": "markdown",
      "metadata": {
        "id": "ZMHfG8AQ9asG"
      },
      "source": [
        "Exactly as expected, if you use the average value as your prediction, you get an $R^2$ of zero _on our training set_. What if you use this \"model\" to predict unseen values from the test set? Remember, of course, that your \"model\" is trained on the training set; you still use the training set mean as your prediction."
      ]
    },
    {
      "cell_type": "markdown",
      "metadata": {
        "id": "fm7aSuqt9asG"
      },
      "source": [
        "Make your predictions by creating an array of length the size of the test set with the single value of the (training) mean."
      ]
    },
    {
      "cell_type": "code",
      "execution_count": null,
      "metadata": {
        "colab": {
          "base_uri": "https://localhost:8080/"
        },
        "id": "X0UEChSg9asG",
        "outputId": "e000307c-bb0c-4446-a476-3a6964ff97f7"
      },
      "outputs": [
        {
          "output_type": "execute_result",
          "data": {
            "text/plain": [
              "-0.0031235200417913944"
            ]
          },
          "metadata": {},
          "execution_count": 23
        }
      ],
      "source": [
        "y_te_pred = train_mean * np.ones(len(y_test))\n",
        "r_squared(y_test, y_te_pred)"
      ]
    },
    {
      "cell_type": "markdown",
      "metadata": {
        "id": "PMtJIhVo9asG"
      },
      "source": [
        "Generally, you can expect performance on a test set to be slightly worse than on the training set. As you are getting an $R^2$ of zero on the training set, there's nowhere to go but negative!"
      ]
    },
    {
      "cell_type": "markdown",
      "metadata": {
        "id": "PQPvNF4m9asG"
      },
      "source": [
        "$R^2$ is a common metric, and interpretable in terms of the amount of variance explained, it's less appealing if you want an idea of how \"close\" your predictions are to the true values. Metrics that summarise the difference between predicted and actual values are _mean absolute error_ and _mean squared error_."
      ]
    },
    {
      "cell_type": "markdown",
      "metadata": {
        "id": "elZd0uw19asG"
      },
      "source": [
        "#### 4.7.1.2 Mean Absolute Error<a id='4.7.1.2_Mean_Absolute_Error'></a>"
      ]
    },
    {
      "cell_type": "markdown",
      "metadata": {
        "id": "J07g_QwJ9asG"
      },
      "source": [
        "This is very simply the average of the absolute errors:\n",
        "\n",
        "$$MAE = \\frac{1}{n}\\sum_i^n|y_i - \\hat{y}|$$"
      ]
    },
    {
      "cell_type": "code",
      "execution_count": null,
      "metadata": {
        "id": "yaIYUmwV9asH"
      },
      "outputs": [],
      "source": [
        "#Code task 7#\n",
        "#Calculate the MAE as defined above\n",
        "def mae(y, ypred):\n",
        "    \"\"\"Mean absolute error.\n",
        "\n",
        "    Calculate the mean absolute error of the arguments\n",
        "\n",
        "    Arguments:\n",
        "    y     -- the observed values\n",
        "    ypred -- the predicted values\n",
        "    \"\"\"\n",
        "    abs_error = np.abs(y - ypred)\n",
        "    mae       = np.mean(abs_error)\n",
        "    return mae"
      ]
    },
    {
      "cell_type": "code",
      "execution_count": null,
      "metadata": {
        "colab": {
          "base_uri": "https://localhost:8080/"
        },
        "id": "BLA9LY4X9asH",
        "outputId": "70518833-a779-4ddd-9834-f2959b87748a"
      },
      "outputs": [
        {
          "output_type": "execute_result",
          "data": {
            "text/plain": [
              "17.92346371714677"
            ]
          },
          "metadata": {},
          "execution_count": 25
        }
      ],
      "source": [
        "mae(y_train, y_tr_pred)"
      ]
    },
    {
      "cell_type": "code",
      "execution_count": null,
      "metadata": {
        "colab": {
          "base_uri": "https://localhost:8080/"
        },
        "id": "iC7DEPZU9asH",
        "outputId": "302b3ad1-5915-4242-bbb7-c006db581b6e"
      },
      "outputs": [
        {
          "output_type": "execute_result",
          "data": {
            "text/plain": [
              "19.136142081278486"
            ]
          },
          "metadata": {},
          "execution_count": 26
        }
      ],
      "source": [
        "mae(y_test, y_te_pred)"
      ]
    },
    {
      "cell_type": "markdown",
      "metadata": {
        "id": "4pMEFam_9asH"
      },
      "source": [
        "Mean absolute error is arguably the most intuitive of all the metrics, this essentially tells you that, on average, you might expect to be off by around \\\\$19 if you guessed ticket price based on an average of known values."
      ]
    },
    {
      "cell_type": "markdown",
      "metadata": {
        "id": "JY17k73p9asH"
      },
      "source": [
        "#### 4.7.1.3 Mean Squared Error<a id='4.7.1.3_Mean_Squared_Error'></a>"
      ]
    },
    {
      "cell_type": "markdown",
      "metadata": {
        "id": "dad9NFY89asH"
      },
      "source": [
        "Another common metric (and an important one internally for optimizing machine learning models) is the mean squared error. This is simply the average of the square of the errors:\n",
        "\n",
        "$$MSE = \\frac{1}{n}\\sum_i^n(y_i - \\hat{y})^2$$"
      ]
    },
    {
      "cell_type": "code",
      "execution_count": null,
      "metadata": {
        "scrolled": true,
        "id": "EfE2laJK9asH"
      },
      "outputs": [],
      "source": [
        "#Code task 8#\n",
        "#Calculate the MSE as defined above\n",
        "def mse(y, ypred):\n",
        "    \"\"\"Mean square error.\n",
        "\n",
        "    Calculate the mean square error of the arguments\n",
        "\n",
        "    Arguments:\n",
        "    y     -- the observed values\n",
        "    ypred -- the predicted values\n",
        "    \"\"\"\n",
        "    sq_error = (y - ypred)**2\n",
        "    mse      = np.mean(sq_error)\n",
        "\n",
        "    return mse"
      ]
    },
    {
      "cell_type": "code",
      "execution_count": null,
      "metadata": {
        "colab": {
          "base_uri": "https://localhost:8080/"
        },
        "id": "uznphxRS9asH",
        "outputId": "5707c8da-321d-4b06-9fcc-8f469f511499"
      },
      "outputs": [
        {
          "output_type": "execute_result",
          "data": {
            "text/plain": [
              "614.1334096969046"
            ]
          },
          "metadata": {},
          "execution_count": 28
        }
      ],
      "source": [
        "mse(y_train, y_tr_pred)"
      ]
    },
    {
      "cell_type": "code",
      "execution_count": null,
      "metadata": {
        "colab": {
          "base_uri": "https://localhost:8080/"
        },
        "id": "wLoSZaD19asI",
        "outputId": "0599e656-a161-44e0-9391-a715bfc5d1ee"
      },
      "outputs": [
        {
          "output_type": "execute_result",
          "data": {
            "text/plain": [
              "581.4365441953483"
            ]
          },
          "metadata": {},
          "execution_count": 29
        }
      ],
      "source": [
        "mse(y_test, y_te_pred)"
      ]
    },
    {
      "cell_type": "markdown",
      "metadata": {
        "id": "qOaELpeK9asI"
      },
      "source": [
        "So here, you get a slightly better MSE on the test set than you did on the train set. And what does a squared error mean anyway? To convert this back to our measurement space, we often take the square root, to form the _root mean square error_ thus:"
      ]
    },
    {
      "cell_type": "code",
      "execution_count": null,
      "metadata": {
        "colab": {
          "base_uri": "https://localhost:8080/"
        },
        "id": "oYjq3AFl9asI",
        "outputId": "82588c2d-2b1d-4c9d-86c5-418c04a29e7b"
      },
      "outputs": [
        {
          "output_type": "execute_result",
          "data": {
            "text/plain": [
              "array([24.78171523, 24.11299534])"
            ]
          },
          "metadata": {},
          "execution_count": 30
        }
      ],
      "source": [
        "np.sqrt(\n",
        "    [\n",
        "          mse(y_train, y_tr_pred)\n",
        "        , mse(y_test , y_te_pred)\n",
        "    ]\n",
        ")"
      ]
    },
    {
      "cell_type": "markdown",
      "metadata": {
        "id": "mnp8BEuQ9asI"
      },
      "source": [
        "### 4.7.2 sklearn metrics<a id='4.7.2_sklearn_metrics'></a>"
      ]
    },
    {
      "cell_type": "markdown",
      "metadata": {
        "id": "SXuY-vxC9asI"
      },
      "source": [
        "Functions are good, but you don't want to have to define functions every time we want to assess performance. `sklearn.metrics` provides many commonly used metrics, included the ones above."
      ]
    },
    {
      "cell_type": "markdown",
      "metadata": {
        "id": "YFmoyDHU9asI"
      },
      "source": [
        "##### 4.7.2.0.1 R-squared<a id='4.7.2.0.1_R-squared'></a>"
      ]
    },
    {
      "cell_type": "code",
      "execution_count": null,
      "metadata": {
        "colab": {
          "base_uri": "https://localhost:8080/"
        },
        "id": "3eJwFln29asI",
        "outputId": "4bc049f5-55a1-474c-899d-0aa67a1e1130"
      },
      "outputs": [
        {
          "output_type": "execute_result",
          "data": {
            "text/plain": [
              "(0.0, -0.0031235200417913944)"
            ]
          },
          "metadata": {},
          "execution_count": 31
        }
      ],
      "source": [
        "r2_score(y_train, y_tr_pred), r2_score(y_test, y_te_pred)"
      ]
    },
    {
      "cell_type": "markdown",
      "metadata": {
        "id": "Bw28rEgQ9asI"
      },
      "source": [
        "##### 4.7.2.0.2 Mean absolute error<a id='4.7.2.0.2_Mean_absolute_error'></a>"
      ]
    },
    {
      "cell_type": "code",
      "execution_count": null,
      "metadata": {
        "colab": {
          "base_uri": "https://localhost:8080/"
        },
        "id": "mBjg9Os69asJ",
        "outputId": "b2e91121-fb32-4f23-cacc-e65d394d8bfa"
      },
      "outputs": [
        {
          "output_type": "execute_result",
          "data": {
            "text/plain": [
              "(17.92346371714677, 19.136142081278486)"
            ]
          },
          "metadata": {},
          "execution_count": 32
        }
      ],
      "source": [
        "mean_absolute_error(y_train, y_tr_pred), mean_absolute_error(y_test, y_te_pred)"
      ]
    },
    {
      "cell_type": "markdown",
      "metadata": {
        "id": "TQsVGfBy9asJ"
      },
      "source": [
        "##### 4.7.2.0.3 Mean squared error<a id='4.7.2.0.3_Mean_squared_error'></a>"
      ]
    },
    {
      "cell_type": "code",
      "execution_count": null,
      "metadata": {
        "colab": {
          "base_uri": "https://localhost:8080/"
        },
        "id": "5uWwq8zf9asJ",
        "outputId": "3f6429af-fc77-4261-c9a3-5dbdb9db51f6"
      },
      "outputs": [
        {
          "output_type": "execute_result",
          "data": {
            "text/plain": [
              "(614.1334096969046, 581.4365441953483)"
            ]
          },
          "metadata": {},
          "execution_count": 33
        }
      ],
      "source": [
        "mean_squared_error(y_train, y_tr_pred), mean_squared_error(y_test, y_te_pred)"
      ]
    },
    {
      "cell_type": "markdown",
      "metadata": {
        "id": "By0pxRIK9asJ"
      },
      "source": [
        "### 4.7.3 Note On Calculating Metrics<a id='4.7.3_Note_On_Calculating_Metrics'></a>"
      ]
    },
    {
      "cell_type": "markdown",
      "metadata": {
        "id": "vXVGt9Pf9asJ"
      },
      "source": [
        "When calling functions to calculate metrics, it is important to take care in the order of the arguments. Two of the metrics above actually don't care if the arguments are reversed; one does. Which one cares?"
      ]
    },
    {
      "cell_type": "markdown",
      "metadata": {
        "id": "GtZeCLBv9asJ"
      },
      "source": [
        "In a Jupyter code cell, running `r2_score?` will bring up the docstring for the function, and `r2_score??` will bring up the actual code of the function! Try them and compare the source for `sklearn`'s function with yours. Feel free to explore what happens when you reverse the order of the arguments and compare behaviour of `sklearn`'s function and yours."
      ]
    },
    {
      "cell_type": "code",
      "execution_count": null,
      "metadata": {
        "colab": {
          "base_uri": "https://localhost:8080/"
        },
        "id": "cFZvL_ZM9asJ",
        "outputId": "ad1cd991-20f5-471b-a47c-a60fdf6c20ac"
      },
      "outputs": [
        {
          "output_type": "execute_result",
          "data": {
            "text/plain": [
              "(0.0, -3.041041349306602e+30)"
            ]
          },
          "metadata": {},
          "execution_count": 34
        }
      ],
      "source": [
        "# train set - sklearn\n",
        "# correct order, incorrect order\n",
        "r2_score(y_train, y_tr_pred), r2_score(y_tr_pred, y_train)"
      ]
    },
    {
      "cell_type": "code",
      "execution_count": null,
      "metadata": {
        "colab": {
          "base_uri": "https://localhost:8080/"
        },
        "id": "rPlkSaRI9asJ",
        "outputId": "28301462-f857-413c-d091-1678dbf98adb"
      },
      "outputs": [
        {
          "output_type": "execute_result",
          "data": {
            "text/plain": [
              "(-0.0031235200417913944, 0.0)"
            ]
          },
          "metadata": {},
          "execution_count": 35
        }
      ],
      "source": [
        "# test set - sklearn\n",
        "# correct order, incorrect order\n",
        "r2_score(y_test, y_te_pred), r2_score(y_te_pred, y_test)"
      ]
    },
    {
      "cell_type": "code",
      "execution_count": null,
      "metadata": {
        "colab": {
          "base_uri": "https://localhost:8080/"
        },
        "id": "rvUQMbl39asK",
        "outputId": "85dc2839-d994-4b7f-8ab6-13741f8a7147"
      },
      "outputs": [
        {
          "output_type": "execute_result",
          "data": {
            "text/plain": [
              "(0.0, -3.041041349306602e+30)"
            ]
          },
          "metadata": {},
          "execution_count": 36
        }
      ],
      "source": [
        "# train set - using our homebrew function\n",
        "# correct order, incorrect order\n",
        "r_squared(y_train, y_tr_pred), r_squared(y_tr_pred, y_train)"
      ]
    },
    {
      "cell_type": "code",
      "execution_count": null,
      "metadata": {
        "colab": {
          "base_uri": "https://localhost:8080/"
        },
        "id": "XOJ5_yf09asK",
        "outputId": "af9280d2-57ae-4c02-e94a-564636dfb052"
      },
      "outputs": [
        {
          "output_type": "stream",
          "name": "stderr",
          "text": [
            "<ipython-input-19-e118e6905620>:15: RuntimeWarning: divide by zero encountered in double_scalars\n",
            "  R2 = 1.0 - sum_sq_res / sum_sq_tot\n"
          ]
        },
        {
          "output_type": "execute_result",
          "data": {
            "text/plain": [
              "(-0.0031235200417913944, -inf)"
            ]
          },
          "metadata": {},
          "execution_count": 37
        }
      ],
      "source": [
        "# test set - using our homebrew function\n",
        "# correct order, incorrect order\n",
        "r_squared(y_test, y_te_pred), r_squared(y_te_pred, y_test)"
      ]
    },
    {
      "cell_type": "markdown",
      "metadata": {
        "id": "6CNkTH189asK"
      },
      "source": [
        "You can get very different results swapping the argument order. It's worth highlighting this because data scientists do this too much in the real world! Don't be one of them! Frequently the argument order doesn't matter, but it will bite you when you do it with a function that does care. It's sloppy, bad practice and if you don't make a habit of putting arguments in the right order, you will forget!\n",
        "\n",
        "Remember:\n",
        "* argument order matters,\n",
        "* check function syntax with `func?` in a code cell"
      ]
    },
    {
      "cell_type": "markdown",
      "metadata": {
        "id": "b-E4XgFE9asK"
      },
      "source": [
        "## 4.8 Initial Models<a id='4.8_Initial_Models'></a>"
      ]
    },
    {
      "cell_type": "markdown",
      "metadata": {
        "id": "D2T5MZXk9asK"
      },
      "source": [
        "### 4.8.1 Imputing missing feature (predictor) values<a id='4.8.1_Imputing_missing_feature_(predictor)_values'></a>"
      ]
    },
    {
      "cell_type": "markdown",
      "metadata": {
        "id": "k-K1UA-K9asK"
      },
      "source": [
        "Recall when performing EDA, you imputed (filled in) some missing values in pandas. You did this judiciously for exploratory/visualization purposes. You left many missing values in the data. You can impute missing values using scikit-learn, but note that you should learn values to impute from a train split and apply that to the test split to then assess how well your imputation worked."
      ]
    },
    {
      "cell_type": "markdown",
      "metadata": {
        "id": "htvwGujz9asK"
      },
      "source": [
        "#### 4.8.1.1 Impute missing values with median<a id='4.8.1.1_Impute_missing_values_with_median'></a>"
      ]
    },
    {
      "cell_type": "markdown",
      "metadata": {
        "id": "v0QEZCJr9asL"
      },
      "source": [
        "There's missing values. Recall from your data exploration that many distributions were skewed. Your first thought might be to impute missing values using the median."
      ]
    },
    {
      "cell_type": "markdown",
      "metadata": {
        "id": "SWGZCEkg9asL"
      },
      "source": [
        "##### 4.8.1.1.1 Learn the values to impute from the train set<a id='4.8.1.1.1_Learn_the_values_to_impute_from_the_train_set'></a>"
      ]
    },
    {
      "cell_type": "code",
      "execution_count": null,
      "metadata": {
        "colab": {
          "base_uri": "https://localhost:8080/"
        },
        "id": "a82lYD1O9asL",
        "outputId": "03068c9f-f987-4674-c44e-86f9ba10d476"
      },
      "outputs": [
        {
          "output_type": "execute_result",
          "data": {
            "text/plain": [
              "summit_elev                           2215.000000\n",
              "vertical_drop                          750.000000\n",
              "base_elev                             1300.000000\n",
              "trams                                    0.000000\n",
              "fastSixes                                0.000000\n",
              "fastQuads                                0.000000\n",
              "quad                                     1.000000\n",
              "triple                                   1.000000\n",
              "double                                   1.000000\n",
              "surface                                  2.000000\n",
              "total_chairs                             7.000000\n",
              "Runs                                    28.000000\n",
              "TerrainParks                             2.000000\n",
              "LongestRun_mi                            1.000000\n",
              "SkiableTerrain_ac                      170.000000\n",
              "Snow Making_ac                          96.500000\n",
              "daysOpenLastYear                       109.000000\n",
              "yearsOpen                               57.000000\n",
              "averageSnowfall                        120.000000\n",
              "projectedDaysOpen                      115.000000\n",
              "NightSkiing_ac                          70.000000\n",
              "resorts_per_state                       15.000000\n",
              "resorts_per_100kcapita                   0.248243\n",
              "resorts_per_100ksq_mile                 22.902162\n",
              "resort_skiable_area_ac_state_ratio       0.051458\n",
              "resort_days_open_state_ratio             0.071225\n",
              "resort_terrain_park_state_ratio          0.069444\n",
              "resort_night_skiing_state_ratio          0.077081\n",
              "total_chairs_runs_ratio                  0.200000\n",
              "total_chairs_skiable_ratio               0.040323\n",
              "fastQuads_runs_ratio                     0.000000\n",
              "fastQuads_skiable_ratio                  0.000000\n",
              "dtype: float64"
            ]
          },
          "metadata": {},
          "execution_count": 38
        }
      ],
      "source": [
        "# These are the values we'll use to fill in any missing values\n",
        "X_defaults_median = X_train.median()\n",
        "X_defaults_median"
      ]
    },
    {
      "cell_type": "markdown",
      "metadata": {
        "id": "q9Rn9mn99asL"
      },
      "source": [
        "##### 4.8.1.1.2 Apply the imputation to both train and test splits<a id='4.8.1.1.2_Apply_the_imputation_to_both_train_and_test_splits'></a>"
      ]
    },
    {
      "cell_type": "code",
      "execution_count": null,
      "metadata": {
        "id": "z7ub559J9asL"
      },
      "outputs": [],
      "source": [
        "#Code task 9#\n",
        "#Call `X_train` and `X_test`'s `fillna()` method, passing `X_defaults_median` as the values to use\n",
        "#Assign the results to `X_tr` and `X_te`, respectively\n",
        "X_tr = X_train.fillna(\n",
        "    X_defaults_median\n",
        ")\n",
        "\n",
        "X_te = X_test.fillna(\n",
        "    X_defaults_median\n",
        ")"
      ]
    },
    {
      "cell_type": "markdown",
      "metadata": {
        "id": "R5MjQeCy9asL"
      },
      "source": [
        "##### 4.8.1.1.3 Scale the data<a id='4.8.1.1.3_Scale_the_data'></a>"
      ]
    },
    {
      "cell_type": "markdown",
      "metadata": {
        "id": "wjZsi8eM9asL"
      },
      "source": [
        "As you have features measured in many different units, with numbers that vary by orders of magnitude, start off by scaling them to put them all on a consistent scale. The [StandardScaler](https://scikit-learn.org/stable/modules/generated/sklearn.preprocessing.StandardScaler.html) scales each feature to zero mean and unit variance."
      ]
    },
    {
      "cell_type": "code",
      "execution_count": null,
      "metadata": {
        "id": "fzbsyikV9asL"
      },
      "outputs": [],
      "source": [
        "#Code task 10#\n",
        "#Call the StandardScaler`s fit method on `X_tr` to fit the scaler\n",
        "#then use it's `transform()` method to apply the scaling to both the train and test split\n",
        "#data (`X_tr` and `X_te`), naming the results `X_tr_scaled` and `X_te_scaled`, respectively\n",
        "scaler = StandardScaler()\n",
        "scaler.fit(X_tr)\n",
        "X_tr_scaled = scaler.transform(X_tr)\n",
        "X_te_scaled = scaler.transform(X_te)"
      ]
    },
    {
      "cell_type": "markdown",
      "metadata": {
        "id": "Mt-qUQ0V9asM"
      },
      "source": [
        "##### 4.8.1.1.4 Train the model on the train split<a id='4.8.1.1.4_Train_the_model_on_the_train_split'></a>"
      ]
    },
    {
      "cell_type": "code",
      "execution_count": null,
      "metadata": {
        "id": "jYc9BBNQ9asM"
      },
      "outputs": [],
      "source": [
        "lm = LinearRegression().fit(X_tr_scaled, y_train)"
      ]
    },
    {
      "cell_type": "markdown",
      "metadata": {
        "id": "DIvzRPWf9asM"
      },
      "source": [
        "##### 4.8.1.1.5 Make predictions using the model on both train and test splits<a id='4.8.1.1.5_Make_predictions_using_the_model_on_both_train_and_test_splits'></a>"
      ]
    },
    {
      "cell_type": "code",
      "execution_count": null,
      "metadata": {
        "id": "Je6AJQrS9asM"
      },
      "outputs": [],
      "source": [
        "#Code task 11#\n",
        "#Call the `predict()` method of the model (`lm`) on both the (scaled) train and test data\n",
        "#Assign the predictions to `y_tr_pred` and `y_te_pred`, respectively\n",
        "y_tr_pred = lm.predict(X_tr_scaled)\n",
        "y_te_pred = lm.predict(X_te_scaled)"
      ]
    },
    {
      "cell_type": "markdown",
      "metadata": {
        "id": "euf1EV2z9asM"
      },
      "source": [
        "##### 4.8.1.1.6 Assess model performance<a id='4.8.1.1.6_Assess_model_performance'></a>"
      ]
    },
    {
      "cell_type": "code",
      "execution_count": null,
      "metadata": {
        "colab": {
          "base_uri": "https://localhost:8080/"
        },
        "id": "IBglZVws9asM",
        "outputId": "e532d6d4-b528-4798-a513-a2f9e809d7eb"
      },
      "outputs": [
        {
          "output_type": "execute_result",
          "data": {
            "text/plain": [
              "(0.8177988515690603, 0.7209725843435144)"
            ]
          },
          "metadata": {},
          "execution_count": 43
        }
      ],
      "source": [
        "# r^2 - train, test\n",
        "median_r2 = r2_score(y_train, y_tr_pred), r2_score(y_test, y_te_pred)\n",
        "median_r2"
      ]
    },
    {
      "cell_type": "markdown",
      "metadata": {
        "id": "Alc6770t9asM"
      },
      "source": [
        "Recall that you estimated ticket price by simply using a known average. As expected, this produced an $R^2$ of zero for both the training and test set, because $R^2$ tells us how much of the variance you're explaining beyond that of using just the mean, and you were using just the mean. Here we see that our simple linear regression model explains over 80% of the variance on the train set and over 70% on the test set. Clearly you are onto something, although the much lower value for the test set suggests you're overfitting somewhat. This isn't a surprise as you've made no effort to select a parsimonious set of features or deal with multicollinearity in our data."
      ]
    },
    {
      "cell_type": "code",
      "execution_count": null,
      "metadata": {
        "colab": {
          "base_uri": "https://localhost:8080/"
        },
        "id": "BlPokSyA9asM",
        "outputId": "23efd70f-7e57-4e81-89a9-ab79d585fb61"
      },
      "outputs": [
        {
          "output_type": "execute_result",
          "data": {
            "text/plain": [
              "(8.547850301825429, 9.40702011858132)"
            ]
          },
          "metadata": {},
          "execution_count": 44
        }
      ],
      "source": [
        "#Code task 12#\n",
        "#Now calculate the mean absolute error scores using `sklearn`'s `mean_absolute_error` function\n",
        "# as we did above for R^2\n",
        "# MAE - train, test\n",
        "median_mae = mean_absolute_error(y_train, y_tr_pred), mean_absolute_error(y_test, y_te_pred)\n",
        "median_mae"
      ]
    },
    {
      "cell_type": "markdown",
      "metadata": {
        "id": "Mp6KFxW19asN"
      },
      "source": [
        "Using this model, then, on average you'd expect to estimate a ticket price within \\\\$9 or so of the real price. This is much, much better than the \\\\$19 from just guessing using the average. There may be something to this machine learning lark after all!"
      ]
    },
    {
      "cell_type": "code",
      "execution_count": null,
      "metadata": {
        "colab": {
          "base_uri": "https://localhost:8080/"
        },
        "id": "hHRQHKpp9asN",
        "outputId": "8048a858-e475-4e62-f55f-19c856a2aea6"
      },
      "outputs": [
        {
          "output_type": "execute_result",
          "data": {
            "text/plain": [
              "(111.89581253658483, 161.73156451192273)"
            ]
          },
          "metadata": {},
          "execution_count": 45
        }
      ],
      "source": [
        "#Code task 13#\n",
        "#And also do the same using `sklearn`'s `mean_squared_error`\n",
        "# MSE - train, test\n",
        "median_mse = mean_squared_error(y_train, y_tr_pred), mean_squared_error(y_test, y_te_pred)\n",
        "median_mse"
      ]
    },
    {
      "cell_type": "markdown",
      "metadata": {
        "id": "58Tw8Jz69asN"
      },
      "source": [
        "#### 4.8.1.2 Impute missing values with the mean<a id='4.8.1.2_Impute_missing_values_with_the_mean'></a>"
      ]
    },
    {
      "cell_type": "markdown",
      "metadata": {
        "id": "H3aMMsBa9asN"
      },
      "source": [
        "You chose to use the median for filling missing values because of the skew of many of our predictor feature distributions. What if you wanted to try something else, such as the mean?"
      ]
    },
    {
      "cell_type": "markdown",
      "metadata": {
        "id": "_iFLuTLE9asN"
      },
      "source": [
        "##### 4.8.1.2.1 Learn the values to impute from the train set<a id='4.8.1.2.1_Learn_the_values_to_impute_from_the_train_set'></a>"
      ]
    },
    {
      "cell_type": "code",
      "execution_count": null,
      "metadata": {
        "colab": {
          "base_uri": "https://localhost:8080/"
        },
        "id": "3H6vwlKp9asN",
        "outputId": "0dd7a1cf-48f3-4f44-8211-d42273982e23"
      },
      "outputs": [
        {
          "output_type": "execute_result",
          "data": {
            "text/plain": [
              "summit_elev                           4074.554404\n",
              "vertical_drop                         1043.196891\n",
              "base_elev                             3020.512953\n",
              "trams                                    0.103627\n",
              "fastSixes                                0.072539\n",
              "fastQuads                                0.673575\n",
              "quad                                     1.010363\n",
              "triple                                   1.440415\n",
              "double                                   1.813472\n",
              "surface                                  2.497409\n",
              "total_chairs                             7.611399\n",
              "Runs                                    41.188482\n",
              "TerrainParks                             2.434783\n",
              "LongestRun_mi                            1.293122\n",
              "SkiableTerrain_ac                      448.785340\n",
              "Snow Making_ac                         129.601190\n",
              "daysOpenLastYear                       110.100629\n",
              "yearsOpen                               56.559585\n",
              "averageSnowfall                        162.310160\n",
              "projectedDaysOpen                      115.920245\n",
              "NightSkiing_ac                          86.384615\n",
              "resorts_per_state                       16.264249\n",
              "resorts_per_100kcapita                   0.424802\n",
              "resorts_per_100ksq_mile                 40.957785\n",
              "resort_skiable_area_ac_state_ratio       0.097205\n",
              "resort_days_open_state_ratio             0.126014\n",
              "resort_terrain_park_state_ratio          0.116022\n",
              "resort_night_skiing_state_ratio          0.155024\n",
              "total_chairs_runs_ratio                  0.271441\n",
              "total_chairs_skiable_ratio               0.070483\n",
              "fastQuads_runs_ratio                     0.010401\n",
              "fastQuads_skiable_ratio                  0.001633\n",
              "dtype: float64"
            ]
          },
          "metadata": {},
          "execution_count": 46
        }
      ],
      "source": [
        "#Code task 14#\n",
        "#As we did for the median above, calculate mean values for imputing missing values\n",
        "# These are the values we'll use to fill in any missing values\n",
        "X_defaults_mean = X_train.mean()\n",
        "X_defaults_mean"
      ]
    },
    {
      "cell_type": "markdown",
      "metadata": {
        "id": "cEcJMQp39asN"
      },
      "source": [
        "By eye, you can immediately tell that your replacement values are much higher than those from using the median."
      ]
    },
    {
      "cell_type": "markdown",
      "metadata": {
        "id": "wbnHSkh49asN"
      },
      "source": [
        "##### 4.8.1.2.2 Apply the imputation to both train and test splits<a id='4.8.1.2.2_Apply_the_imputation_to_both_train_and_test_splits'></a>"
      ]
    },
    {
      "cell_type": "code",
      "execution_count": null,
      "metadata": {
        "id": "jzgs_yzw9asN"
      },
      "outputs": [],
      "source": [
        "X_tr = X_train.fillna(X_defaults_mean)\n",
        "X_te = X_test.fillna(X_defaults_mean)"
      ]
    },
    {
      "cell_type": "markdown",
      "metadata": {
        "id": "x_y6psL-9asN"
      },
      "source": [
        "##### 4.8.1.2.3 Scale the data<a id='4.8.1.2.3_Scale_the_data'></a>"
      ]
    },
    {
      "cell_type": "code",
      "execution_count": null,
      "metadata": {
        "id": "keuoi7N-9asO"
      },
      "outputs": [],
      "source": [
        "scaler = StandardScaler()\n",
        "scaler.fit(X_tr)\n",
        "X_tr_scaled = scaler.transform(X_tr)\n",
        "X_te_scaled = scaler.transform(X_te)"
      ]
    },
    {
      "cell_type": "markdown",
      "metadata": {
        "id": "hKgPlTic9asO"
      },
      "source": [
        "##### 4.8.1.2.4 Train the model on the train split<a id='4.8.1.2.4_Train_the_model_on_the_train_split'></a>"
      ]
    },
    {
      "cell_type": "code",
      "execution_count": null,
      "metadata": {
        "id": "Irxs73Ln9asO"
      },
      "outputs": [],
      "source": [
        "lm = LinearRegression().fit(X_tr_scaled, y_train)"
      ]
    },
    {
      "cell_type": "markdown",
      "metadata": {
        "id": "JYTX3WtE9asO"
      },
      "source": [
        "##### 4.8.1.2.5 Make predictions using the model on both train and test splits<a id='4.8.1.2.5_Make_predictions_using_the_model_on_both_train_and_test_splits'></a>"
      ]
    },
    {
      "cell_type": "code",
      "execution_count": null,
      "metadata": {
        "id": "shCuDx-m9asO"
      },
      "outputs": [],
      "source": [
        "y_tr_pred = lm.predict(X_tr_scaled)\n",
        "y_te_pred = lm.predict(X_te_scaled)"
      ]
    },
    {
      "cell_type": "markdown",
      "metadata": {
        "id": "mN_kzTw19asO"
      },
      "source": [
        "##### 4.8.1.2.6 Assess model performance<a id='4.8.1.2.6_Assess_model_performance'></a>"
      ]
    },
    {
      "cell_type": "code",
      "execution_count": null,
      "metadata": {
        "colab": {
          "base_uri": "https://localhost:8080/"
        },
        "id": "boDxw48H9asO",
        "outputId": "4976aa3c-47d6-46dc-9412-8d25b4e550b1"
      },
      "outputs": [
        {
          "output_type": "execute_result",
          "data": {
            "text/plain": [
              "(0.8170154093990025, 0.7163814716959961)"
            ]
          },
          "metadata": {},
          "execution_count": 51
        }
      ],
      "source": [
        "r2_score(y_train, y_tr_pred), r2_score(y_test, y_te_pred)"
      ]
    },
    {
      "cell_type": "code",
      "execution_count": null,
      "metadata": {
        "colab": {
          "base_uri": "https://localhost:8080/"
        },
        "id": "wpyVcpX99asO",
        "outputId": "3b2d2ec9-fe56-475b-c9f0-c0f889791f82"
      },
      "outputs": [
        {
          "output_type": "execute_result",
          "data": {
            "text/plain": [
              "(8.536884040670977, 9.416375625789271)"
            ]
          },
          "metadata": {},
          "execution_count": 52
        }
      ],
      "source": [
        "mean_absolute_error(y_train, y_tr_pred), mean_absolute_error(y_test, y_te_pred)"
      ]
    },
    {
      "cell_type": "code",
      "execution_count": null,
      "metadata": {
        "colab": {
          "base_uri": "https://localhost:8080/"
        },
        "id": "gemNafsJ9asP",
        "outputId": "acb65ed1-bcba-476c-bc37-252d2128d949"
      },
      "outputs": [
        {
          "output_type": "execute_result",
          "data": {
            "text/plain": [
              "(112.37695054778276, 164.39269309524357)"
            ]
          },
          "metadata": {},
          "execution_count": 53
        }
      ],
      "source": [
        "mean_squared_error(y_train, y_tr_pred), mean_squared_error(y_test, y_te_pred)"
      ]
    },
    {
      "cell_type": "markdown",
      "metadata": {
        "id": "92-19Zye9asP"
      },
      "source": [
        "These results don't seem very different to when you used the median for imputing missing values. Perhaps it doesn't make much difference here. Maybe your overtraining dominates. Maybe other feature transformations, such as taking the log, would help. You could try with just a subset of features rather than using all of them as inputs.\n",
        "\n",
        "To perform the median/mean comparison, you copied and pasted a lot of code just to change the function for imputing missing values. It would make more sense to write a function that performed the sequence of steps:\n",
        "1. impute missing values\n",
        "2. scale the features\n",
        "3. train a model\n",
        "4. calculate model performance\n",
        "\n",
        "But these are common steps and `sklearn` provides something much better than writing custom functions."
      ]
    },
    {
      "cell_type": "markdown",
      "metadata": {
        "id": "0NKQauKc9asP"
      },
      "source": [
        "### 4.8.2 Pipelines<a id='4.8.2_Pipelines'></a>"
      ]
    },
    {
      "cell_type": "markdown",
      "metadata": {
        "id": "Z9SRo1o19asP"
      },
      "source": [
        "One of the most important and useful components of `sklearn` is the [pipeline](https://scikit-learn.org/stable/modules/generated/sklearn.pipeline.Pipeline.html). In place of `panda`'s `fillna` DataFrame method, there is `sklearn`'s `SimpleImputer`. Remember the first linear model above performed the steps:\n",
        "\n",
        "1. replace missing values with the median for each feature\n",
        "2. scale the data to zero mean and unit variance\n",
        "3. train a linear regression model\n",
        "\n",
        "and all these steps were trained on the train split and then applied to the test split for assessment.\n",
        "\n",
        "The pipeline below defines exactly those same steps. Crucially, the resultant `Pipeline` object has a `fit()` method and a `predict()` method, just like the `LinearRegression()` object itself. Just as you might create a linear regression model and train it with `.fit()` and predict with `.predict()`, you can wrap the entire process of imputing and feature scaling and regression in a single object you can train with `.fit()` and predict with `.predict()`. And that's basically a pipeline: a model on steroids."
      ]
    },
    {
      "cell_type": "markdown",
      "metadata": {
        "id": "uuWn-sIP9asP"
      },
      "source": [
        "#### 4.8.2.1 Define the pipeline<a id='4.8.2.1_Define_the_pipeline'></a>"
      ]
    },
    {
      "cell_type": "code",
      "execution_count": null,
      "metadata": {
        "id": "KibFY3se9asP"
      },
      "outputs": [],
      "source": [
        "pipe = make_pipeline(\n",
        "      SimpleImputer(strategy='median')\n",
        "    , StandardScaler()\n",
        "    , LinearRegression()\n",
        ")"
      ]
    },
    {
      "cell_type": "code",
      "execution_count": null,
      "metadata": {
        "colab": {
          "base_uri": "https://localhost:8080/"
        },
        "id": "Iz-wnVMG9asP",
        "outputId": "b5b4a801-9fa1-4e20-885f-06e3d451e82d"
      },
      "outputs": [
        {
          "output_type": "execute_result",
          "data": {
            "text/plain": [
              "sklearn.pipeline.Pipeline"
            ]
          },
          "metadata": {},
          "execution_count": 55
        }
      ],
      "source": [
        "type(pipe)"
      ]
    },
    {
      "cell_type": "code",
      "execution_count": null,
      "metadata": {
        "colab": {
          "base_uri": "https://localhost:8080/"
        },
        "id": "zCRtMILB9asP",
        "outputId": "b16b6371-5c17-486f-f94f-4ffc76e781be"
      },
      "outputs": [
        {
          "output_type": "execute_result",
          "data": {
            "text/plain": [
              "(True, True)"
            ]
          },
          "metadata": {},
          "execution_count": 56
        }
      ],
      "source": [
        "hasattr(pipe, 'fit'), hasattr(pipe, 'predict')"
      ]
    },
    {
      "cell_type": "markdown",
      "metadata": {
        "id": "sqmm_aAE9asQ"
      },
      "source": [
        "#### 4.8.2.2 Fit the pipeline<a id='4.8.2.2_Fit_the_pipeline'></a>"
      ]
    },
    {
      "cell_type": "markdown",
      "metadata": {
        "id": "gTJGHkqM9asQ"
      },
      "source": [
        "Here, a single call to the pipeline's `fit()` method combines the steps of learning the imputation (determining what values to use to fill the missing ones), the scaling (determining the mean to subtract and the variance to divide by), and then training the model. It does this all in the one call with the training data as arguments."
      ]
    },
    {
      "cell_type": "code",
      "execution_count": null,
      "metadata": {
        "colab": {
          "base_uri": "https://localhost:8080/",
          "height": 161
        },
        "id": "0bkY9Q3B9asQ",
        "outputId": "9569334f-0739-4bfc-909c-ccaf2048cb85"
      },
      "outputs": [
        {
          "output_type": "execute_result",
          "data": {
            "text/plain": [
              "Pipeline(steps=[('simpleimputer', SimpleImputer(strategy='median')),\n",
              "                ('standardscaler', StandardScaler()),\n",
              "                ('linearregression', LinearRegression())])"
            ],
            "text/html": [
              "<style>#sk-container-id-1 {color: black;background-color: white;}#sk-container-id-1 pre{padding: 0;}#sk-container-id-1 div.sk-toggleable {background-color: white;}#sk-container-id-1 label.sk-toggleable__label {cursor: pointer;display: block;width: 100%;margin-bottom: 0;padding: 0.3em;box-sizing: border-box;text-align: center;}#sk-container-id-1 label.sk-toggleable__label-arrow:before {content: \"▸\";float: left;margin-right: 0.25em;color: #696969;}#sk-container-id-1 label.sk-toggleable__label-arrow:hover:before {color: black;}#sk-container-id-1 div.sk-estimator:hover label.sk-toggleable__label-arrow:before {color: black;}#sk-container-id-1 div.sk-toggleable__content {max-height: 0;max-width: 0;overflow: hidden;text-align: left;background-color: #f0f8ff;}#sk-container-id-1 div.sk-toggleable__content pre {margin: 0.2em;color: black;border-radius: 0.25em;background-color: #f0f8ff;}#sk-container-id-1 input.sk-toggleable__control:checked~div.sk-toggleable__content {max-height: 200px;max-width: 100%;overflow: auto;}#sk-container-id-1 input.sk-toggleable__control:checked~label.sk-toggleable__label-arrow:before {content: \"▾\";}#sk-container-id-1 div.sk-estimator input.sk-toggleable__control:checked~label.sk-toggleable__label {background-color: #d4ebff;}#sk-container-id-1 div.sk-label input.sk-toggleable__control:checked~label.sk-toggleable__label {background-color: #d4ebff;}#sk-container-id-1 input.sk-hidden--visually {border: 0;clip: rect(1px 1px 1px 1px);clip: rect(1px, 1px, 1px, 1px);height: 1px;margin: -1px;overflow: hidden;padding: 0;position: absolute;width: 1px;}#sk-container-id-1 div.sk-estimator {font-family: monospace;background-color: #f0f8ff;border: 1px dotted black;border-radius: 0.25em;box-sizing: border-box;margin-bottom: 0.5em;}#sk-container-id-1 div.sk-estimator:hover {background-color: #d4ebff;}#sk-container-id-1 div.sk-parallel-item::after {content: \"\";width: 100%;border-bottom: 1px solid gray;flex-grow: 1;}#sk-container-id-1 div.sk-label:hover label.sk-toggleable__label {background-color: #d4ebff;}#sk-container-id-1 div.sk-serial::before {content: \"\";position: absolute;border-left: 1px solid gray;box-sizing: border-box;top: 0;bottom: 0;left: 50%;z-index: 0;}#sk-container-id-1 div.sk-serial {display: flex;flex-direction: column;align-items: center;background-color: white;padding-right: 0.2em;padding-left: 0.2em;position: relative;}#sk-container-id-1 div.sk-item {position: relative;z-index: 1;}#sk-container-id-1 div.sk-parallel {display: flex;align-items: stretch;justify-content: center;background-color: white;position: relative;}#sk-container-id-1 div.sk-item::before, #sk-container-id-1 div.sk-parallel-item::before {content: \"\";position: absolute;border-left: 1px solid gray;box-sizing: border-box;top: 0;bottom: 0;left: 50%;z-index: -1;}#sk-container-id-1 div.sk-parallel-item {display: flex;flex-direction: column;z-index: 1;position: relative;background-color: white;}#sk-container-id-1 div.sk-parallel-item:first-child::after {align-self: flex-end;width: 50%;}#sk-container-id-1 div.sk-parallel-item:last-child::after {align-self: flex-start;width: 50%;}#sk-container-id-1 div.sk-parallel-item:only-child::after {width: 0;}#sk-container-id-1 div.sk-dashed-wrapped {border: 1px dashed gray;margin: 0 0.4em 0.5em 0.4em;box-sizing: border-box;padding-bottom: 0.4em;background-color: white;}#sk-container-id-1 div.sk-label label {font-family: monospace;font-weight: bold;display: inline-block;line-height: 1.2em;}#sk-container-id-1 div.sk-label-container {text-align: center;}#sk-container-id-1 div.sk-container {/* jupyter's `normalize.less` sets `[hidden] { display: none; }` but bootstrap.min.css set `[hidden] { display: none !important; }` so we also need the `!important` here to be able to override the default hidden behavior on the sphinx rendered scikit-learn.org. See: https://github.com/scikit-learn/scikit-learn/issues/21755 */display: inline-block !important;position: relative;}#sk-container-id-1 div.sk-text-repr-fallback {display: none;}</style><div id=\"sk-container-id-1\" class=\"sk-top-container\"><div class=\"sk-text-repr-fallback\"><pre>Pipeline(steps=[(&#x27;simpleimputer&#x27;, SimpleImputer(strategy=&#x27;median&#x27;)),\n",
              "                (&#x27;standardscaler&#x27;, StandardScaler()),\n",
              "                (&#x27;linearregression&#x27;, LinearRegression())])</pre><b>In a Jupyter environment, please rerun this cell to show the HTML representation or trust the notebook. <br />On GitHub, the HTML representation is unable to render, please try loading this page with nbviewer.org.</b></div><div class=\"sk-container\" hidden><div class=\"sk-item sk-dashed-wrapped\"><div class=\"sk-label-container\"><div class=\"sk-label sk-toggleable\"><input class=\"sk-toggleable__control sk-hidden--visually\" id=\"sk-estimator-id-1\" type=\"checkbox\" ><label for=\"sk-estimator-id-1\" class=\"sk-toggleable__label sk-toggleable__label-arrow\">Pipeline</label><div class=\"sk-toggleable__content\"><pre>Pipeline(steps=[(&#x27;simpleimputer&#x27;, SimpleImputer(strategy=&#x27;median&#x27;)),\n",
              "                (&#x27;standardscaler&#x27;, StandardScaler()),\n",
              "                (&#x27;linearregression&#x27;, LinearRegression())])</pre></div></div></div><div class=\"sk-serial\"><div class=\"sk-item\"><div class=\"sk-estimator sk-toggleable\"><input class=\"sk-toggleable__control sk-hidden--visually\" id=\"sk-estimator-id-2\" type=\"checkbox\" ><label for=\"sk-estimator-id-2\" class=\"sk-toggleable__label sk-toggleable__label-arrow\">SimpleImputer</label><div class=\"sk-toggleable__content\"><pre>SimpleImputer(strategy=&#x27;median&#x27;)</pre></div></div></div><div class=\"sk-item\"><div class=\"sk-estimator sk-toggleable\"><input class=\"sk-toggleable__control sk-hidden--visually\" id=\"sk-estimator-id-3\" type=\"checkbox\" ><label for=\"sk-estimator-id-3\" class=\"sk-toggleable__label sk-toggleable__label-arrow\">StandardScaler</label><div class=\"sk-toggleable__content\"><pre>StandardScaler()</pre></div></div></div><div class=\"sk-item\"><div class=\"sk-estimator sk-toggleable\"><input class=\"sk-toggleable__control sk-hidden--visually\" id=\"sk-estimator-id-4\" type=\"checkbox\" ><label for=\"sk-estimator-id-4\" class=\"sk-toggleable__label sk-toggleable__label-arrow\">LinearRegression</label><div class=\"sk-toggleable__content\"><pre>LinearRegression()</pre></div></div></div></div></div></div></div>"
            ]
          },
          "metadata": {},
          "execution_count": 57
        }
      ],
      "source": [
        "#Code task 15#\n",
        "#Call the pipe's `fit()` method with `X_train` and `y_train` as arguments\n",
        "pipe.fit(X_train, y_train)"
      ]
    },
    {
      "cell_type": "markdown",
      "metadata": {
        "id": "epApqYNg9asQ"
      },
      "source": [
        "#### 4.8.2.3 Make predictions on the train and test sets<a id='4.8.2.3_Make_predictions_on_the_train_and_test_sets'></a>"
      ]
    },
    {
      "cell_type": "code",
      "execution_count": null,
      "metadata": {
        "id": "IGT-pIak9asQ"
      },
      "outputs": [],
      "source": [
        "y_tr_pred = pipe.predict(X_train)\n",
        "y_te_pred = pipe.predict(X_test)"
      ]
    },
    {
      "cell_type": "markdown",
      "metadata": {
        "id": "MJonNwKa9asQ"
      },
      "source": [
        "#### 4.8.2.4 Assess performance<a id='4.8.2.4_Assess_performance'></a>"
      ]
    },
    {
      "cell_type": "code",
      "execution_count": null,
      "metadata": {
        "colab": {
          "base_uri": "https://localhost:8080/"
        },
        "id": "HHYBFDMb9asQ",
        "outputId": "71fe732f-84e0-4f41-d359-64aadcc341f5"
      },
      "outputs": [
        {
          "output_type": "execute_result",
          "data": {
            "text/plain": [
              "(0.8177988515690603, 0.7209725843435144)"
            ]
          },
          "metadata": {},
          "execution_count": 59
        }
      ],
      "source": [
        "r2_score(y_train, y_tr_pred), r2_score(y_test, y_te_pred)"
      ]
    },
    {
      "cell_type": "markdown",
      "metadata": {
        "id": "wvspA0GI9asQ"
      },
      "source": [
        "And compare with your earlier (non-pipeline) result:"
      ]
    },
    {
      "cell_type": "code",
      "execution_count": null,
      "metadata": {
        "colab": {
          "base_uri": "https://localhost:8080/"
        },
        "id": "rRnTbzxp9asQ",
        "outputId": "6e57135c-7de1-4245-e091-fe56788f5a8e"
      },
      "outputs": [
        {
          "output_type": "execute_result",
          "data": {
            "text/plain": [
              "(0.8177988515690603, 0.7209725843435144)"
            ]
          },
          "metadata": {},
          "execution_count": 60
        }
      ],
      "source": [
        "median_r2"
      ]
    },
    {
      "cell_type": "code",
      "execution_count": null,
      "metadata": {
        "colab": {
          "base_uri": "https://localhost:8080/"
        },
        "id": "RH86K3Od9asR",
        "outputId": "ebac7b25-650a-4518-edbc-661ccdaaec01"
      },
      "outputs": [
        {
          "output_type": "execute_result",
          "data": {
            "text/plain": [
              "(8.547850301825429, 9.40702011858132)"
            ]
          },
          "metadata": {},
          "execution_count": 61
        }
      ],
      "source": [
        "mean_absolute_error(y_train, y_tr_pred), mean_absolute_error(y_test, y_te_pred)"
      ]
    },
    {
      "cell_type": "markdown",
      "source": [
        "Compare with your earlier result:"
      ],
      "metadata": {
        "id": "Csd5SAkT9asR"
      }
    },
    {
      "cell_type": "code",
      "execution_count": null,
      "metadata": {
        "colab": {
          "base_uri": "https://localhost:8080/"
        },
        "id": "vE3zzW9X9asR",
        "outputId": "970dc5c3-2b41-4c2d-cf19-29c28f844d99"
      },
      "outputs": [
        {
          "output_type": "execute_result",
          "data": {
            "text/plain": [
              "(8.547850301825429, 9.40702011858132)"
            ]
          },
          "metadata": {},
          "execution_count": 62
        }
      ],
      "source": [
        "median_mae"
      ]
    },
    {
      "cell_type": "code",
      "execution_count": null,
      "metadata": {
        "colab": {
          "base_uri": "https://localhost:8080/"
        },
        "id": "PnphgYKi9asR",
        "outputId": "e1a64359-486d-4edf-843a-de468504eb53"
      },
      "outputs": [
        {
          "output_type": "execute_result",
          "data": {
            "text/plain": [
              "(111.89581253658483, 161.73156451192273)"
            ]
          },
          "metadata": {},
          "execution_count": 63
        }
      ],
      "source": [
        "mean_squared_error(y_train, y_tr_pred), mean_squared_error(y_test, y_te_pred)"
      ]
    },
    {
      "cell_type": "markdown",
      "metadata": {
        "id": "RrFaWQ3-9asR"
      },
      "source": [
        "Compare with your earlier result:"
      ]
    },
    {
      "cell_type": "code",
      "execution_count": null,
      "metadata": {
        "colab": {
          "base_uri": "https://localhost:8080/"
        },
        "id": "jsPm7cGu9asR",
        "outputId": "d7e35d08-bff2-48fd-a5c8-4d991e68d8e1"
      },
      "outputs": [
        {
          "output_type": "execute_result",
          "data": {
            "text/plain": [
              "(111.89581253658483, 161.73156451192273)"
            ]
          },
          "metadata": {},
          "execution_count": 64
        }
      ],
      "source": [
        "median_mse"
      ]
    },
    {
      "cell_type": "markdown",
      "metadata": {
        "id": "4V9M0bC59asR"
      },
      "source": [
        "These results confirm the pipeline is doing exactly what's expected, and results are identical to your earlier steps. This allows you to move faster but with confidence."
      ]
    },
    {
      "cell_type": "markdown",
      "metadata": {
        "id": "Q0VsuWSx9asR"
      },
      "source": [
        "## 4.9 Refining The Linear Model<a id='4.9_Refining_The_Linear_Model'></a>"
      ]
    },
    {
      "cell_type": "markdown",
      "metadata": {
        "id": "3jepUJ1B9asS"
      },
      "source": [
        "You suspected the model was overfitting. This is no real surprise given the number of features you blindly used. It's likely a judicious subset of features would generalize better. `sklearn` has a number of feature selection functions available. The one you'll use here is `SelectKBest` which, as you might guess, selects the k best features. You can read about SelectKBest\n",
        "[here](https://scikit-learn.org/stable/modules/generated/sklearn.feature_selection.SelectKBest.html#sklearn.feature_selection.SelectKBest). `f_regression` is just the [score function](https://scikit-learn.org/stable/modules/generated/sklearn.feature_selection.f_regression.html#sklearn.feature_selection.f_regression) you're using because you're performing regression. It's important to choose an appropriate one for your machine learning task."
      ]
    },
    {
      "cell_type": "markdown",
      "metadata": {
        "id": "4f4nw0mp9asS"
      },
      "source": [
        "### 4.9.1 Define the pipeline<a id='4.9.1_Define_the_pipeline'></a>"
      ]
    },
    {
      "cell_type": "markdown",
      "metadata": {
        "id": "SNUhYeFN9asS"
      },
      "source": [
        "Redefine your pipeline to include this feature selection step:"
      ]
    },
    {
      "cell_type": "code",
      "execution_count": null,
      "metadata": {
        "id": "NsKK03qT9asS"
      },
      "outputs": [],
      "source": [
        "#Code task 16#\n",
        "#Add `SelectKBest` as a step in the pipeline between `StandardScaler()` and `LinearRegression()`\n",
        "#Don't forget to tell it to use `f_regression` as its score function\n",
        "pipe = make_pipeline(\n",
        "      SimpleImputer(strategy='median')\n",
        "    , StandardScaler()\n",
        "    , SelectKBest(score_func=f_regression)\n",
        "    , LinearRegression()\n",
        ")"
      ]
    },
    {
      "cell_type": "markdown",
      "metadata": {
        "id": "bCtsScH19asS"
      },
      "source": [
        "### 4.9.2 Fit the pipeline<a id='4.9.2_Fit_the_pipeline'></a>"
      ]
    },
    {
      "cell_type": "code",
      "execution_count": null,
      "metadata": {
        "colab": {
          "base_uri": "https://localhost:8080/",
          "height": 196
        },
        "id": "SrOgiz919asS",
        "outputId": "cc315261-19f0-4741-d028-d902a6074e51"
      },
      "outputs": [
        {
          "output_type": "execute_result",
          "data": {
            "text/plain": [
              "Pipeline(steps=[('simpleimputer', SimpleImputer(strategy='median')),\n",
              "                ('standardscaler', StandardScaler()),\n",
              "                ('selectkbest',\n",
              "                 SelectKBest(score_func=<function f_regression at 0x7c7b709913f0>)),\n",
              "                ('linearregression', LinearRegression())])"
            ],
            "text/html": [
              "<style>#sk-container-id-2 {color: black;background-color: white;}#sk-container-id-2 pre{padding: 0;}#sk-container-id-2 div.sk-toggleable {background-color: white;}#sk-container-id-2 label.sk-toggleable__label {cursor: pointer;display: block;width: 100%;margin-bottom: 0;padding: 0.3em;box-sizing: border-box;text-align: center;}#sk-container-id-2 label.sk-toggleable__label-arrow:before {content: \"▸\";float: left;margin-right: 0.25em;color: #696969;}#sk-container-id-2 label.sk-toggleable__label-arrow:hover:before {color: black;}#sk-container-id-2 div.sk-estimator:hover label.sk-toggleable__label-arrow:before {color: black;}#sk-container-id-2 div.sk-toggleable__content {max-height: 0;max-width: 0;overflow: hidden;text-align: left;background-color: #f0f8ff;}#sk-container-id-2 div.sk-toggleable__content pre {margin: 0.2em;color: black;border-radius: 0.25em;background-color: #f0f8ff;}#sk-container-id-2 input.sk-toggleable__control:checked~div.sk-toggleable__content {max-height: 200px;max-width: 100%;overflow: auto;}#sk-container-id-2 input.sk-toggleable__control:checked~label.sk-toggleable__label-arrow:before {content: \"▾\";}#sk-container-id-2 div.sk-estimator input.sk-toggleable__control:checked~label.sk-toggleable__label {background-color: #d4ebff;}#sk-container-id-2 div.sk-label input.sk-toggleable__control:checked~label.sk-toggleable__label {background-color: #d4ebff;}#sk-container-id-2 input.sk-hidden--visually {border: 0;clip: rect(1px 1px 1px 1px);clip: rect(1px, 1px, 1px, 1px);height: 1px;margin: -1px;overflow: hidden;padding: 0;position: absolute;width: 1px;}#sk-container-id-2 div.sk-estimator {font-family: monospace;background-color: #f0f8ff;border: 1px dotted black;border-radius: 0.25em;box-sizing: border-box;margin-bottom: 0.5em;}#sk-container-id-2 div.sk-estimator:hover {background-color: #d4ebff;}#sk-container-id-2 div.sk-parallel-item::after {content: \"\";width: 100%;border-bottom: 1px solid gray;flex-grow: 1;}#sk-container-id-2 div.sk-label:hover label.sk-toggleable__label {background-color: #d4ebff;}#sk-container-id-2 div.sk-serial::before {content: \"\";position: absolute;border-left: 1px solid gray;box-sizing: border-box;top: 0;bottom: 0;left: 50%;z-index: 0;}#sk-container-id-2 div.sk-serial {display: flex;flex-direction: column;align-items: center;background-color: white;padding-right: 0.2em;padding-left: 0.2em;position: relative;}#sk-container-id-2 div.sk-item {position: relative;z-index: 1;}#sk-container-id-2 div.sk-parallel {display: flex;align-items: stretch;justify-content: center;background-color: white;position: relative;}#sk-container-id-2 div.sk-item::before, #sk-container-id-2 div.sk-parallel-item::before {content: \"\";position: absolute;border-left: 1px solid gray;box-sizing: border-box;top: 0;bottom: 0;left: 50%;z-index: -1;}#sk-container-id-2 div.sk-parallel-item {display: flex;flex-direction: column;z-index: 1;position: relative;background-color: white;}#sk-container-id-2 div.sk-parallel-item:first-child::after {align-self: flex-end;width: 50%;}#sk-container-id-2 div.sk-parallel-item:last-child::after {align-self: flex-start;width: 50%;}#sk-container-id-2 div.sk-parallel-item:only-child::after {width: 0;}#sk-container-id-2 div.sk-dashed-wrapped {border: 1px dashed gray;margin: 0 0.4em 0.5em 0.4em;box-sizing: border-box;padding-bottom: 0.4em;background-color: white;}#sk-container-id-2 div.sk-label label {font-family: monospace;font-weight: bold;display: inline-block;line-height: 1.2em;}#sk-container-id-2 div.sk-label-container {text-align: center;}#sk-container-id-2 div.sk-container {/* jupyter's `normalize.less` sets `[hidden] { display: none; }` but bootstrap.min.css set `[hidden] { display: none !important; }` so we also need the `!important` here to be able to override the default hidden behavior on the sphinx rendered scikit-learn.org. See: https://github.com/scikit-learn/scikit-learn/issues/21755 */display: inline-block !important;position: relative;}#sk-container-id-2 div.sk-text-repr-fallback {display: none;}</style><div id=\"sk-container-id-2\" class=\"sk-top-container\"><div class=\"sk-text-repr-fallback\"><pre>Pipeline(steps=[(&#x27;simpleimputer&#x27;, SimpleImputer(strategy=&#x27;median&#x27;)),\n",
              "                (&#x27;standardscaler&#x27;, StandardScaler()),\n",
              "                (&#x27;selectkbest&#x27;,\n",
              "                 SelectKBest(score_func=&lt;function f_regression at 0x7c7b709913f0&gt;)),\n",
              "                (&#x27;linearregression&#x27;, LinearRegression())])</pre><b>In a Jupyter environment, please rerun this cell to show the HTML representation or trust the notebook. <br />On GitHub, the HTML representation is unable to render, please try loading this page with nbviewer.org.</b></div><div class=\"sk-container\" hidden><div class=\"sk-item sk-dashed-wrapped\"><div class=\"sk-label-container\"><div class=\"sk-label sk-toggleable\"><input class=\"sk-toggleable__control sk-hidden--visually\" id=\"sk-estimator-id-5\" type=\"checkbox\" ><label for=\"sk-estimator-id-5\" class=\"sk-toggleable__label sk-toggleable__label-arrow\">Pipeline</label><div class=\"sk-toggleable__content\"><pre>Pipeline(steps=[(&#x27;simpleimputer&#x27;, SimpleImputer(strategy=&#x27;median&#x27;)),\n",
              "                (&#x27;standardscaler&#x27;, StandardScaler()),\n",
              "                (&#x27;selectkbest&#x27;,\n",
              "                 SelectKBest(score_func=&lt;function f_regression at 0x7c7b709913f0&gt;)),\n",
              "                (&#x27;linearregression&#x27;, LinearRegression())])</pre></div></div></div><div class=\"sk-serial\"><div class=\"sk-item\"><div class=\"sk-estimator sk-toggleable\"><input class=\"sk-toggleable__control sk-hidden--visually\" id=\"sk-estimator-id-6\" type=\"checkbox\" ><label for=\"sk-estimator-id-6\" class=\"sk-toggleable__label sk-toggleable__label-arrow\">SimpleImputer</label><div class=\"sk-toggleable__content\"><pre>SimpleImputer(strategy=&#x27;median&#x27;)</pre></div></div></div><div class=\"sk-item\"><div class=\"sk-estimator sk-toggleable\"><input class=\"sk-toggleable__control sk-hidden--visually\" id=\"sk-estimator-id-7\" type=\"checkbox\" ><label for=\"sk-estimator-id-7\" class=\"sk-toggleable__label sk-toggleable__label-arrow\">StandardScaler</label><div class=\"sk-toggleable__content\"><pre>StandardScaler()</pre></div></div></div><div class=\"sk-item\"><div class=\"sk-estimator sk-toggleable\"><input class=\"sk-toggleable__control sk-hidden--visually\" id=\"sk-estimator-id-8\" type=\"checkbox\" ><label for=\"sk-estimator-id-8\" class=\"sk-toggleable__label sk-toggleable__label-arrow\">SelectKBest</label><div class=\"sk-toggleable__content\"><pre>SelectKBest(score_func=&lt;function f_regression at 0x7c7b709913f0&gt;)</pre></div></div></div><div class=\"sk-item\"><div class=\"sk-estimator sk-toggleable\"><input class=\"sk-toggleable__control sk-hidden--visually\" id=\"sk-estimator-id-9\" type=\"checkbox\" ><label for=\"sk-estimator-id-9\" class=\"sk-toggleable__label sk-toggleable__label-arrow\">LinearRegression</label><div class=\"sk-toggleable__content\"><pre>LinearRegression()</pre></div></div></div></div></div></div></div>"
            ]
          },
          "metadata": {},
          "execution_count": 66
        }
      ],
      "source": [
        "pipe.fit(X_train, y_train)"
      ]
    },
    {
      "cell_type": "markdown",
      "metadata": {
        "id": "KUg3bXr99asS"
      },
      "source": [
        "### 4.9.3 Assess performance on the train and test set<a id='4.9.3_Assess_performance_on_the_train_and_test_set'></a>"
      ]
    },
    {
      "cell_type": "code",
      "execution_count": null,
      "metadata": {
        "id": "kWDUAnjX9asS"
      },
      "outputs": [],
      "source": [
        "y_tr_pred = pipe.predict(X_train)\n",
        "y_te_pred = pipe.predict(X_test)"
      ]
    },
    {
      "cell_type": "code",
      "execution_count": null,
      "metadata": {
        "colab": {
          "base_uri": "https://localhost:8080/"
        },
        "id": "OY6urKb39asT",
        "outputId": "5335720a-ce57-4bca-850d-fef08030df9e"
      },
      "outputs": [
        {
          "output_type": "execute_result",
          "data": {
            "text/plain": [
              "(0.7674914326052744, 0.6259877354190835)"
            ]
          },
          "metadata": {},
          "execution_count": 68
        }
      ],
      "source": [
        "r2_score(y_train, y_tr_pred), r2_score(y_test, y_te_pred)"
      ]
    },
    {
      "cell_type": "code",
      "execution_count": null,
      "metadata": {
        "colab": {
          "base_uri": "https://localhost:8080/"
        },
        "id": "uEMc7xd49asT",
        "outputId": "b2401242-f368-4263-ed84-f32c4b6bf251"
      },
      "outputs": [
        {
          "output_type": "execute_result",
          "data": {
            "text/plain": [
              "(9.501495079727484, 11.201830190332055)"
            ]
          },
          "metadata": {},
          "execution_count": 69
        }
      ],
      "source": [
        "mean_absolute_error(y_train, y_tr_pred), mean_absolute_error(y_test, y_te_pred)"
      ]
    },
    {
      "cell_type": "markdown",
      "metadata": {
        "id": "NSMQkNCD9asT"
      },
      "source": [
        "This has made things worse! Clearly selecting a subset of features has an impact on performance. `SelectKBest` defaults to k=10. You've just seen that 10 is worse than using all features. What is the best k? You could create a new pipeline with a different value of k:"
      ]
    },
    {
      "cell_type": "markdown",
      "metadata": {
        "id": "fLPa-68P9asT"
      },
      "source": [
        "### 4.9.4 Define a new pipeline to select a different number of features<a id='4.9.4_Define_a_new_pipeline_to_select_a_different_number_of_features'></a>"
      ]
    },
    {
      "cell_type": "code",
      "execution_count": null,
      "metadata": {
        "id": "IOsu1ZJk9asT"
      },
      "outputs": [],
      "source": [
        "#Code task 17#\n",
        "#Modify the `SelectKBest` step to use a value of 15 for k\n",
        "pipe15 = make_pipeline(\n",
        "      SimpleImputer(strategy='median')\n",
        "    , StandardScaler()\n",
        "    , SelectKBest(score_func=f_regression, k=15)\n",
        "    , LinearRegression()\n",
        ")"
      ]
    },
    {
      "cell_type": "markdown",
      "metadata": {
        "id": "b5Rjth799asT"
      },
      "source": [
        "### 4.9.5 Fit the pipeline<a id='4.9.5_Fit_the_pipeline'></a>"
      ]
    },
    {
      "cell_type": "code",
      "execution_count": null,
      "metadata": {
        "colab": {
          "base_uri": "https://localhost:8080/",
          "height": 196
        },
        "id": "7hmNXKJ-9asT",
        "outputId": "d43ba699-0112-4d63-f408-8ada50d0b423"
      },
      "outputs": [
        {
          "output_type": "execute_result",
          "data": {
            "text/plain": [
              "Pipeline(steps=[('simpleimputer', SimpleImputer(strategy='median')),\n",
              "                ('standardscaler', StandardScaler()),\n",
              "                ('selectkbest',\n",
              "                 SelectKBest(k=15,\n",
              "                             score_func=<function f_regression at 0x7c7b709913f0>)),\n",
              "                ('linearregression', LinearRegression())])"
            ],
            "text/html": [
              "<style>#sk-container-id-3 {color: black;background-color: white;}#sk-container-id-3 pre{padding: 0;}#sk-container-id-3 div.sk-toggleable {background-color: white;}#sk-container-id-3 label.sk-toggleable__label {cursor: pointer;display: block;width: 100%;margin-bottom: 0;padding: 0.3em;box-sizing: border-box;text-align: center;}#sk-container-id-3 label.sk-toggleable__label-arrow:before {content: \"▸\";float: left;margin-right: 0.25em;color: #696969;}#sk-container-id-3 label.sk-toggleable__label-arrow:hover:before {color: black;}#sk-container-id-3 div.sk-estimator:hover label.sk-toggleable__label-arrow:before {color: black;}#sk-container-id-3 div.sk-toggleable__content {max-height: 0;max-width: 0;overflow: hidden;text-align: left;background-color: #f0f8ff;}#sk-container-id-3 div.sk-toggleable__content pre {margin: 0.2em;color: black;border-radius: 0.25em;background-color: #f0f8ff;}#sk-container-id-3 input.sk-toggleable__control:checked~div.sk-toggleable__content {max-height: 200px;max-width: 100%;overflow: auto;}#sk-container-id-3 input.sk-toggleable__control:checked~label.sk-toggleable__label-arrow:before {content: \"▾\";}#sk-container-id-3 div.sk-estimator input.sk-toggleable__control:checked~label.sk-toggleable__label {background-color: #d4ebff;}#sk-container-id-3 div.sk-label input.sk-toggleable__control:checked~label.sk-toggleable__label {background-color: #d4ebff;}#sk-container-id-3 input.sk-hidden--visually {border: 0;clip: rect(1px 1px 1px 1px);clip: rect(1px, 1px, 1px, 1px);height: 1px;margin: -1px;overflow: hidden;padding: 0;position: absolute;width: 1px;}#sk-container-id-3 div.sk-estimator {font-family: monospace;background-color: #f0f8ff;border: 1px dotted black;border-radius: 0.25em;box-sizing: border-box;margin-bottom: 0.5em;}#sk-container-id-3 div.sk-estimator:hover {background-color: #d4ebff;}#sk-container-id-3 div.sk-parallel-item::after {content: \"\";width: 100%;border-bottom: 1px solid gray;flex-grow: 1;}#sk-container-id-3 div.sk-label:hover label.sk-toggleable__label {background-color: #d4ebff;}#sk-container-id-3 div.sk-serial::before {content: \"\";position: absolute;border-left: 1px solid gray;box-sizing: border-box;top: 0;bottom: 0;left: 50%;z-index: 0;}#sk-container-id-3 div.sk-serial {display: flex;flex-direction: column;align-items: center;background-color: white;padding-right: 0.2em;padding-left: 0.2em;position: relative;}#sk-container-id-3 div.sk-item {position: relative;z-index: 1;}#sk-container-id-3 div.sk-parallel {display: flex;align-items: stretch;justify-content: center;background-color: white;position: relative;}#sk-container-id-3 div.sk-item::before, #sk-container-id-3 div.sk-parallel-item::before {content: \"\";position: absolute;border-left: 1px solid gray;box-sizing: border-box;top: 0;bottom: 0;left: 50%;z-index: -1;}#sk-container-id-3 div.sk-parallel-item {display: flex;flex-direction: column;z-index: 1;position: relative;background-color: white;}#sk-container-id-3 div.sk-parallel-item:first-child::after {align-self: flex-end;width: 50%;}#sk-container-id-3 div.sk-parallel-item:last-child::after {align-self: flex-start;width: 50%;}#sk-container-id-3 div.sk-parallel-item:only-child::after {width: 0;}#sk-container-id-3 div.sk-dashed-wrapped {border: 1px dashed gray;margin: 0 0.4em 0.5em 0.4em;box-sizing: border-box;padding-bottom: 0.4em;background-color: white;}#sk-container-id-3 div.sk-label label {font-family: monospace;font-weight: bold;display: inline-block;line-height: 1.2em;}#sk-container-id-3 div.sk-label-container {text-align: center;}#sk-container-id-3 div.sk-container {/* jupyter's `normalize.less` sets `[hidden] { display: none; }` but bootstrap.min.css set `[hidden] { display: none !important; }` so we also need the `!important` here to be able to override the default hidden behavior on the sphinx rendered scikit-learn.org. See: https://github.com/scikit-learn/scikit-learn/issues/21755 */display: inline-block !important;position: relative;}#sk-container-id-3 div.sk-text-repr-fallback {display: none;}</style><div id=\"sk-container-id-3\" class=\"sk-top-container\"><div class=\"sk-text-repr-fallback\"><pre>Pipeline(steps=[(&#x27;simpleimputer&#x27;, SimpleImputer(strategy=&#x27;median&#x27;)),\n",
              "                (&#x27;standardscaler&#x27;, StandardScaler()),\n",
              "                (&#x27;selectkbest&#x27;,\n",
              "                 SelectKBest(k=15,\n",
              "                             score_func=&lt;function f_regression at 0x7c7b709913f0&gt;)),\n",
              "                (&#x27;linearregression&#x27;, LinearRegression())])</pre><b>In a Jupyter environment, please rerun this cell to show the HTML representation or trust the notebook. <br />On GitHub, the HTML representation is unable to render, please try loading this page with nbviewer.org.</b></div><div class=\"sk-container\" hidden><div class=\"sk-item sk-dashed-wrapped\"><div class=\"sk-label-container\"><div class=\"sk-label sk-toggleable\"><input class=\"sk-toggleable__control sk-hidden--visually\" id=\"sk-estimator-id-10\" type=\"checkbox\" ><label for=\"sk-estimator-id-10\" class=\"sk-toggleable__label sk-toggleable__label-arrow\">Pipeline</label><div class=\"sk-toggleable__content\"><pre>Pipeline(steps=[(&#x27;simpleimputer&#x27;, SimpleImputer(strategy=&#x27;median&#x27;)),\n",
              "                (&#x27;standardscaler&#x27;, StandardScaler()),\n",
              "                (&#x27;selectkbest&#x27;,\n",
              "                 SelectKBest(k=15,\n",
              "                             score_func=&lt;function f_regression at 0x7c7b709913f0&gt;)),\n",
              "                (&#x27;linearregression&#x27;, LinearRegression())])</pre></div></div></div><div class=\"sk-serial\"><div class=\"sk-item\"><div class=\"sk-estimator sk-toggleable\"><input class=\"sk-toggleable__control sk-hidden--visually\" id=\"sk-estimator-id-11\" type=\"checkbox\" ><label for=\"sk-estimator-id-11\" class=\"sk-toggleable__label sk-toggleable__label-arrow\">SimpleImputer</label><div class=\"sk-toggleable__content\"><pre>SimpleImputer(strategy=&#x27;median&#x27;)</pre></div></div></div><div class=\"sk-item\"><div class=\"sk-estimator sk-toggleable\"><input class=\"sk-toggleable__control sk-hidden--visually\" id=\"sk-estimator-id-12\" type=\"checkbox\" ><label for=\"sk-estimator-id-12\" class=\"sk-toggleable__label sk-toggleable__label-arrow\">StandardScaler</label><div class=\"sk-toggleable__content\"><pre>StandardScaler()</pre></div></div></div><div class=\"sk-item\"><div class=\"sk-estimator sk-toggleable\"><input class=\"sk-toggleable__control sk-hidden--visually\" id=\"sk-estimator-id-13\" type=\"checkbox\" ><label for=\"sk-estimator-id-13\" class=\"sk-toggleable__label sk-toggleable__label-arrow\">SelectKBest</label><div class=\"sk-toggleable__content\"><pre>SelectKBest(k=15, score_func=&lt;function f_regression at 0x7c7b709913f0&gt;)</pre></div></div></div><div class=\"sk-item\"><div class=\"sk-estimator sk-toggleable\"><input class=\"sk-toggleable__control sk-hidden--visually\" id=\"sk-estimator-id-14\" type=\"checkbox\" ><label for=\"sk-estimator-id-14\" class=\"sk-toggleable__label sk-toggleable__label-arrow\">LinearRegression</label><div class=\"sk-toggleable__content\"><pre>LinearRegression()</pre></div></div></div></div></div></div></div>"
            ]
          },
          "metadata": {},
          "execution_count": 71
        }
      ],
      "source": [
        "pipe15.fit(X_train, y_train)"
      ]
    },
    {
      "cell_type": "markdown",
      "metadata": {
        "id": "o3RhZ_Do9asT"
      },
      "source": [
        "### 4.9.6 Assess performance on train and test data<a id='4.9.6_Assess_performance_on_train_and_test_data'></a>"
      ]
    },
    {
      "cell_type": "code",
      "execution_count": null,
      "metadata": {
        "id": "CcA8BNey9asU"
      },
      "outputs": [],
      "source": [
        "y_tr_pred = pipe15.predict(X_train)\n",
        "y_te_pred = pipe15.predict(X_test)"
      ]
    },
    {
      "cell_type": "code",
      "execution_count": null,
      "metadata": {
        "colab": {
          "base_uri": "https://localhost:8080/"
        },
        "id": "Yv7iNVEe9asU",
        "outputId": "4cb9b360-d5e4-4c26-b076-0e4fc27c2110"
      },
      "outputs": [
        {
          "output_type": "execute_result",
          "data": {
            "text/plain": [
              "(0.7924096060483825, 0.6376199973170793)"
            ]
          },
          "metadata": {},
          "execution_count": 73
        }
      ],
      "source": [
        "r2_score(y_train, y_tr_pred), r2_score(y_test, y_te_pred)"
      ]
    },
    {
      "cell_type": "code",
      "execution_count": null,
      "metadata": {
        "colab": {
          "base_uri": "https://localhost:8080/"
        },
        "id": "OKhArxBT9asU",
        "outputId": "738bc840-f40e-487e-a210-b62758f55038"
      },
      "outputs": [
        {
          "output_type": "execute_result",
          "data": {
            "text/plain": [
              "(9.211767769307116, 10.488246867294361)"
            ]
          },
          "metadata": {},
          "execution_count": 74
        }
      ],
      "source": [
        "mean_absolute_error(y_train, y_tr_pred), mean_absolute_error(y_test, y_te_pred)"
      ]
    },
    {
      "cell_type": "markdown",
      "metadata": {
        "id": "-qJOir6w9asU"
      },
      "source": [
        "You could keep going, trying different values of k, training a model, measuring performance on the test set, and then picking the model with the best test set performance. There's a fundamental problem with this approach: _you're tuning the model to the arbitrary test set_! If you continue this way you'll end up with a model works well on the particular quirks of our test set _but fails to generalize to new data_. The whole point of keeping a test set is for it to be a set of that new data, to check how well our model might perform on data it hasn't seen.\n",
        "\n",
        "The way around this is a technique called _cross-validation_. You partition the training set into k folds, train our model on k-1 of those folds, and calculate performance on the fold not used in training. This procedure then cycles through k times with a different fold held back each time. Thus you end up building k models on k sets of data with k estimates of how the model performs on unseen data but without having to touch the test set."
      ]
    },
    {
      "cell_type": "markdown",
      "metadata": {
        "id": "MnPmuqgW9asU"
      },
      "source": [
        "### 4.9.7 Assessing performance using cross-validation<a id='4.9.7_Assessing_performance_using_cross-validation'></a>"
      ]
    },
    {
      "cell_type": "code",
      "execution_count": null,
      "metadata": {
        "id": "Y-SR5Wjs9asU"
      },
      "outputs": [],
      "source": [
        "cv_results = cross_validate(\n",
        "      pipe15\n",
        "    , X_train\n",
        "    , y_train\n",
        "    , cv=5\n",
        ")"
      ]
    },
    {
      "cell_type": "code",
      "execution_count": null,
      "metadata": {
        "colab": {
          "base_uri": "https://localhost:8080/"
        },
        "id": "8jAWEk4B9asU",
        "outputId": "565ddc4e-3010-4c13-bd93-348ade5ccfc3"
      },
      "outputs": [
        {
          "output_type": "execute_result",
          "data": {
            "text/plain": [
              "array([0.63760862, 0.72831381, 0.74443537, 0.5487915 , 0.50441472])"
            ]
          },
          "metadata": {},
          "execution_count": 76
        }
      ],
      "source": [
        "cv_scores = cv_results['test_score']\n",
        "cv_scores"
      ]
    },
    {
      "cell_type": "markdown",
      "metadata": {
        "id": "MeBQl5tm9asU"
      },
      "source": [
        "Without using the same random state for initializing the CV folds, your actual numbers will be different."
      ]
    },
    {
      "cell_type": "code",
      "execution_count": null,
      "metadata": {
        "colab": {
          "base_uri": "https://localhost:8080/"
        },
        "id": "GyvTX1BG9asV",
        "outputId": "c38f5fdc-cbfc-4da1-e71c-bafdb118a2f2"
      },
      "outputs": [
        {
          "output_type": "execute_result",
          "data": {
            "text/plain": [
              "(0.6327128053007864, 0.09502487849877689)"
            ]
          },
          "metadata": {},
          "execution_count": 77
        }
      ],
      "source": [
        "np.mean(cv_scores), np.std(cv_scores)"
      ]
    },
    {
      "cell_type": "markdown",
      "metadata": {
        "id": "dHa9TDla9asV"
      },
      "source": [
        "These results highlight that assessing model performance in inherently open to variability. You'll get different results depending on the quirks of which points are in which fold. An advantage of this is that you can also obtain an estimate of the variability, or uncertainty, in your performance estimate."
      ]
    },
    {
      "cell_type": "code",
      "execution_count": null,
      "metadata": {
        "colab": {
          "base_uri": "https://localhost:8080/"
        },
        "id": "71cTPT2D9asV",
        "outputId": "31692cb5-1188-4d20-d869-dec174f19137"
      },
      "outputs": [
        {
          "output_type": "execute_result",
          "data": {
            "text/plain": [
              "array([0.44, 0.82])"
            ]
          },
          "metadata": {},
          "execution_count": 78
        }
      ],
      "source": [
        "np.round((np.mean(cv_scores) - 2 * np.std(cv_scores), np.mean(cv_scores) + 2 * np.std(cv_scores)), 2)"
      ]
    },
    {
      "cell_type": "markdown",
      "metadata": {
        "id": "30VLRMvE9asV"
      },
      "source": [
        "### 4.9.8 Hyperparameter search using GridSearchCV<a id='4.9.8_Hyperparameter_search_using_GridSearchCV'></a>"
      ]
    },
    {
      "cell_type": "markdown",
      "metadata": {
        "id": "mRtx5NK_9asV"
      },
      "source": [
        "Pulling the above together, we have:\n",
        "* a pipeline that\n",
        "    * imputes missing values\n",
        "    * scales the data\n",
        "    * selects the k best features\n",
        "    * trains a linear regression model\n",
        "* a technique (cross-validation) for estimating model performance\n",
        "\n",
        "Now you want to use cross-validation for multiple values of k and use cross-validation to pick the value of k that gives the best performance. `make_pipeline` automatically names each step as the lowercase name of the step and the parameters of the step are then accessed by appending a double underscore followed by the parameter name. You know the name of the step will be 'selectkbest' and you know the parameter is 'k'.\n",
        "\n",
        "You can also list the names of all the parameters in a pipeline like this:"
      ]
    },
    {
      "cell_type": "code",
      "execution_count": null,
      "metadata": {
        "colab": {
          "base_uri": "https://localhost:8080/"
        },
        "id": "gcbN3XOz9asV",
        "outputId": "f5420a56-5fc9-4726-d336-f7534985dbce"
      },
      "outputs": [
        {
          "output_type": "execute_result",
          "data": {
            "text/plain": [
              "dict_keys(['memory', 'steps', 'verbose', 'simpleimputer', 'standardscaler', 'selectkbest', 'linearregression', 'simpleimputer__add_indicator', 'simpleimputer__copy', 'simpleimputer__fill_value', 'simpleimputer__keep_empty_features', 'simpleimputer__missing_values', 'simpleimputer__strategy', 'simpleimputer__verbose', 'standardscaler__copy', 'standardscaler__with_mean', 'standardscaler__with_std', 'selectkbest__k', 'selectkbest__score_func', 'linearregression__copy_X', 'linearregression__fit_intercept', 'linearregression__n_jobs', 'linearregression__positive'])"
            ]
          },
          "metadata": {},
          "execution_count": 79
        }
      ],
      "source": [
        "#Code task 18#\n",
        "#Call `pipe`'s `get_params()` method to get a dict of available parameters and print their names\n",
        "#using dict's `keys()` method\n",
        "pipe.get_params().keys()"
      ]
    },
    {
      "cell_type": "markdown",
      "metadata": {
        "id": "43k-ehnH9asV"
      },
      "source": [
        "The above can be particularly useful as your pipelines becomes more complex (you can even nest pipelines within pipelines)."
      ]
    },
    {
      "cell_type": "code",
      "execution_count": null,
      "metadata": {
        "id": "3ZUd1jjV9asV"
      },
      "outputs": [],
      "source": [
        "k = [k+1 for k in range(len(X_train.columns))]\n",
        "grid_params = {'selectkbest__k': k}"
      ]
    },
    {
      "cell_type": "markdown",
      "metadata": {
        "id": "Z4H94qHX9asW"
      },
      "source": [
        "Now you have a range of `k` to investigate. Is 1 feature best? 2? 3? 4? All of them? You could write a for loop and iterate over each possible value, doing all the housekeeping oyurselves to track the best value of k. But this is  a common task so there's a built in function in `sklearn`. This is [`GridSearchCV`](https://scikit-learn.org/stable/modules/generated/sklearn.model_selection.GridSearchCV.html).\n",
        "This takes the pipeline object, in fact it takes anything with a `.fit()` and `.predict()` method. In simple cases with no feature selection or imputation or feature scaling etc. you may see the classifier or regressor object itself directly passed into `GridSearchCV`. The other key input is the parameters and values to search over. Optional parameters include the cross-validation strategy and number of CPUs to use."
      ]
    },
    {
      "cell_type": "code",
      "execution_count": null,
      "metadata": {
        "id": "0r_eTWZ19asW"
      },
      "outputs": [],
      "source": [
        "lr_grid_cv = GridSearchCV(\n",
        "      pipe\n",
        "    , param_grid=grid_params\n",
        "    , cv     = 5\n",
        "    , n_jobs = -1\n",
        ")"
      ]
    },
    {
      "cell_type": "code",
      "execution_count": null,
      "metadata": {
        "colab": {
          "base_uri": "https://localhost:8080/",
          "height": 222
        },
        "id": "x5bBVOk79asW",
        "outputId": "5e972c65-face-4f33-e883-01b4f051f6d1"
      },
      "outputs": [
        {
          "output_type": "execute_result",
          "data": {
            "text/plain": [
              "GridSearchCV(cv=5,\n",
              "             estimator=Pipeline(steps=[('simpleimputer',\n",
              "                                        SimpleImputer(strategy='median')),\n",
              "                                       ('standardscaler', StandardScaler()),\n",
              "                                       ('selectkbest',\n",
              "                                        SelectKBest(score_func=<function f_regression at 0x7c7b709913f0>)),\n",
              "                                       ('linearregression',\n",
              "                                        LinearRegression())]),\n",
              "             n_jobs=-1,\n",
              "             param_grid={'selectkbest__k': [1, 2, 3, 4, 5, 6, 7, 8, 9, 10, 11,\n",
              "                                            12, 13, 14, 15, 16, 17, 18, 19, 20,\n",
              "                                            21, 22, 23, 24, 25, 26, 27, 28, 29,\n",
              "                                            30, ...]})"
            ],
            "text/html": [
              "<style>#sk-container-id-4 {color: black;background-color: white;}#sk-container-id-4 pre{padding: 0;}#sk-container-id-4 div.sk-toggleable {background-color: white;}#sk-container-id-4 label.sk-toggleable__label {cursor: pointer;display: block;width: 100%;margin-bottom: 0;padding: 0.3em;box-sizing: border-box;text-align: center;}#sk-container-id-4 label.sk-toggleable__label-arrow:before {content: \"▸\";float: left;margin-right: 0.25em;color: #696969;}#sk-container-id-4 label.sk-toggleable__label-arrow:hover:before {color: black;}#sk-container-id-4 div.sk-estimator:hover label.sk-toggleable__label-arrow:before {color: black;}#sk-container-id-4 div.sk-toggleable__content {max-height: 0;max-width: 0;overflow: hidden;text-align: left;background-color: #f0f8ff;}#sk-container-id-4 div.sk-toggleable__content pre {margin: 0.2em;color: black;border-radius: 0.25em;background-color: #f0f8ff;}#sk-container-id-4 input.sk-toggleable__control:checked~div.sk-toggleable__content {max-height: 200px;max-width: 100%;overflow: auto;}#sk-container-id-4 input.sk-toggleable__control:checked~label.sk-toggleable__label-arrow:before {content: \"▾\";}#sk-container-id-4 div.sk-estimator input.sk-toggleable__control:checked~label.sk-toggleable__label {background-color: #d4ebff;}#sk-container-id-4 div.sk-label input.sk-toggleable__control:checked~label.sk-toggleable__label {background-color: #d4ebff;}#sk-container-id-4 input.sk-hidden--visually {border: 0;clip: rect(1px 1px 1px 1px);clip: rect(1px, 1px, 1px, 1px);height: 1px;margin: -1px;overflow: hidden;padding: 0;position: absolute;width: 1px;}#sk-container-id-4 div.sk-estimator {font-family: monospace;background-color: #f0f8ff;border: 1px dotted black;border-radius: 0.25em;box-sizing: border-box;margin-bottom: 0.5em;}#sk-container-id-4 div.sk-estimator:hover {background-color: #d4ebff;}#sk-container-id-4 div.sk-parallel-item::after {content: \"\";width: 100%;border-bottom: 1px solid gray;flex-grow: 1;}#sk-container-id-4 div.sk-label:hover label.sk-toggleable__label {background-color: #d4ebff;}#sk-container-id-4 div.sk-serial::before {content: \"\";position: absolute;border-left: 1px solid gray;box-sizing: border-box;top: 0;bottom: 0;left: 50%;z-index: 0;}#sk-container-id-4 div.sk-serial {display: flex;flex-direction: column;align-items: center;background-color: white;padding-right: 0.2em;padding-left: 0.2em;position: relative;}#sk-container-id-4 div.sk-item {position: relative;z-index: 1;}#sk-container-id-4 div.sk-parallel {display: flex;align-items: stretch;justify-content: center;background-color: white;position: relative;}#sk-container-id-4 div.sk-item::before, #sk-container-id-4 div.sk-parallel-item::before {content: \"\";position: absolute;border-left: 1px solid gray;box-sizing: border-box;top: 0;bottom: 0;left: 50%;z-index: -1;}#sk-container-id-4 div.sk-parallel-item {display: flex;flex-direction: column;z-index: 1;position: relative;background-color: white;}#sk-container-id-4 div.sk-parallel-item:first-child::after {align-self: flex-end;width: 50%;}#sk-container-id-4 div.sk-parallel-item:last-child::after {align-self: flex-start;width: 50%;}#sk-container-id-4 div.sk-parallel-item:only-child::after {width: 0;}#sk-container-id-4 div.sk-dashed-wrapped {border: 1px dashed gray;margin: 0 0.4em 0.5em 0.4em;box-sizing: border-box;padding-bottom: 0.4em;background-color: white;}#sk-container-id-4 div.sk-label label {font-family: monospace;font-weight: bold;display: inline-block;line-height: 1.2em;}#sk-container-id-4 div.sk-label-container {text-align: center;}#sk-container-id-4 div.sk-container {/* jupyter's `normalize.less` sets `[hidden] { display: none; }` but bootstrap.min.css set `[hidden] { display: none !important; }` so we also need the `!important` here to be able to override the default hidden behavior on the sphinx rendered scikit-learn.org. See: https://github.com/scikit-learn/scikit-learn/issues/21755 */display: inline-block !important;position: relative;}#sk-container-id-4 div.sk-text-repr-fallback {display: none;}</style><div id=\"sk-container-id-4\" class=\"sk-top-container\"><div class=\"sk-text-repr-fallback\"><pre>GridSearchCV(cv=5,\n",
              "             estimator=Pipeline(steps=[(&#x27;simpleimputer&#x27;,\n",
              "                                        SimpleImputer(strategy=&#x27;median&#x27;)),\n",
              "                                       (&#x27;standardscaler&#x27;, StandardScaler()),\n",
              "                                       (&#x27;selectkbest&#x27;,\n",
              "                                        SelectKBest(score_func=&lt;function f_regression at 0x7c7b709913f0&gt;)),\n",
              "                                       (&#x27;linearregression&#x27;,\n",
              "                                        LinearRegression())]),\n",
              "             n_jobs=-1,\n",
              "             param_grid={&#x27;selectkbest__k&#x27;: [1, 2, 3, 4, 5, 6, 7, 8, 9, 10, 11,\n",
              "                                            12, 13, 14, 15, 16, 17, 18, 19, 20,\n",
              "                                            21, 22, 23, 24, 25, 26, 27, 28, 29,\n",
              "                                            30, ...]})</pre><b>In a Jupyter environment, please rerun this cell to show the HTML representation or trust the notebook. <br />On GitHub, the HTML representation is unable to render, please try loading this page with nbviewer.org.</b></div><div class=\"sk-container\" hidden><div class=\"sk-item sk-dashed-wrapped\"><div class=\"sk-label-container\"><div class=\"sk-label sk-toggleable\"><input class=\"sk-toggleable__control sk-hidden--visually\" id=\"sk-estimator-id-15\" type=\"checkbox\" ><label for=\"sk-estimator-id-15\" class=\"sk-toggleable__label sk-toggleable__label-arrow\">GridSearchCV</label><div class=\"sk-toggleable__content\"><pre>GridSearchCV(cv=5,\n",
              "             estimator=Pipeline(steps=[(&#x27;simpleimputer&#x27;,\n",
              "                                        SimpleImputer(strategy=&#x27;median&#x27;)),\n",
              "                                       (&#x27;standardscaler&#x27;, StandardScaler()),\n",
              "                                       (&#x27;selectkbest&#x27;,\n",
              "                                        SelectKBest(score_func=&lt;function f_regression at 0x7c7b709913f0&gt;)),\n",
              "                                       (&#x27;linearregression&#x27;,\n",
              "                                        LinearRegression())]),\n",
              "             n_jobs=-1,\n",
              "             param_grid={&#x27;selectkbest__k&#x27;: [1, 2, 3, 4, 5, 6, 7, 8, 9, 10, 11,\n",
              "                                            12, 13, 14, 15, 16, 17, 18, 19, 20,\n",
              "                                            21, 22, 23, 24, 25, 26, 27, 28, 29,\n",
              "                                            30, ...]})</pre></div></div></div><div class=\"sk-parallel\"><div class=\"sk-parallel-item\"><div class=\"sk-item\"><div class=\"sk-label-container\"><div class=\"sk-label sk-toggleable\"><input class=\"sk-toggleable__control sk-hidden--visually\" id=\"sk-estimator-id-16\" type=\"checkbox\" ><label for=\"sk-estimator-id-16\" class=\"sk-toggleable__label sk-toggleable__label-arrow\">estimator: Pipeline</label><div class=\"sk-toggleable__content\"><pre>Pipeline(steps=[(&#x27;simpleimputer&#x27;, SimpleImputer(strategy=&#x27;median&#x27;)),\n",
              "                (&#x27;standardscaler&#x27;, StandardScaler()),\n",
              "                (&#x27;selectkbest&#x27;,\n",
              "                 SelectKBest(score_func=&lt;function f_regression at 0x7c7b709913f0&gt;)),\n",
              "                (&#x27;linearregression&#x27;, LinearRegression())])</pre></div></div></div><div class=\"sk-serial\"><div class=\"sk-item\"><div class=\"sk-serial\"><div class=\"sk-item\"><div class=\"sk-estimator sk-toggleable\"><input class=\"sk-toggleable__control sk-hidden--visually\" id=\"sk-estimator-id-17\" type=\"checkbox\" ><label for=\"sk-estimator-id-17\" class=\"sk-toggleable__label sk-toggleable__label-arrow\">SimpleImputer</label><div class=\"sk-toggleable__content\"><pre>SimpleImputer(strategy=&#x27;median&#x27;)</pre></div></div></div><div class=\"sk-item\"><div class=\"sk-estimator sk-toggleable\"><input class=\"sk-toggleable__control sk-hidden--visually\" id=\"sk-estimator-id-18\" type=\"checkbox\" ><label for=\"sk-estimator-id-18\" class=\"sk-toggleable__label sk-toggleable__label-arrow\">StandardScaler</label><div class=\"sk-toggleable__content\"><pre>StandardScaler()</pre></div></div></div><div class=\"sk-item\"><div class=\"sk-estimator sk-toggleable\"><input class=\"sk-toggleable__control sk-hidden--visually\" id=\"sk-estimator-id-19\" type=\"checkbox\" ><label for=\"sk-estimator-id-19\" class=\"sk-toggleable__label sk-toggleable__label-arrow\">SelectKBest</label><div class=\"sk-toggleable__content\"><pre>SelectKBest(score_func=&lt;function f_regression at 0x7c7b709913f0&gt;)</pre></div></div></div><div class=\"sk-item\"><div class=\"sk-estimator sk-toggleable\"><input class=\"sk-toggleable__control sk-hidden--visually\" id=\"sk-estimator-id-20\" type=\"checkbox\" ><label for=\"sk-estimator-id-20\" class=\"sk-toggleable__label sk-toggleable__label-arrow\">LinearRegression</label><div class=\"sk-toggleable__content\"><pre>LinearRegression()</pre></div></div></div></div></div></div></div></div></div></div></div></div>"
            ]
          },
          "metadata": {},
          "execution_count": 82
        }
      ],
      "source": [
        "lr_grid_cv.fit(X_train, y_train)"
      ]
    },
    {
      "cell_type": "code",
      "execution_count": null,
      "metadata": {
        "id": "9zUh6KkW9asW"
      },
      "outputs": [],
      "source": [
        "score_mean = lr_grid_cv.cv_results_['mean_test_score']\n",
        "score_std  = lr_grid_cv.cv_results_['std_test_score']\n",
        "cv_k = [k for k in lr_grid_cv.cv_results_['param_selectkbest__k']]"
      ]
    },
    {
      "cell_type": "code",
      "execution_count": null,
      "metadata": {
        "colab": {
          "base_uri": "https://localhost:8080/"
        },
        "id": "hCXl4yaW9asW",
        "outputId": "313fb229-b340-4599-fe20-861ace77528c"
      },
      "outputs": [
        {
          "output_type": "stream",
          "name": "stdout",
          "text": [
            "{'selectkbest__k': 8}\n"
          ]
        }
      ],
      "source": [
        "#Code task 19#\n",
        "#Print the `best_params_` attribute of `lr_grid_cv`\n",
        "print(lr_grid_cv.best_params_)"
      ]
    },
    {
      "cell_type": "code",
      "execution_count": null,
      "metadata": {
        "colab": {
          "base_uri": "https://localhost:8080/",
          "height": 564
        },
        "id": "ZLw5JPbu9asW",
        "outputId": "01d98ec6-9ceb-4a57-8718-92edac54de7e"
      },
      "outputs": [
        {
          "output_type": "display_data",
          "data": {
            "text/plain": [
              "<Figure size 800x600 with 1 Axes>"
            ],
            "image/png": "[encoded data removed]"
          },
          "metadata": {}
        }
      ],
      "source": [
        "#Code task 20#\n",
        "#Assign the value of k from the above dict of `best_params_` and assign it to `best_k`\n",
        "best_k = lr_grid_cv.best_params_['selectkbest__k']\n",
        "plt.subplots(\n",
        "    figsize=(8, 6)\n",
        ")\n",
        "\n",
        "plt.errorbar(\n",
        "      cv_k\n",
        "    , score_mean\n",
        "    , yerr = score_std\n",
        ")\n",
        "\n",
        "plt.axvline(\n",
        "      x     = best_k\n",
        "    , c     = 'r'\n",
        "    , ls    = '--'\n",
        "    , alpha = .5\n",
        ")\n",
        "\n",
        "plt.xlabel('k')\n",
        "plt.ylabel('CV score (r-squared)')\n",
        "plt.title('Pipeline mean CV score (error bars +/- 1sd)');"
      ]
    },
    {
      "cell_type": "markdown",
      "metadata": {
        "id": "SsYStr8K9asW"
      },
      "source": [
        "The above suggests a good value for k is 8. There was an initial rapid increase with k, followed by a slow decline. Also noticeable is the variance of the results greatly increase above k=8. As you increasingly overfit, expect greater swings in performance as different points move in and out of the train/test folds."
      ]
    },
    {
      "cell_type": "markdown",
      "metadata": {
        "id": "sifCA97z9asW"
      },
      "source": [
        "Which features were most useful? Step into your best model, shown below. Starting with the fitted grid search object, you get the best estimator, then the named step 'selectkbest', for which you can its `get_support()` method for a logical mask of the features selected."
      ]
    },
    {
      "cell_type": "code",
      "execution_count": null,
      "metadata": {
        "id": "6BzdbRwp9asW"
      },
      "outputs": [],
      "source": [
        "selected =  lr_grid_cv\\\n",
        "           .best_estimator_\\\n",
        "           .named_steps\\\n",
        "           .selectkbest\\\n",
        "           .get_support()"
      ]
    },
    {
      "cell_type": "markdown",
      "metadata": {
        "id": "tvX8HNoX9asX"
      },
      "source": [
        "Similarly, instead of using the 'selectkbest' named step, you can access the named step for the linear regression model and, from that, grab the model coefficients via its `coef_` attribute:"
      ]
    },
    {
      "cell_type": "code",
      "execution_count": null,
      "metadata": {
        "colab": {
          "base_uri": "https://localhost:8080/"
        },
        "id": "gNKrHNDk9asX",
        "outputId": "8fe1b343-3813-49cd-a8ce-cf40848b6efc"
      },
      "outputs": [
        {
          "output_type": "execute_result",
          "data": {
            "text/plain": [
              "vertical_drop        10.767857\n",
              "Snow Making_ac        6.290074\n",
              "total_chairs          5.794156\n",
              "fastQuads             5.745626\n",
              "Runs                  5.370555\n",
              "LongestRun_mi         0.181814\n",
              "trams                -4.142024\n",
              "SkiableTerrain_ac    -5.249780\n",
              "dtype: float64"
            ]
          },
          "metadata": {},
          "execution_count": 87
        }
      ],
      "source": [
        "#Code task 21#\n",
        "#Get the linear model coefficients from the `coef_` attribute and store in `coefs`,\n",
        "#get the matching feature names from the column names of the dataframe,\n",
        "#and display the results as a pandas Series with `coefs` as the values and `features` as the index,\n",
        "#sorting the values in descending order\n",
        "coefs =  lr_grid_cv\\\n",
        "        .best_estimator_\\\n",
        "        .named_steps\\\n",
        "        .linearregression\\\n",
        "        .coef_\n",
        "\n",
        "features = X_train.columns[selected]\n",
        "\n",
        "pd.Series(coefs, index=features).sort_values(ascending=False)"
      ]
    },
    {
      "cell_type": "markdown",
      "metadata": {
        "id": "Ph_bLAFM9asX"
      },
      "source": [
        "These results suggest that vertical drop is your biggest positive feature. This makes intuitive sense and is consistent with what you saw during the EDA work. Also, you see the area covered by snow making equipment is a strong positive as well. People like guaranteed skiing! The skiable terrain area is negatively associated with ticket price! This seems odd. People will pay less for larger resorts? There could be all manner of reasons for this. It could be  an effect whereby larger resorts can host more visitors at any one time and so can charge less per ticket. As has been mentioned previously, the data are missing information about visitor numbers. Bear in mind,  the coefficient for skiable terrain is negative _for this model_. For example, if you kept the total number of chairs and fastQuads constant, but increased the skiable terrain extent, you might imagine the resort is worse off because the chairlift capacity is stretched thinner."
      ]
    },
    {
      "cell_type": "markdown",
      "metadata": {
        "id": "ns4LxdWh9asX"
      },
      "source": [
        "## 4.10 Random Forest Model<a id='4.10_Random_Forest_Model'></a>"
      ]
    },
    {
      "cell_type": "markdown",
      "metadata": {
        "id": "Hw_4JZCE9asX"
      },
      "source": [
        "A model that can work very well in a lot of cases is the random forest. For regression, this is provided by `sklearn`'s `RandomForestRegressor` class.\n",
        "\n",
        "Time to stop the bad practice of repeatedly checking performance on the test split. Instead, go straight from defining the pipeline to assessing performance using cross-validation. `cross_validate` will perform the fitting as part of the process. This uses the default settings for the random forest so you'll then proceed to investigate some different hyperparameters."
      ]
    },
    {
      "cell_type": "markdown",
      "metadata": {
        "id": "T71oKfEl9asX"
      },
      "source": [
        "### 4.10.1 Define the pipeline<a id='4.10.1_Define_the_pipeline'></a>"
      ]
    },
    {
      "cell_type": "code",
      "execution_count": null,
      "metadata": {
        "id": "qzGEKdU09asX"
      },
      "outputs": [],
      "source": [
        "#Code task 22#\n",
        "#Define a pipeline comprising the steps:\n",
        "#SimpleImputer() with a strategy of 'median'\n",
        "#StandardScaler(),\n",
        "#and then RandomForestRegressor() with a random state of 47\n",
        "RF_pipe = make_pipeline(\n",
        "      SimpleImputer(strategy='median')\n",
        "    , StandardScaler()\n",
        "    , RandomForestRegressor(random_state=47)\n",
        ")"
      ]
    },
    {
      "cell_type": "markdown",
      "metadata": {
        "id": "_gj30YX-9asX"
      },
      "source": [
        "### 4.10.2 Fit and assess performance using cross-validation<a id='4.10.2_Fit_and_assess_performance_using_cross-validation'></a>"
      ]
    },
    {
      "cell_type": "code",
      "execution_count": null,
      "metadata": {
        "id": "qdehPjYD9asX"
      },
      "outputs": [],
      "source": [
        "#Code task 23#\n",
        "#Call `cross_validate` to estimate the pipeline's performance.\n",
        "#Pass it the random forest pipe object, `X_train` and `y_train`,\n",
        "#and get it to use 5-fold cross-validation\n",
        "rf_default_cv_results = cross_validate(\n",
        "      RF_pipe\n",
        "    , X_train\n",
        "    , y_train\n",
        "    , cv=5\n",
        ")"
      ]
    },
    {
      "cell_type": "code",
      "execution_count": null,
      "metadata": {
        "colab": {
          "base_uri": "https://localhost:8080/"
        },
        "id": "HdZXBBlx9asY",
        "outputId": "4199bc76-0efc-4188-bf28-5b621d0253a3"
      },
      "outputs": [
        {
          "output_type": "execute_result",
          "data": {
            "text/plain": [
              "array([0.69249204, 0.78061953, 0.77546915, 0.62190924, 0.61742339])"
            ]
          },
          "metadata": {},
          "execution_count": 90
        }
      ],
      "source": [
        "rf_cv_scores = rf_default_cv_results['test_score']\n",
        "rf_cv_scores"
      ]
    },
    {
      "cell_type": "code",
      "execution_count": null,
      "metadata": {
        "colab": {
          "base_uri": "https://localhost:8080/"
        },
        "id": "9Bj_1h9J9asY",
        "outputId": "f02ed55c-089b-4908-bb8a-b7069aea9708"
      },
      "outputs": [
        {
          "output_type": "execute_result",
          "data": {
            "text/plain": [
              "(0.6975826707112506, 0.07090742940774528)"
            ]
          },
          "metadata": {},
          "execution_count": 91
        }
      ],
      "source": [
        "np.mean(rf_cv_scores), np.std(rf_cv_scores)"
      ]
    },
    {
      "cell_type": "markdown",
      "metadata": {
        "id": "YRm8a3B-9asY"
      },
      "source": [
        "### 4.10.3 Hyperparameter search using GridSearchCV<a id='4.10.3_Hyperparameter_search_using_GridSearchCV'></a>"
      ]
    },
    {
      "cell_type": "markdown",
      "metadata": {
        "id": "YaoJKuUo9asY"
      },
      "source": [
        "Random forest has a number of hyperparameters that can be explored, however here you'll limit yourselves to exploring some different values for the number of trees. You'll try it with and without feature scaling, and try both the mean and median as strategies for imputing missing values."
      ]
    },
    {
      "cell_type": "code",
      "execution_count": null,
      "metadata": {
        "colab": {
          "base_uri": "https://localhost:8080/"
        },
        "id": "6q_bLICT9asY",
        "outputId": "829c18cd-7b35-475a-cd56-5cac6075b29d"
      },
      "outputs": [
        {
          "output_type": "execute_result",
          "data": {
            "text/plain": [
              "{'randomforestregressor__n_estimators': [10,\n",
              "  12,\n",
              "  16,\n",
              "  20,\n",
              "  26,\n",
              "  33,\n",
              "  42,\n",
              "  54,\n",
              "  69,\n",
              "  88,\n",
              "  112,\n",
              "  143,\n",
              "  183,\n",
              "  233,\n",
              "  297,\n",
              "  379,\n",
              "  483,\n",
              "  615,\n",
              "  784,\n",
              "  1000],\n",
              " 'standardscaler': [StandardScaler(), None],\n",
              " 'simpleimputer__strategy': ['mean', 'median']}"
            ]
          },
          "metadata": {},
          "execution_count": 92
        }
      ],
      "source": [
        "n_est = [int(n) for n in np.logspace(start=1, stop=3, num=20)]\n",
        "\n",
        "grid_params = {\n",
        "          'randomforestregressor__n_estimators' : n_est\n",
        "        , 'standardscaler'                      : [StandardScaler(), None]\n",
        "        , 'simpleimputer__strategy'             : ['mean', 'median']\n",
        "}\n",
        "\n",
        "grid_params"
      ]
    },
    {
      "cell_type": "code",
      "execution_count": null,
      "metadata": {
        "id": "y6JOf9NM9asY"
      },
      "outputs": [],
      "source": [
        "#Code task 24#\n",
        "#Call `GridSearchCV` with the random forest pipeline, passing in the above `grid_params`\n",
        "#dict for parameters to evaluate, 5-fold cross-validation, and all available CPU cores (if desired)\n",
        "rf_grid_cv = GridSearchCV(\n",
        "      RF_pipe\n",
        "    , param_grid=grid_params\n",
        "    , cv=5\n",
        "    , n_jobs=-1\n",
        ")"
      ]
    },
    {
      "cell_type": "code",
      "execution_count": null,
      "metadata": {
        "colab": {
          "base_uri": "https://localhost:8080/",
          "height": 187
        },
        "id": "dS8Vtkqd9asY",
        "outputId": "c2af5068-f3ab-4849-b64e-701d2e394a71"
      },
      "outputs": [
        {
          "output_type": "execute_result",
          "data": {
            "text/plain": [
              "GridSearchCV(cv=5,\n",
              "             estimator=Pipeline(steps=[('simpleimputer',\n",
              "                                        SimpleImputer(strategy='median')),\n",
              "                                       ('standardscaler', StandardScaler()),\n",
              "                                       ('randomforestregressor',\n",
              "                                        RandomForestRegressor(random_state=47))]),\n",
              "             n_jobs=-1,\n",
              "             param_grid={'randomforestregressor__n_estimators': [10, 12, 16, 20,\n",
              "                                                                 26, 33, 42, 54,\n",
              "                                                                 69, 88, 112,\n",
              "                                                                 143, 183, 233,\n",
              "                                                                 297, 379, 483,\n",
              "                                                                 615, 784,\n",
              "                                                                 1000],\n",
              "                         'simpleimputer__strategy': ['mean', 'median'],\n",
              "                         'standardscaler': [StandardScaler(), None]})"
            ],
            "text/html": [
              "<style>#sk-container-id-5 {color: black;background-color: white;}#sk-container-id-5 pre{padding: 0;}#sk-container-id-5 div.sk-toggleable {background-color: white;}#sk-container-id-5 label.sk-toggleable__label {cursor: pointer;display: block;width: 100%;margin-bottom: 0;padding: 0.3em;box-sizing: border-box;text-align: center;}#sk-container-id-5 label.sk-toggleable__label-arrow:before {content: \"▸\";float: left;margin-right: 0.25em;color: #696969;}#sk-container-id-5 label.sk-toggleable__label-arrow:hover:before {color: black;}#sk-container-id-5 div.sk-estimator:hover label.sk-toggleable__label-arrow:before {color: black;}#sk-container-id-5 div.sk-toggleable__content {max-height: 0;max-width: 0;overflow: hidden;text-align: left;background-color: #f0f8ff;}#sk-container-id-5 div.sk-toggleable__content pre {margin: 0.2em;color: black;border-radius: 0.25em;background-color: #f0f8ff;}#sk-container-id-5 input.sk-toggleable__control:checked~div.sk-toggleable__content {max-height: 200px;max-width: 100%;overflow: auto;}#sk-container-id-5 input.sk-toggleable__control:checked~label.sk-toggleable__label-arrow:before {content: \"▾\";}#sk-container-id-5 div.sk-estimator input.sk-toggleable__control:checked~label.sk-toggleable__label {background-color: #d4ebff;}#sk-container-id-5 div.sk-label input.sk-toggleable__control:checked~label.sk-toggleable__label {background-color: #d4ebff;}#sk-container-id-5 input.sk-hidden--visually {border: 0;clip: rect(1px 1px 1px 1px);clip: rect(1px, 1px, 1px, 1px);height: 1px;margin: -1px;overflow: hidden;padding: 0;position: absolute;width: 1px;}#sk-container-id-5 div.sk-estimator {font-family: monospace;background-color: #f0f8ff;border: 1px dotted black;border-radius: 0.25em;box-sizing: border-box;margin-bottom: 0.5em;}#sk-container-id-5 div.sk-estimator:hover {background-color: #d4ebff;}#sk-container-id-5 div.sk-parallel-item::after {content: \"\";width: 100%;border-bottom: 1px solid gray;flex-grow: 1;}#sk-container-id-5 div.sk-label:hover label.sk-toggleable__label {background-color: #d4ebff;}#sk-container-id-5 div.sk-serial::before {content: \"\";position: absolute;border-left: 1px solid gray;box-sizing: border-box;top: 0;bottom: 0;left: 50%;z-index: 0;}#sk-container-id-5 div.sk-serial {display: flex;flex-direction: column;align-items: center;background-color: white;padding-right: 0.2em;padding-left: 0.2em;position: relative;}#sk-container-id-5 div.sk-item {position: relative;z-index: 1;}#sk-container-id-5 div.sk-parallel {display: flex;align-items: stretch;justify-content: center;background-color: white;position: relative;}#sk-container-id-5 div.sk-item::before, #sk-container-id-5 div.sk-parallel-item::before {content: \"\";position: absolute;border-left: 1px solid gray;box-sizing: border-box;top: 0;bottom: 0;left: 50%;z-index: -1;}#sk-container-id-5 div.sk-parallel-item {display: flex;flex-direction: column;z-index: 1;position: relative;background-color: white;}#sk-container-id-5 div.sk-parallel-item:first-child::after {align-self: flex-end;width: 50%;}#sk-container-id-5 div.sk-parallel-item:last-child::after {align-self: flex-start;width: 50%;}#sk-container-id-5 div.sk-parallel-item:only-child::after {width: 0;}#sk-container-id-5 div.sk-dashed-wrapped {border: 1px dashed gray;margin: 0 0.4em 0.5em 0.4em;box-sizing: border-box;padding-bottom: 0.4em;background-color: white;}#sk-container-id-5 div.sk-label label {font-family: monospace;font-weight: bold;display: inline-block;line-height: 1.2em;}#sk-container-id-5 div.sk-label-container {text-align: center;}#sk-container-id-5 div.sk-container {/* jupyter's `normalize.less` sets `[hidden] { display: none; }` but bootstrap.min.css set `[hidden] { display: none !important; }` so we also need the `!important` here to be able to override the default hidden behavior on the sphinx rendered scikit-learn.org. See: https://github.com/scikit-learn/scikit-learn/issues/21755 */display: inline-block !important;position: relative;}#sk-container-id-5 div.sk-text-repr-fallback {display: none;}</style><div id=\"sk-container-id-5\" class=\"sk-top-container\"><div class=\"sk-text-repr-fallback\"><pre>GridSearchCV(cv=5,\n",
              "             estimator=Pipeline(steps=[(&#x27;simpleimputer&#x27;,\n",
              "                                        SimpleImputer(strategy=&#x27;median&#x27;)),\n",
              "                                       (&#x27;standardscaler&#x27;, StandardScaler()),\n",
              "                                       (&#x27;randomforestregressor&#x27;,\n",
              "                                        RandomForestRegressor(random_state=47))]),\n",
              "             n_jobs=-1,\n",
              "             param_grid={&#x27;randomforestregressor__n_estimators&#x27;: [10, 12, 16, 20,\n",
              "                                                                 26, 33, 42, 54,\n",
              "                                                                 69, 88, 112,\n",
              "                                                                 143, 183, 233,\n",
              "                                                                 297, 379, 483,\n",
              "                                                                 615, 784,\n",
              "                                                                 1000],\n",
              "                         &#x27;simpleimputer__strategy&#x27;: [&#x27;mean&#x27;, &#x27;median&#x27;],\n",
              "                         &#x27;standardscaler&#x27;: [StandardScaler(), None]})</pre><b>In a Jupyter environment, please rerun this cell to show the HTML representation or trust the notebook. <br />On GitHub, the HTML representation is unable to render, please try loading this page with nbviewer.org.</b></div><div class=\"sk-container\" hidden><div class=\"sk-item sk-dashed-wrapped\"><div class=\"sk-label-container\"><div class=\"sk-label sk-toggleable\"><input class=\"sk-toggleable__control sk-hidden--visually\" id=\"sk-estimator-id-21\" type=\"checkbox\" ><label for=\"sk-estimator-id-21\" class=\"sk-toggleable__label sk-toggleable__label-arrow\">GridSearchCV</label><div class=\"sk-toggleable__content\"><pre>GridSearchCV(cv=5,\n",
              "             estimator=Pipeline(steps=[(&#x27;simpleimputer&#x27;,\n",
              "                                        SimpleImputer(strategy=&#x27;median&#x27;)),\n",
              "                                       (&#x27;standardscaler&#x27;, StandardScaler()),\n",
              "                                       (&#x27;randomforestregressor&#x27;,\n",
              "                                        RandomForestRegressor(random_state=47))]),\n",
              "             n_jobs=-1,\n",
              "             param_grid={&#x27;randomforestregressor__n_estimators&#x27;: [10, 12, 16, 20,\n",
              "                                                                 26, 33, 42, 54,\n",
              "                                                                 69, 88, 112,\n",
              "                                                                 143, 183, 233,\n",
              "                                                                 297, 379, 483,\n",
              "                                                                 615, 784,\n",
              "                                                                 1000],\n",
              "                         &#x27;simpleimputer__strategy&#x27;: [&#x27;mean&#x27;, &#x27;median&#x27;],\n",
              "                         &#x27;standardscaler&#x27;: [StandardScaler(), None]})</pre></div></div></div><div class=\"sk-parallel\"><div class=\"sk-parallel-item\"><div class=\"sk-item\"><div class=\"sk-label-container\"><div class=\"sk-label sk-toggleable\"><input class=\"sk-toggleable__control sk-hidden--visually\" id=\"sk-estimator-id-22\" type=\"checkbox\" ><label for=\"sk-estimator-id-22\" class=\"sk-toggleable__label sk-toggleable__label-arrow\">estimator: Pipeline</label><div class=\"sk-toggleable__content\"><pre>Pipeline(steps=[(&#x27;simpleimputer&#x27;, SimpleImputer(strategy=&#x27;median&#x27;)),\n",
              "                (&#x27;standardscaler&#x27;, StandardScaler()),\n",
              "                (&#x27;randomforestregressor&#x27;,\n",
              "                 RandomForestRegressor(random_state=47))])</pre></div></div></div><div class=\"sk-serial\"><div class=\"sk-item\"><div class=\"sk-serial\"><div class=\"sk-item\"><div class=\"sk-estimator sk-toggleable\"><input class=\"sk-toggleable__control sk-hidden--visually\" id=\"sk-estimator-id-23\" type=\"checkbox\" ><label for=\"sk-estimator-id-23\" class=\"sk-toggleable__label sk-toggleable__label-arrow\">SimpleImputer</label><div class=\"sk-toggleable__content\"><pre>SimpleImputer(strategy=&#x27;median&#x27;)</pre></div></div></div><div class=\"sk-item\"><div class=\"sk-estimator sk-toggleable\"><input class=\"sk-toggleable__control sk-hidden--visually\" id=\"sk-estimator-id-24\" type=\"checkbox\" ><label for=\"sk-estimator-id-24\" class=\"sk-toggleable__label sk-toggleable__label-arrow\">StandardScaler</label><div class=\"sk-toggleable__content\"><pre>StandardScaler()</pre></div></div></div><div class=\"sk-item\"><div class=\"sk-estimator sk-toggleable\"><input class=\"sk-toggleable__control sk-hidden--visually\" id=\"sk-estimator-id-25\" type=\"checkbox\" ><label for=\"sk-estimator-id-25\" class=\"sk-toggleable__label sk-toggleable__label-arrow\">RandomForestRegressor</label><div class=\"sk-toggleable__content\"><pre>RandomForestRegressor(random_state=47)</pre></div></div></div></div></div></div></div></div></div></div></div></div>"
            ]
          },
          "metadata": {},
          "execution_count": 94
        }
      ],
      "source": [
        "#Code task 25#\n",
        "#Now call the `GridSearchCV`'s `fit()` method with `X_train` and `y_train` as arguments\n",
        "#to actually start the grid search. This may take a minute or two.\n",
        "rf_grid_cv.fit(\n",
        "      X_train\n",
        "    , y_train\n",
        ")"
      ]
    },
    {
      "cell_type": "code",
      "execution_count": null,
      "metadata": {
        "colab": {
          "base_uri": "https://localhost:8080/"
        },
        "id": "WyarqKoh9asZ",
        "outputId": "8b83aee0-55af-409d-89fb-9b1b49378c54"
      },
      "outputs": [
        {
          "output_type": "stream",
          "name": "stdout",
          "text": [
            "{'randomforestregressor__n_estimators': 69, 'simpleimputer__strategy': 'median', 'standardscaler': None}\n"
          ]
        }
      ],
      "source": [
        "#Code task 26#\n",
        "#Print the best params (`best_params_` attribute) from the grid search\n",
        "print(rf_grid_cv.best_params_)"
      ]
    },
    {
      "cell_type": "markdown",
      "metadata": {
        "id": "5KTuR-zS9asZ"
      },
      "source": [
        "It looks like imputing with the median helps, but scaling the features doesn't."
      ]
    },
    {
      "cell_type": "code",
      "execution_count": null,
      "metadata": {
        "colab": {
          "base_uri": "https://localhost:8080/"
        },
        "id": "v8gIDe5B9asZ",
        "outputId": "633a37cc-beb0-484c-fbe5-3bb4728ac9f3"
      },
      "outputs": [
        {
          "output_type": "execute_result",
          "data": {
            "text/plain": [
              "array([0.6951357 , 0.79430697, 0.77170917, 0.62254707, 0.66499334])"
            ]
          },
          "metadata": {},
          "execution_count": 96
        }
      ],
      "source": [
        "rf_best_cv_results = cross_validate(\n",
        "      rf_grid_cv.best_estimator_\n",
        "    , X_train\n",
        "    , y_train\n",
        "    , cv=5\n",
        ")\n",
        "\n",
        "rf_best_scores = rf_best_cv_results['test_score']\n",
        "rf_best_scores"
      ]
    },
    {
      "cell_type": "code",
      "execution_count": null,
      "metadata": {
        "colab": {
          "base_uri": "https://localhost:8080/"
        },
        "id": "SHcYVi199asZ",
        "outputId": "9295bbca-6fce-4d83-cc9d-984d2dd80f1b"
      },
      "outputs": [
        {
          "output_type": "execute_result",
          "data": {
            "text/plain": [
              "(0.7097384501425082, 0.06451341966873386)"
            ]
          },
          "metadata": {},
          "execution_count": 97
        }
      ],
      "source": [
        "np.mean(rf_best_scores), np.std(rf_best_scores)"
      ]
    },
    {
      "cell_type": "markdown",
      "metadata": {
        "id": "VVziovak9asZ"
      },
      "source": [
        "You've marginally improved upon the default CV results. Random forest has many more hyperparameters you could tune, but we won't dive into that here."
      ]
    },
    {
      "cell_type": "code",
      "execution_count": null,
      "metadata": {
        "colab": {
          "base_uri": "https://localhost:8080/",
          "height": 713
        },
        "id": "UzYnoKWn9asZ",
        "outputId": "a79d4ef9-b199-4db9-d6f6-b876a189904f"
      },
      "outputs": [
        {
          "output_type": "display_data",
          "data": {
            "text/plain": [
              "<Figure size 1000x500 with 1 Axes>"
            ],
            "image/png": "[encoded data removed]"
          },
          "metadata": {}
        }
      ],
      "source": [
        "#Code task 27#\n",
        "#Plot a barplot of the random forest's feature importances,\n",
        "#assigning the `feature_importances_` attribute of\n",
        "#`rf_grid_cv.best_estimator_.named_steps.randomforestregressor` to the name `imps` to then\n",
        "#create a pandas Series object of the feature importances, with the index given by the\n",
        "#training data column names, sorting the values in descending order\n",
        "plt.subplots(figsize=(10, 5))\n",
        "\n",
        "imps =  rf_grid_cv\\\n",
        "       .best_estimator_\\\n",
        "       .named_steps\\\n",
        "       .randomforestregressor\\\n",
        "       .feature_importances_\n",
        "\n",
        "rf_feat_imps = pd.Series(imps, index=X_train.columns).sort_values(ascending=False)\n",
        "rf_feat_imps.plot(kind='bar')\n",
        "plt.xlabel('features')\n",
        "plt.ylabel('importance')\n",
        "plt.title('Best random forest regressor feature importances');"
      ]
    },
    {
      "cell_type": "markdown",
      "metadata": {
        "id": "dyg1Hau49asZ"
      },
      "source": [
        "Encouragingly, the dominant top four features are in common with your linear model:\n",
        "* <code>fastQuads</code>\n",
        "* <code>Runs</code>\n",
        "* <code>Snow Making_ac</code>\n",
        "* <code>vertical_drop</code>"
      ]
    },
    {
      "cell_type": "markdown",
      "metadata": {
        "id": "XC3RycgO9asa"
      },
      "source": [
        "## 4.11 Final Model Selection<a id='4.11_Final_Model_Selection'></a>"
      ]
    },
    {
      "cell_type": "markdown",
      "metadata": {
        "id": "ErshnzOv9asa"
      },
      "source": [
        "Time to select your final model to use for further business modeling! It would be good to revisit the above model selection; there is undoubtedly more that could be done to explore possible hyperparameters.\n",
        "It would also be worthwhile to investigate removing the least useful features. Gathering or calculating, and storing, features adds business cost and dependencies, so if features genuinely are not needed they should be removed.\n",
        "Building a simpler model with fewer features can also have the advantage of being easier to sell (and/or explain) to stakeholders.\n",
        "Certainly there seem to be four strong features here and so a model using only those would probably work well.\n",
        "However, you want to explore some different scenarios where other features vary so keep the fuller\n",
        "model for now.\n",
        "The business is waiting for this model and you have something that you have confidence in to be much better than guessing with the average price.\n",
        "\n",
        "Or, rather, you have two \"somethings\". You built a best linear model and a best random forest model. You need to finally choose between them. You can calculate the mean absolute error using cross-validation. Although `cross-validate` defaults to the $R^2$ [metric for scoring](https://scikit-learn.org/stable/modules/model_evaluation.html#scoring) regression, you can specify the mean absolute error as an alternative via\n",
        "the `scoring` parameter."
      ]
    },
    {
      "cell_type": "markdown",
      "metadata": {
        "id": "7XBK11Tq9asa"
      },
      "source": [
        "### 4.11.1 Linear regression model performance<a id='4.11.1_Linear_regression_model_performance'></a>"
      ]
    },
    {
      "cell_type": "code",
      "execution_count": null,
      "metadata": {
        "id": "xFP3LfRA9asa"
      },
      "outputs": [],
      "source": [
        "# 'neg_mean_absolute_error' uses the (negative of) the mean absolute error\n",
        "lr_neg_mae = cross_validate(\n",
        "      lr_grid_cv.best_estimator_\n",
        "    , X_train\n",
        "    , y_train\n",
        "    , scoring = 'neg_mean_absolute_error'\n",
        "    , cv      = 5\n",
        "    , n_jobs  = -1\n",
        ")"
      ]
    },
    {
      "cell_type": "code",
      "execution_count": null,
      "metadata": {
        "colab": {
          "base_uri": "https://localhost:8080/"
        },
        "id": "A2N9Gy169asa",
        "outputId": "d039f6b5-fb70-48f3-dcd3-4ba9d85c53b5"
      },
      "outputs": [
        {
          "output_type": "execute_result",
          "data": {
            "text/plain": [
              "(10.499032338015294, 1.6220608976799653)"
            ]
          },
          "metadata": {},
          "execution_count": 100
        }
      ],
      "source": [
        "lr_mae_mean = np.mean(-1 * lr_neg_mae['test_score'])\n",
        "lr_mae_std  = np.std( -1 * lr_neg_mae['test_score'])\n",
        "lr_mae_mean, lr_mae_std"
      ]
    },
    {
      "cell_type": "code",
      "execution_count": null,
      "metadata": {
        "colab": {
          "base_uri": "https://localhost:8080/"
        },
        "id": "xgvxGy819asa",
        "outputId": "4a72a28c-6b2a-43a7-8481-948130e885db"
      },
      "outputs": [
        {
          "output_type": "execute_result",
          "data": {
            "text/plain": [
              "11.793465668669324"
            ]
          },
          "metadata": {},
          "execution_count": 101
        }
      ],
      "source": [
        "mean_absolute_error(\n",
        "      y_test\n",
        "    , lr_grid_cv.best_estimator_.predict(X_test)\n",
        ")"
      ]
    },
    {
      "cell_type": "markdown",
      "metadata": {
        "id": "jnNKcSOi9asa"
      },
      "source": [
        "### 4.11.2 Random forest regression model performance<a id='4.11.2_Random_forest_regression_model_performance'></a>"
      ]
    },
    {
      "cell_type": "code",
      "execution_count": null,
      "metadata": {
        "id": "UJqdhHnh9asa"
      },
      "outputs": [],
      "source": [
        "rf_neg_mae = cross_validate(\n",
        "      rf_grid_cv.best_estimator_\n",
        "    , X_train\n",
        "    , y_train\n",
        "    , scoring = 'neg_mean_absolute_error'\n",
        "    , cv      = 5\n",
        "    , n_jobs  = -1\n",
        ")"
      ]
    },
    {
      "cell_type": "code",
      "execution_count": null,
      "metadata": {
        "colab": {
          "base_uri": "https://localhost:8080/"
        },
        "id": "7ihBJNr19asb",
        "outputId": "0a72d542-0dfc-489b-c1a3-d5ec6b8eb1bb"
      },
      "outputs": [
        {
          "output_type": "execute_result",
          "data": {
            "text/plain": [
              "(9.644639167595688, 1.3528565172191818)"
            ]
          },
          "metadata": {},
          "execution_count": 103
        }
      ],
      "source": [
        "rf_mae_mean = np.mean(-1 * rf_neg_mae['test_score'])\n",
        "rf_mae_std  = np.std( -1 * rf_neg_mae['test_score'])\n",
        "rf_mae_mean, rf_mae_std"
      ]
    },
    {
      "cell_type": "code",
      "execution_count": null,
      "metadata": {
        "colab": {
          "base_uri": "https://localhost:8080/"
        },
        "id": "lSsxYpEo9asb",
        "outputId": "0212dfca-0668-4b1b-c2ca-bd32886bf4bf"
      },
      "outputs": [
        {
          "output_type": "execute_result",
          "data": {
            "text/plain": [
              "9.537730050637332"
            ]
          },
          "metadata": {},
          "execution_count": 104
        }
      ],
      "source": [
        "mean_absolute_error(\n",
        "      y_test\n",
        "    , rf_grid_cv.best_estimator_.predict(X_test)\n",
        ")"
      ]
    },
    {
      "cell_type": "markdown",
      "metadata": {
        "id": "0VAUGeyj9asb"
      },
      "source": [
        "### 4.11.3 Conclusion<a id='4.11.3_Conclusion'></a>"
      ]
    },
    {
      "cell_type": "markdown",
      "metadata": {
        "id": "4shHbJpc9asb"
      },
      "source": [
        "The random forest model has a lower cross-validation mean absolute error by almost \\\\$1. It also exhibits less variability. Verifying performance on the test set produces performance consistent with the cross-validation results."
      ]
    },
    {
      "cell_type": "markdown",
      "metadata": {
        "id": "cQP47pDZ9asb"
      },
      "source": [
        "## 4.12 Data quantity assessment<a id='4.12_Data_quantity_assessment'></a>"
      ]
    },
    {
      "cell_type": "markdown",
      "metadata": {
        "id": "T_M5m9of9asb"
      },
      "source": [
        "Finally, you need to advise the business whether it needs to undertake further data collection. Would more data be useful? We're often led to believe more data is always good, but gathering data invariably has a cost associated with it. Assess this trade off by seeing how performance varies with differing data set sizes. The `learning_curve` function does this conveniently."
      ]
    },
    {
      "cell_type": "code",
      "execution_count": null,
      "metadata": {
        "id": "B4VNc_3S9asb"
      },
      "outputs": [],
      "source": [
        "fractions = [.2, .25, .3, .35, .4, .45, .5, .6, .75, .8, 1.0]\n",
        "\n",
        "train_size, train_scores, test_scores = learning_curve(pipe, X_train, y_train, train_sizes=fractions)\n",
        "\n",
        "train_scores_mean = np.mean(train_scores, axis=1)\n",
        "train_scores_std  = np.std(train_scores , axis=1)\n",
        "test_scores_mean  = np.mean(test_scores , axis=1)\n",
        "test_scores_std   = np.std(test_scores  , axis=1)"
      ]
    },
    {
      "cell_type": "code",
      "execution_count": null,
      "metadata": {
        "colab": {
          "base_uri": "https://localhost:8080/",
          "height": 333
        },
        "id": "JZY_ii7g9asb",
        "outputId": "cb97258a-bb04-444e-f522-f13aebc1fdd8"
      },
      "outputs": [
        {
          "output_type": "display_data",
          "data": {
            "text/plain": [
              "<Figure size 500x300 with 1 Axes>"
            ],
            "image/png": "[encoded data removed]"
          },
          "metadata": {}
        }
      ],
      "source": [
        "plt.subplots(\n",
        "    figsize=(5, 3)\n",
        ")\n",
        "\n",
        "plt.errorbar(\n",
        "      train_size\n",
        "    , test_scores_mean\n",
        "    , yerr=test_scores_std\n",
        ")\n",
        "\n",
        "plt.xlabel('Training set size')\n",
        "plt.ylabel('CV scores')\n",
        "plt.title('Cross-validation score as training set size increases');"
      ]
    },
    {
      "cell_type": "markdown",
      "metadata": {
        "id": "MxaHmyJX9asc"
      },
      "source": [
        "This shows that you seem to have plenty of data. There's an initial rapid improvement in model scores as one would expect, but it's essentially levelled off by around a sample size of 40-50."
      ]
    },
    {
      "cell_type": "markdown",
      "metadata": {
        "id": "NmTOT4be9asc"
      },
      "source": [
        "## 4.13 Save best model object from pipeline<a id='4.13_Save_best_model_object_from_pipeline'></a>"
      ]
    },
    {
      "cell_type": "code",
      "execution_count": null,
      "metadata": {
        "id": "exBI2B0f9asc"
      },
      "outputs": [],
      "source": [
        "#Code task 28#\n",
        "#This may not be \"production grade ML deployment\" practice, but adding some basic\n",
        "#information to your saved models can save your bacon in development.\n",
        "#Just what version model have you just loaded to reuse? What version of `sklearn`\n",
        "#created it? When did you make it?\n",
        "#Assign the pandas version number (`pd.__version__`) to the `pandas_version` attribute,\n",
        "#the numpy version (`np.__version__`) to the `numpy_version` attribute,\n",
        "#the sklearn version (`sklearn_version`) to the `sklearn_version` attribute,\n",
        "#and the current datetime (`datetime.datetime.now()`) to the `build_datetime` attribute\n",
        "#Let's call this model version '1.0'\n",
        "\n",
        "best_model                 = rf_grid_cv.best_estimator_\n",
        "best_model.version         = '1.0'\n",
        "best_model.pandas_version  = pd.__version__\n",
        "best_model.numpy_version   = np.__version__\n",
        "best_model.sklearn_version = sklearn_version\n",
        "best_model.X_columns       = [col for col in X_train.columns]\n",
        "best_model.build_datetime  = datetime.datetime.now()"
      ]
    },
    {
      "cell_type": "code",
      "execution_count": null,
      "metadata": {
        "colab": {
          "base_uri": "https://localhost:8080/"
        },
        "id": "i0PPg_Na9asc",
        "outputId": "eaba8db2-20ce-4989-f87e-56a20acf48ec"
      },
      "outputs": [
        {
          "output_type": "stream",
          "name": "stdout",
          "text": [
            "Directory /content/drive/MyDrive/Colab Notebooks/models was created.\n",
            "Writing file.  \"/content/drive/MyDrive/Colab Notebooks/models/ski_resort_pricing_model.pkl\"\n"
          ]
        }
      ],
      "source": [
        "# save the model\n",
        "\n",
        "modelpath = '/content/drive/MyDrive/Colab Notebooks/models'\n",
        "\n",
        "save_file(\n",
        "      best_model\n",
        "    , 'ski_resort_pricing_model.pkl'\n",
        "    , modelpath\n",
        ")"
      ]
    },
    {
      "cell_type": "markdown",
      "metadata": {
        "id": "gLCifDik9asc"
      },
      "source": [
        "## 4.14 Summary<a id='4.14_Summary'></a>"
      ]
    },
    {
      "cell_type": "markdown",
      "metadata": {
        "id": "ya892IHl9asc"
      },
      "source": [
        "**Q: 1** Write a summary of the work in this notebook. Capture the fact that you gained a baseline idea of performance by simply taking the average price and how well that did. Then highlight that you built a linear model and the features that found. Comment on the estimate of its performance from cross-validation and whether its performance on the test split was consistent with this estimate. Also highlight that a random forest regressor was tried, what preprocessing steps were found to be best, and again what its estimated performance via cross-validation was and whether its performance on the test set was consistent with that. State which model you have decided to use going forwards and why. This summary should provide a quick overview for someone wanting to know quickly why the given model was chosen for the next part of the business problem to help guide important business decisions."
      ]
    },
    {
      "cell_type": "markdown",
      "metadata": {
        "id": "Y8ojO1hD9asc"
      },
      "source": [
        "**A: 1** This notebook represents the fourth step in the analysis of the ski dataset. This stage entails the creation of a machine-learning model aimed at predicting ski resort ticket prices, using the preprocessed dataset from earlier stages (i.e., <code>ski_data_step3_features.csv</code>), which was developed in <b>Steps 2</b> and <b>3</b> of the same case study.\n",
        "\n",
        "The model's prediction started with a baseline (reference) established as the mean of all data points. This simple starting point served as a basic benchmark, enabling the evaluation of the more intricate machine learning models that followed. Moving forward, our efforts focused on enhancing predictive accuracy by incorporating more sophisticated Machine Learning techniques, which included the following:\n",
        "\n",
        "<b>Linear Regression</b>: This model was created utilizing four key parameters: 'fastQuads', 'Runs', 'Snow Making_ac', and 'vertical_drop'. Model performance assessment was executed through cross-validation (CV), yielding an average Mean Absolute Error ($\\text{MAE}$) of around $10.4$.\n",
        "\n",
        "<b>Random Forest Regressor</b>: This model emerged as the preferred choice for future steps, surpassing the performance of the Linear Regression model with an $\\text{MAE}$ of approximately $9.5$.\n",
        "\n",
        "Comparative analysis of the two models, evaluated using cross-validation and $\\text{MAE}$, revealed the Random Forest model's superiority. It showcased a lower $\\text{MAE}$ and reduced variability when compared to the Linear Regression model. This outcome solidified the Random Forest model's position as the optimal selection for subsequent deployment (<b>Steps5</b> and <b>6</b>)."
      ]
    }
  ],
  "metadata": {
    "kernelspec": {
      "display_name": "Python 3",
      "name": "python3"
    },
    "language_info": {
      "codemirror_mode": {
        "name": "ipython",
        "version": 3
      },
      "file_extension": ".py",
      "mimetype": "text/x-python",
      "name": "python",
      "nbconvert_exporter": "python",
      "pygments_lexer": "ipython3",
      "version": "3.7.9"
    },
    "toc": {
      "base_numbering": 1,
      "nav_menu": {},
      "number_sections": true,
      "sideBar": true,
      "skip_h1_title": false,
      "title_cell": "Table of Contents",
      "title_sidebar": "Contents",
      "toc_cell": false,
      "toc_position": {},
      "toc_section_display": true,
      "toc_window_display": true
    },
    "varInspector": {
      "cols": {
        "lenName": 16,
        "lenType": 16,
        "lenVar": 40
      },
      "kernels_config": {
        "python": {
          "delete_cmd_postfix": "",
          "delete_cmd_prefix": "del ",
          "library": "var_list.py",
          "varRefreshCmd": "print(var_dic_list())"
        },
        "r": {
          "delete_cmd_postfix": ") ",
          "delete_cmd_prefix": "rm(",
          "library": "var_list.r",
          "varRefreshCmd": "cat(var_dic_list()) "
        }
      },
      "types_to_exclude": [
        "module",
        "function",
        "builtin_function_or_method",
        "instance",
        "_Feature"
      ],
      "window_display": false
    },
    "colab": {
      "provenance": [],
      "machine_shape": "hm",
      "gpuType": "T4",
      "toc_visible": true
    },
    "accelerator": "GPU"
  },
  "nbformat": 4,
  "nbformat_minor": 0
}